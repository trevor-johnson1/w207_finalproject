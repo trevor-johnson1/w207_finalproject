{
 "cells": [
  {
   "cell_type": "markdown",
   "metadata": {},
   "source": [
    "# House Prices - Advanced Regression Techniques\n",
    "\n",
    "## Deva Kulkarni, Jared Dec, Marc Semonick, Trevor Johnson\n",
    "\n",
    "## October 2021\n",
    "\n",
    "<br>\n",
    "\n",
    "Competition Link: https://www.kaggle.com/c/house-prices-advanced-regression-techniques\n",
    "\n",
    "Goal: Predict sales price for each house (`SalePrice`). RMSE on log(pred) - log(actual) will be the evaluation metric. \n",
    "\n",
    "Inference Problem:  Given known variables about a house, accurately predict its sale price.\n",
    "\n",
    "Deliverable: Final submission dataset should contain only the two fields `ID` and `SalePrice`. "
   ]
  },
  {
   "cell_type": "markdown",
   "metadata": {},
   "source": [
    "# Setups"
   ]
  },
  {
   "cell_type": "markdown",
   "metadata": {},
   "source": [
    "Import modules"
   ]
  },
  {
   "cell_type": "code",
   "execution_count": 1,
   "metadata": {},
   "outputs": [],
   "source": [
    "# basics\n",
    "import math\n",
    "import os \n",
    "\n",
    "# data manipulation/viz\n",
    "import pandas as pd \n",
    "import numpy as np \n",
    "import seaborn as sns\n",
    "import matplotlib.pyplot as plt\n",
    "\n",
    "# modeling\n",
    "from patsy import dmatrices\n",
    "import statsmodels.api as sm\n",
    "from statsmodels.formula.api import glm \n",
    "from sklearn.model_selection import RandomizedSearchCV\n",
    "from sklearn.model_selection import train_test_split\n",
    "from sklearn.model_selection import GridSearchCV\n",
    "\n",
    "# linear modeling\n",
    "from sklearn.linear_model import Lasso\n",
    "from sklearn.preprocessing import StandardScaler, MinMaxScaler\n",
    "# tree modeling\n",
    "from sklearn.tree import DecisionTreeRegressor\n",
    "from sklearn.ensemble import RandomForestRegressor\n",
    "\n",
    "#K-Fold cross-validation\n",
    "from numpy import mean\n",
    "from numpy import std\n",
    "from numpy import absolute\n",
    "from sklearn.model_selection import cross_val_score\n",
    "from sklearn.model_selection import RepeatedKFold\n",
    "\n",
    "# scale the data\n",
    "from sklearn.preprocessing import StandardScaler\n",
    "\n",
    "# Ridge Regression\n",
    "from sklearn.linear_model import Ridge\n",
    "from sklearn.linear_model import ElasticNet"
   ]
  },
  {
   "cell_type": "markdown",
   "metadata": {},
   "source": [
    "Load in the data"
   ]
  },
  {
   "cell_type": "code",
   "execution_count": 2,
   "metadata": {},
   "outputs": [
    {
     "name": "stdout",
     "output_type": "stream",
     "text": [
      "(1459, 80)\n",
      "(1460, 81)\n"
     ]
    }
   ],
   "source": [
    "# # optional directory set-up\n",
    "# working_dir = !pwd\n",
    "# train = pd.read_csv(os.path.join(working_dir[0], \"../../housing_data\", \"train.csv\"))\n",
    "# test = pd.read_csv(os.path.join(working_dir[0], \"../../housing_data\", \"test.csv\"))\n",
    "# sample = pd.read_csv(os.path.join(working_dir[0], \"../../housing_data\", \"sample_submission.csv\"))\n",
    "\n",
    "# Load data (Specific to Deva)\n",
    "test = pd.read_csv(\"../../housing_data/test.csv\")\n",
    "train = pd.read_csv(\"../../housing_data/train.csv\")\n",
    "sample = pd.read_csv(\"../../housing_data/sample_submission.csv\")\n",
    "print(test.shape)\n",
    "print(train.shape)"
   ]
  },
  {
   "cell_type": "code",
   "execution_count": null,
   "metadata": {},
   "outputs": [],
   "source": []
  },
  {
   "cell_type": "code",
   "execution_count": 3,
   "metadata": {},
   "outputs": [],
   "source": [
    "# train =pd.read_csv('C:/Users/19258/Downloads/house-prices-advanced-regression-techniques/train.csv')\n",
    "# test = pd.read_csv(\"C:/Users/19258/Downloads/house-prices-advanced-regression-techniques/test.csv\")\n",
    "# sample = pd.read_csv(\"C:/Users/19258/Downloads/house-prices-advanced-regression-techniques/sample_submission.csv\")\n",
    "\n",
    "# print(\"train shape: {}\".format(train.shape))\n",
    "# print(\"test shape: {}\".format(test.shape))"
   ]
  },
  {
   "cell_type": "markdown",
   "metadata": {},
   "source": [
    "## Data cleaning"
   ]
  },
  {
   "cell_type": "markdown",
   "metadata": {},
   "source": [
    "Deal with missing values"
   ]
  },
  {
   "cell_type": "code",
   "execution_count": 4,
   "metadata": {},
   "outputs": [
    {
     "name": "stdout",
     "output_type": "stream",
     "text": [
      "Count number of missing values per variable:\n",
      "LotFrontage      259\n",
      "Alley           1369\n",
      "MasVnrType         8\n",
      "MasVnrArea         8\n",
      "BsmtQual          37\n",
      "BsmtCond          37\n",
      "BsmtExposure      38\n",
      "BsmtFinType1      37\n",
      "BsmtFinType2      38\n",
      "Electrical         1\n",
      "FireplaceQu      690\n",
      "GarageType        81\n",
      "GarageYrBlt       81\n",
      "GarageFinish      81\n",
      "GarageQual        81\n",
      "GarageCond        81\n",
      "PoolQC          1453\n",
      "Fence           1179\n",
      "MiscFeature     1406\n",
      "dtype: int64\n",
      "\n",
      "Number of missing values after running na_clean()\n",
      "Missing values in train: 0\n",
      "Missing values in test: 0\n"
     ]
    }
   ],
   "source": [
    "print(\"Count number of missing values per variable:\")\n",
    "print(train.isnull().sum()[train.isnull().sum() != 0])\n",
    "\n",
    "# function to clean the missing values\n",
    "def na_clean(df):\n",
    "    \n",
    "    # some vars are just too missing so I remove the field\n",
    "    df = df.drop(columns = [\"PoolQC\", \"MiscFeature\"])\n",
    "\n",
    "    # replace some numeric vars w/ median\n",
    "    median_replace_vars = ['LotFrontage', 'MasVnrArea', 'GarageYrBlt', 'BsmtFinSF1', 'BsmtFinSF2', 'BsmtUnfSF', 'TotalBsmtSF', 'GarageArea']\n",
    "    for var in median_replace_vars:\n",
    "        df[var].fillna(df[var].median(), inplace = True)\n",
    "    \n",
    "    # replace some num vars w/ 0\n",
    "    zero_replace_vars = ['BsmtFullBath', 'BsmtHalfBath', 'GarageCars']\n",
    "    for var in zero_replace_vars:\n",
    "        df[var].fillna(0, inplace = True)\n",
    "    \n",
    "    # replace some cat vars w/ most freq value \n",
    "    df['MasVnrType'].fillna('None', inplace = True)\n",
    "    df['Electrical'].fillna('SBrkr', inplace = True)\n",
    "    df['MSZoning'].fillna('RL', inplace = True)\n",
    "    df['SaleType'].fillna('WD', inplace = True)\n",
    "    df['Utilities'].fillna('AllPub', inplace = True)\n",
    "    df['KitchenQual'].fillna('TA', inplace = True)\n",
    "    df['Functional'].fillna('Typ', inplace = True)\n",
    "\n",
    "    # other cat vars just put missing if there isn't a glaring most popular category\n",
    "    replace_missing_vars = ['Alley', 'BsmtQual', 'BsmtCond', 'BsmtExposure', 'BsmtFinType1', \n",
    "        'BsmtFinType2', 'GarageType', 'GarageFinish', 'GarageQual', 'GarageCond', 'Fence', 'Exterior1st', \n",
    "        'Exterior2nd', 'FireplaceQu']\n",
    "    for var in replace_missing_vars:\n",
    "        df[var].fillna(\"Missing\", inplace = True)\n",
    "\n",
    "    return df\n",
    "\n",
    "train = na_clean(train)\n",
    "test = na_clean(test)\n",
    "\n",
    "# make sure there are no more missing values\n",
    "print(\"\\nNumber of missing values after running na_clean()\")\n",
    "print(\"Missing values in train: {}\".format(train.isnull().sum().sum()))\n",
    "print(\"Missing values in test: {}\".format(test.isnull().sum().sum()))"
   ]
  },
  {
   "cell_type": "markdown",
   "metadata": {},
   "source": [
    "## Feature Engineering\n",
    "\n",
    "Simplifying the data for any future model we use"
   ]
  },
  {
   "cell_type": "code",
   "execution_count": 5,
   "metadata": {},
   "outputs": [],
   "source": [
    "# keep adapting this formula to change how we feature engineer\n",
    "def feature_eng(df, test_data = False):\n",
    "    '''Input either the training or test data. \n",
    "    2nd arg set to True if it's the testing data. That way we ignore the final log transformation on sale price'''\n",
    "\n",
    "    # num features to just binarize b/c few houses have the feature\n",
    "    df[\"SwimmingPool\"] = df['PoolArea'].map(lambda x: 0 if x==0 else 1)\n",
    "    df[\"3SsnPorch\"] = df['3SsnPorch'].map(lambda x: 0 if x==0 else 1)\n",
    "    df[\"ScreenPorch\"] = df['ScreenPorch'].map(lambda x: 0 if x==0 else 1)\n",
    "\n",
    "    # re-factoring vars:\n",
    "    # group the irregularities into 2 factor levels\n",
    "    df['LotShape'] = df['LotShape'].map({'Reg': 'Reg', 'IR1': 'Reg', 'IR2': 'Irreg', 'IR3': 'Irreg'})\n",
    "\n",
    "    # simplifying MSSubClass because we have the year built in another feature\n",
    "    df['MSSubClass'] = df['MSSubClass'].map(lambda x: \n",
    "        \"1_story\"   if (x in (20, 30, 40, 120)) else(\n",
    "        \"1.5_story\" if (x in (45, 50, 150)) else(\n",
    "        \"2_story\"   if (x in (60, 70, 75, 160, 180, 190)) else(\n",
    "        \"split\"     if (x in (80, 85)) else(\n",
    "        \"duplex\"    if (x ==90) else(\n",
    "        \"other\"))))))\n",
    "    df['MSSubClass'] = df['MSSubClass'].astype(\"object\")\n",
    "\n",
    "    \n",
    "    \n",
    "    # deciding to drop a few features for various reasons\n",
    "    vars_to_drop = [\n",
    "        \"LowQualFinSF\", # hardly any variation\n",
    "        \"LandSlope\", # not much variation\n",
    "        \"PoolArea\", # binarized above\n",
    "        \"MiscVal\", # not much variation\n",
    "        \"Utilities\", # only 1 obs in training data different from regular\n",
    "        #\"KitchenAbvGr\" # hardly any variation. But, Deva included in lm's so including it now.\n",
    "        ]\n",
    "    df.drop(columns=vars_to_drop, inplace=True) \n",
    "\n",
    "    # adding a remodeled feature\n",
    "    df['Remodeled'] = (df.YearRemodAdd-df.YearBuilt) == 0\n",
    "\n",
    "    # total inside area will be a sum of 1st and 2nd floor sq ft\n",
    "    df['Total_Inside_Area'] = df['1stFlrSF'] + df['2ndFlrSF']\n",
    "    df.drop(columns = ['1stFlrSF', '2ndFlrSF', 'GrLivArea'], inplace = True)\n",
    "\n",
    "    # simplify the bathrooms variable\n",
    "    df['Bathrooms'] = df.BsmtFullBath + 0.5*df.BsmtHalfBath + df.FullBath + 0.5*df.HalfBath\n",
    "    df.drop(columns = ['BsmtFullBath', 'BsmtHalfBath', 'FullBath', 'HalfBath'], inplace = True)\n",
    "\n",
    "    ### JARED EDITS\n",
    "    # minimal transformations.\n",
    "    \n",
    "    # for some vars values are 0, since ln(0) = -inf, I have to recode values of 0 to 1\n",
    "    # as ln(1) =0. \n",
    "    \n",
    "    #for x in range(len(df.BsmtFinSF1)):\n",
    "    #    if df['BsmtFinSF1'][x] ==0:\n",
    "    #        df['BsmtFinSF1'][x] = 1\n",
    "        \n",
    "    #for x in range(len(df.MasVnrArea)):\n",
    "    #    if df['MasVnrArea'][x] ==0:\n",
    "    #        df['MasVnrArea'][x] = 1\n",
    "    \n",
    "    #for x in range(len(df.GarageArea)):\n",
    "    #    if df['GarageArea'][x] ==0:\n",
    "    #        df['GarageArea'][x] = 1\n",
    "    \n",
    "    for x in range(len(df.TotalBsmtSF)):\n",
    "        if df['TotalBsmtSF'][x] ==0:\n",
    "            df['TotalBsmtSF'][x] = 1\n",
    "            \n",
    "    #for x in range(len(df.WoodDeckSF)):\n",
    "    #    if df['WoodDeckSF'][x] ==0:\n",
    "    #        df['WoodDeckSF'][x] = 1\n",
    "    \n",
    "    df.Total_Inside_Area = np.log(df.Total_Inside_Area)\n",
    "    df.TotalBsmtSF = np.log(df.TotalBsmtSF)\n",
    "    #df.GarageArea = np.log(df.GarageArea)  \n",
    "    #df.BsmtFinSF1 = np.log(df.BsmtFinSF1)\n",
    "    df.LotArea = np.log(df.LotArea)\n",
    "    #df.WoodDeckSF = np.log(df.WoodDeckSF)\n",
    "    #df.MasVnrArea = np.log(df.MasVnrArea)\n",
    "\n",
    "    \n",
    "    ###\n",
    "    \n",
    "    # get log of sale price which will be our actual response variable\n",
    "    if test_data:\n",
    "        pass \n",
    "    else:\n",
    "        df['LogSalePrice'] = np.log(df.SalePrice)\n",
    "\n",
    "    return df"
   ]
  },
  {
   "cell_type": "code",
   "execution_count": 6,
   "metadata": {},
   "outputs": [
    {
     "name": "stderr",
     "output_type": "stream",
     "text": [
      "<ipython-input-5-6a284f422525>:69: SettingWithCopyWarning: \n",
      "A value is trying to be set on a copy of a slice from a DataFrame\n",
      "\n",
      "See the caveats in the documentation: https://pandas.pydata.org/pandas-docs/stable/user_guide/indexing.html#returning-a-view-versus-a-copy\n",
      "  df['TotalBsmtSF'][x] = 1\n",
      "<ipython-input-5-6a284f422525>:69: SettingWithCopyWarning: \n",
      "A value is trying to be set on a copy of a slice from a DataFrame\n",
      "\n",
      "See the caveats in the documentation: https://pandas.pydata.org/pandas-docs/stable/user_guide/indexing.html#returning-a-view-versus-a-copy\n",
      "  df['TotalBsmtSF'][x] = 1\n"
     ]
    }
   ],
   "source": [
    "# run function on test and train\n",
    "train = feature_eng(train)\n",
    "test = feature_eng(test, test_data=True)"
   ]
  },
  {
   "cell_type": "markdown",
   "metadata": {},
   "source": [
    "# Modeling"
   ]
  },
  {
   "cell_type": "markdown",
   "metadata": {},
   "source": [
    "## Linear Model"
   ]
  },
  {
   "cell_type": "markdown",
   "metadata": {},
   "source": [
    "Function to prep data for a very baseline linear model"
   ]
  },
  {
   "cell_type": "code",
   "execution_count": 7,
   "metadata": {},
   "outputs": [],
   "source": [
    "def lm_df_clean(df):\n",
    "\n",
    "    lm_vars = ['LotArea', 'Street', 'Neighborhood', 'OverallQual', 'OverallCond', 'YearRemodAdd', \n",
    "              'BsmtCond', 'BedroomAbvGr', 'KitchenAbvGr', 'KitchenQual', 'TotRmsAbvGrd', 'YrSold', \n",
    "              'MoSold', 'Remodeled', 'Total_Inside_Area', 'Bathrooms']\n",
    "\n",
    "    df = pd.get_dummies(df[lm_vars], \n",
    "        columns = ['Street', 'Neighborhood', 'OverallQual', 'OverallCond', 'BsmtCond','KitchenQual'], \n",
    "        drop_first=True)\n",
    "    \n",
    "    return df"
   ]
  },
  {
   "cell_type": "markdown",
   "metadata": {},
   "source": [
    "Get train/test data all ready"
   ]
  },
  {
   "cell_type": "code",
   "execution_count": 8,
   "metadata": {},
   "outputs": [],
   "source": [
    "X_train = lm_df_clean(train)\n",
    "X_test = lm_df_clean(test)\n",
    "Y_train = train.SalePrice\n",
    "Y_test = sample.SalePrice"
   ]
  },
  {
   "cell_type": "markdown",
   "metadata": {},
   "source": [
    "Baseline linear model is very overfit"
   ]
  },
  {
   "cell_type": "code",
   "execution_count": 9,
   "metadata": {},
   "outputs": [
    {
     "name": "stdout",
     "output_type": "stream",
     "text": [
      "Fit on training data: 0.855\n",
      "Fit on testing data: -17.670\n"
     ]
    }
   ],
   "source": [
    "# Decent R2\n",
    "from sklearn.linear_model import LinearRegression\n",
    "lr_1 = LinearRegression(fit_intercept=True)\n",
    "lr_1.fit(X_train,Y_train)\n",
    "\n",
    "print(\"Fit on training data: {:.3f}\".format(lr_1.score(X_train,Y_train)))\n",
    "print(\"Fit on testing data: {:.3f}\".format(lr_1.score(X_test ,Y_test)))\n"
   ]
  },
  {
   "cell_type": "markdown",
   "metadata": {},
   "source": [
    "Same feature set with a baseline RandomForest is also overfit"
   ]
  },
  {
   "cell_type": "code",
   "execution_count": 10,
   "metadata": {},
   "outputs": [
    {
     "name": "stdout",
     "output_type": "stream",
     "text": [
      "Fit on training data: 1.000\n",
      "Fit on testing data: -18.893\n"
     ]
    }
   ],
   "source": [
    "dt = DecisionTreeRegressor(random_state = 0)\n",
    "dt.fit(X_train, Y_train)\n",
    "\n",
    "print(\"Fit on training data: {:.3f}\".format(dt.score(X_train,Y_train)))\n",
    "print(\"Fit on testing data: {:.3f}\".format(dt.score(X_test ,Y_test)))"
   ]
  },
  {
   "cell_type": "markdown",
   "metadata": {},
   "source": [
    "Basic linear model with single coefficient"
   ]
  },
  {
   "cell_type": "code",
   "execution_count": 11,
   "metadata": {},
   "outputs": [
    {
     "name": "stdout",
     "output_type": "stream",
     "text": [
      "Fit on training data: 0.626\n",
      "Fit on testing data: -14.882\n"
     ]
    }
   ],
   "source": [
    "#Simplest possible model - Chose variable with highest coefficient from initial correlation matrix\n",
    "\n",
    "X_train_2 = train.drop(train.columns.difference(['OverallQual']), 1)\n",
    "X_test_2 = test.drop(test.columns.difference(['OverallQual']), 1)\n",
    "Y_train = train.SalePrice\n",
    "Y_test = sample.SalePrice\n",
    "\n",
    "lr_2 = LinearRegression(fit_intercept=True)\n",
    "lr_2.fit(X_train_2,Y_train)\n",
    "\n",
    "print(\"Fit on training data: {:.3f}\".format(lr_2.score(X_train_2,Y_train)))\n",
    "print(\"Fit on testing data: {:.3f}\".format(lr_2.score(X_test_2 ,Y_test)))"
   ]
  },
  {
   "cell_type": "markdown",
   "metadata": {},
   "source": [
    "## Random forest with cross validation"
   ]
  },
  {
   "cell_type": "code",
   "execution_count": 12,
   "metadata": {},
   "outputs": [],
   "source": [
    "# preprocess the data\n",
    "train_dummies = pd.get_dummies(train)\n",
    "\n",
    "# create the train and test splits\n",
    "dev_train, dev_test = train_test_split(train_dummies, test_size=0.3, random_state=1)\n",
    "\n",
    "# specify model\n",
    "rf = RandomForestRegressor(bootstrap=True, max_features='auto')\n",
    "\n",
    "# run grid search on range of values\n",
    "grid = {\n",
    "    \"n_estimators\": np.arange(100, 1001, 100),\n",
    "    'max_depth': np.arange(10, 101, 5),\n",
    "    'min_samples_split': [2, 5, 7],\n",
    "}\n",
    "\n",
    "# put our parameters into GridSearch\n",
    "gscv = GridSearchCV(\n",
    "    estimator = rf, \n",
    "    param_grid = grid, \n",
    "    n_jobs = -1, \n",
    "    cv = 3)\n",
    "\n",
    "# run the search:\n",
    "# this took 26 min to run. \n",
    "# re-run if you want\n",
    "#results = gscv.fit(dev_train.drop(columns = [\"SalePrice\", 'LogSalePrice', 'Id']), dev_train.LogSalePrice)\n",
    "\n",
    "# check out the best parameters\n",
    "#print(results.best_params_)\n",
    "# {'max_depth': 25, 'min_samples_split': 2, 'n_estimators': 900}"
   ]
  },
  {
   "cell_type": "code",
   "execution_count": 13,
   "metadata": {},
   "outputs": [],
   "source": [
    "\n",
    "for i in dev_train:\n",
    "    for x in dev_train[i]:\n",
    "        if x ==np.inf:\n",
    "            print(i)\n",
    "        elif x ==-np.inf:\n",
    "            print(i)\n",
    "\n",
    "        \n"
   ]
  },
  {
   "cell_type": "code",
   "execution_count": 14,
   "metadata": {},
   "outputs": [
    {
     "name": "stdout",
     "output_type": "stream",
     "text": [
      "MAE: 0.1005\n",
      "RMSE: 0.1545\n"
     ]
    }
   ],
   "source": [
    "# finally, run model on best parameters\n",
    "rf_reg = RandomForestRegressor(\n",
    "    n_estimators = 900,\n",
    "    max_depth = 25,\n",
    "    max_features = 'auto',\n",
    "    min_samples_split = 2,  \n",
    "    bootstrap = True, \n",
    "    )\n",
    "\n",
    "# fit the model\n",
    "rf_reg.fit(dev_train.drop(columns = [\"SalePrice\", 'LogSalePrice', 'Id']), dev_train.LogSalePrice)\n",
    "\n",
    "# evaluate it's performance on the unforseen testing set\n",
    "yhat = rf_reg.predict(dev_test.drop(columns = [\"SalePrice\", 'LogSalePrice', 'Id']))\n",
    "resids = yhat - dev_test.LogSalePrice\n",
    "\n",
    "# evaluate rmse and mae on the testing data\n",
    "print(\"MAE: \" + str(round(np.mean(resids.apply(lambda x: math.fabs(x))),4)))\n",
    "print(\"RMSE: \" + str(round(np.mean(resids**2)**.5,4)))\n",
    "# MAE: 0.0999\n",
    "# RMSE: 0.154"
   ]
  },
  {
   "cell_type": "code",
   "execution_count": 15,
   "metadata": {},
   "outputs": [
    {
     "name": "stdout",
     "output_type": "stream",
     "text": [
      "Score on train: 0.981\n",
      "Score on test: 0.874\n"
     ]
    }
   ],
   "source": [
    "# score on train\n",
    "rf_train_score = rf_reg.score(dev_train.drop(columns = [\"SalePrice\", 'LogSalePrice', 'Id']), dev_train.LogSalePrice)\n",
    "print(\"Score on train: {:.3f}\".format(rf_train_score))\n",
    "\n",
    "# score on test/dev\n",
    "rf_dev_score = rf_reg.score(dev_test.drop(columns = [\"SalePrice\", 'LogSalePrice', 'Id']), dev_test.LogSalePrice)\n",
    "print(\"Score on test: {:.3f}\".format(rf_dev_score))"
   ]
  },
  {
   "cell_type": "code",
   "execution_count": 16,
   "metadata": {},
   "outputs": [
    {
     "name": "stdout",
     "output_type": "stream",
     "text": [
      "\n"
     ]
    },
    {
     "data": {
      "image/png": "[encoded data removed]",
      "text/plain": [
       "<Figure size 360x504 with 1 Axes>"
      ]
     },
     "metadata": {
      "needs_background": "light"
     },
     "output_type": "display_data"
    }
   ],
   "source": [
    "# variable importance plot\n",
    "var_imp = pd.DataFrame({\n",
    "    'feature': dev_train.drop(columns = [\"SalePrice\", 'LogSalePrice', 'Id']).columns,\n",
    "    'importance': rf_reg.feature_importances_\n",
    "})\n",
    "var_imp.sort_values(\"importance\", ascending=False, inplace=True)\n",
    "\n",
    "fig, ax = plt.subplots(figsize=(5, 7))\n",
    "topn = 20\n",
    "ax.barh(var_imp.head(topn).feature, var_imp.head(topn).importance)\n",
    "ax.set_ylabel(\"Importance\")\n",
    "ax.set_xlabel(\"Feature\")\n",
    "ax.set_title(\"Feature Importance Plot: Top {}\".format(topn))\n",
    "ax.invert_yaxis()\n",
    "print(\"\")\n"
   ]
  },
  {
   "cell_type": "markdown",
   "metadata": {},
   "source": [
    "## Lasso Regression"
   ]
  },
  {
   "cell_type": "code",
   "execution_count": 17,
   "metadata": {},
   "outputs": [
    {
     "name": "stderr",
     "output_type": "stream",
     "text": [
      "<ipython-input-17-6bab5841d68a>:7: UserWarning: With alpha=0, this algorithm does not converge well. You are advised to use the LinearRegression estimator\n",
      "  model.fit(dev_train.drop(columns = [\"SalePrice\", 'LogSalePrice', 'Id']), dev_train.LogSalePrice)\n",
      "C:\\Users\\drkul\\anaconda3\\lib\\site-packages\\sklearn\\linear_model\\_coordinate_descent.py:529: UserWarning: Coordinate descent with no regularization may lead to unexpected results and is discouraged.\n",
      "  model = cd_fast.enet_coordinate_descent(\n",
      "C:\\Users\\drkul\\anaconda3\\lib\\site-packages\\sklearn\\linear_model\\_coordinate_descent.py:529: ConvergenceWarning: Objective did not converge. You might want to increase the number of iterations. Duality gap: 3.628430460973907, tolerance: 0.01497720138328087\n",
      "  model = cd_fast.enet_coordinate_descent(\n"
     ]
    },
    {
     "name": "stdout",
     "output_type": "stream",
     "text": [
      "Lasso alpha is equal to:  0\n",
      "Mean MAE: 0.087 (0.012)\n",
      "Accuracy: 0.9096173100577971\n"
     ]
    },
    {
     "name": "stderr",
     "output_type": "stream",
     "text": [
      "C:\\Users\\drkul\\anaconda3\\lib\\site-packages\\sklearn\\linear_model\\_coordinate_descent.py:529: ConvergenceWarning: Objective did not converge. You might want to increase the number of iterations. Duality gap: 3.6284312063829933, tolerance: 0.01497720138328087\n",
      "  model = cd_fast.enet_coordinate_descent(\n"
     ]
    },
    {
     "name": "stdout",
     "output_type": "stream",
     "text": [
      "Lasso alpha is equal to:  1e-10\n",
      "Mean MAE: 0.087 (0.012)\n",
      "Accuracy: 0.9096185787818667\n",
      "Lasso alpha is equal to:  0.0001\n",
      "Mean MAE: 0.081 (0.012)\n",
      "Accuracy: 0.9132507746324088\n",
      "Lasso alpha is equal to:  0.001\n",
      "Mean MAE: 0.083 (0.009)\n",
      "Accuracy: 0.8940152758144915\n",
      "Lasso alpha is equal to:  0.01\n",
      "Mean MAE: 0.105 (0.013)\n",
      "Accuracy: 0.859686813280689\n",
      "Lasso alpha is equal to:  0.1\n",
      "Mean MAE: 0.145 (0.018)\n",
      "Accuracy: 0.7585573083185597\n",
      "Lasso alpha is equal to:  0.5\n",
      "Mean MAE: 0.165 (0.018)\n",
      "Accuracy: 0.6973420545079846\n",
      "Lasso alpha is equal to:  1.0\n",
      "Mean MAE: 0.169 (0.018)\n",
      "Accuracy: 0.6766069116916817\n",
      "Lasso alpha is equal to:  2.0\n",
      "Mean MAE: 0.186 (0.018)\n",
      "Accuracy: 0.6123765128478742\n",
      "Lasso alpha is equal to:  10.0\n",
      "Mean MAE: 0.209 (0.020)\n",
      "Accuracy: 0.5164024107287357\n"
     ]
    }
   ],
   "source": [
    "for i in [0, 1.0e-10, 0.0001, 0.001, 0.01, 0.1, 0.5, 1.0, 2.0, 10.0]:\n",
    "\n",
    "    # iterate over every vbalkue of alpha in the list, fit lasso regression\n",
    "    model = Lasso(alpha = i)\n",
    "\n",
    "    # copying Trevor's code, delete certain variables that don't matter\n",
    "    model.fit(dev_train.drop(columns = [\"SalePrice\", 'LogSalePrice', 'Id']), dev_train.LogSalePrice)\n",
    "\n",
    "    # run 10-fold Cross validation to improve fit\n",
    "    cv = RepeatedKFold(n_splits=10, n_repeats=3, random_state=1)\n",
    "\n",
    "    # calculate scores\n",
    "    scores = cross_val_score(model, dev_train.drop(columns = [\"SalePrice\", 'LogSalePrice', 'Id']), dev_train.LogSalePrice, scoring='neg_mean_absolute_error', cv=cv, n_jobs=-1)\n",
    "\n",
    "    scores = absolute(scores)\n",
    "\n",
    "    # calculate MAE, accuracy.\n",
    "    print(\"Lasso alpha is equal to: \", i)\n",
    "    print('Mean MAE: %.3f (%.3f)' % (mean(scores), std(scores)))\n",
    "    print('Accuracy:', model.score(dev_test.drop(columns = [\"SalePrice\", 'LogSalePrice', 'Id']), dev_test.LogSalePrice))"
   ]
  },
  {
   "cell_type": "code",
   "execution_count": 24,
   "metadata": {},
   "outputs": [],
   "source": [
    "# https://towardsdatascience.com/whats-the-difference-between-linear-regression-lasso-ridge-and-elasticnet-8f997c60cf29\n",
    "\n",
    "# set asige log_sale_price in separate vectors\n",
    "train_log_saleprice = dev_train.LogSalePrice\n",
    "test_log_saleprice = dev_test.LogSalePrice\n",
    "\n",
    "# drop unused variables\n",
    "dev_train2 = dev_train.drop(columns = [\"SalePrice\", 'LogSalePrice', 'Id'])\n",
    "dev_test2 = dev_test.drop(columns = [\"SalePrice\", 'LogSalePrice', 'Id'])\n",
    "\n",
    "# standardize all values of all variables in data\n",
    "scaler = StandardScaler()\n",
    "\n",
    "scaler.fit(dev_train2)\n",
    "dev_train2 = scaler.transform(dev_train2)\n",
    "\n",
    "scaler.fit(dev_test2)\n",
    "dev_test2 = scaler.transform(dev_test2)\n",
    "\n",
    "\n"
   ]
  },
  {
   "cell_type": "code",
   "execution_count": 25,
   "metadata": {},
   "outputs": [
    {
     "name": "stderr",
     "output_type": "stream",
     "text": [
      "<ipython-input-25-fb793dd6367c>:6: UserWarning: With alpha=0, this algorithm does not converge well. You are advised to use the LinearRegression estimator\n",
      "  model.fit(dev_train2, train_log_saleprice)\n",
      "C:\\Users\\drkul\\anaconda3\\lib\\site-packages\\sklearn\\linear_model\\_coordinate_descent.py:529: UserWarning: Coordinate descent with no regularization may lead to unexpected results and is discouraged.\n",
      "  model = cd_fast.enet_coordinate_descent(\n",
      "C:\\Users\\drkul\\anaconda3\\lib\\site-packages\\sklearn\\linear_model\\_coordinate_descent.py:529: ConvergenceWarning: Objective did not converge. You might want to increase the number of iterations. Duality gap: 3.62843046097393, tolerance: 0.01497720138328087\n",
      "  model = cd_fast.enet_coordinate_descent(\n"
     ]
    },
    {
     "name": "stdout",
     "output_type": "stream",
     "text": [
      "Lasso alpha is equal to:  0\n",
      "Mean MAE: 24.030 (26.219)\n",
      "Accuracy: 0.8981174959371588\n"
     ]
    },
    {
     "name": "stderr",
     "output_type": "stream",
     "text": [
      "C:\\Users\\drkul\\anaconda3\\lib\\site-packages\\sklearn\\linear_model\\_coordinate_descent.py:529: ConvergenceWarning: Objective did not converge. You might want to increase the number of iterations. Duality gap: 3.628241031843313, tolerance: 0.01497720138328087\n",
      "  model = cd_fast.enet_coordinate_descent(\n"
     ]
    },
    {
     "name": "stdout",
     "output_type": "stream",
     "text": [
      "Lasso alpha is equal to:  1e-10\n",
      "Mean MAE: 0.087 (0.012)\n",
      "Accuracy: 0.8981175307683255\n",
      "Lasso alpha is equal to:  0.0001\n",
      "Mean MAE: 0.085 (0.012)\n",
      "Accuracy: 0.8992488682595974\n",
      "Lasso alpha is equal to:  0.001\n",
      "Mean MAE: 0.080 (0.012)\n",
      "Accuracy: 0.9014169827535079\n",
      "Lasso alpha is equal to:  0.01\n",
      "Mean MAE: 0.084 (0.011)\n",
      "Accuracy: 0.889696285766076\n",
      "Lasso alpha is equal to:  0.1\n",
      "Mean MAE: 0.158 (0.018)\n",
      "Accuracy: 0.6678616908099565\n",
      "Lasso alpha is equal to:  0.5\n",
      "Mean MAE: 0.301 (0.023)\n",
      "Accuracy: -0.004336028268388636\n",
      "Lasso alpha is equal to:  1.0\n",
      "Mean MAE: 0.301 (0.023)\n",
      "Accuracy: -0.004336028268388636\n",
      "Lasso alpha is equal to:  2.0\n",
      "Mean MAE: 0.301 (0.023)\n",
      "Accuracy: -0.004336028268388636\n",
      "Lasso alpha is equal to:  10.0\n",
      "Mean MAE: 0.301 (0.023)\n",
      "Accuracy: -0.004336028268388636\n"
     ]
    }
   ],
   "source": [
    "for i in [0, 1.0e-10, 0.0001, 0.001, 0.01, 0.1, 0.5, 1.0, 2.0, 10.0]:\n",
    "    \n",
    "    # run and fit lasso regression again, this time with completely standardized data\n",
    "    model = Lasso(alpha = i)\n",
    "\n",
    "    model.fit(dev_train2, train_log_saleprice)\n",
    "\n",
    "    # 10-fold cross validation to improve fit\n",
    "    cv = RepeatedKFold(n_splits=10, n_repeats=3, random_state=1)\n",
    "\n",
    "    # calculate scores and accuracy\n",
    "    scores = cross_val_score(model, dev_train2, train_log_saleprice, scoring='neg_mean_absolute_error', cv=cv, n_jobs=-1)\n",
    "\n",
    "    scores = absolute(scores)\n",
    "\n",
    "    print(\"Lasso alpha is equal to: \", i)\n",
    "    print('Mean MAE: %.3f (%.3f)' % (mean(scores), std(scores)))\n",
    "    print('Accuracy:', model.score(dev_test2, test_log_saleprice))"
   ]
  },
  {
   "cell_type": "code",
   "execution_count": 20,
   "metadata": {},
   "outputs": [
    {
     "name": "stdout",
     "output_type": "stream",
     "text": [
      "Lasso alpha is equal to:  0\n",
      "Mean MAE: 0.301 (0.023)\n",
      "Accuracy: -1.4809944462331912e+28\n",
      "Lasso alpha is equal to:  1e-10\n",
      "Mean MAE: 0.301 (0.023)\n",
      "Accuracy: 0.8984100668889496\n",
      "Lasso alpha is equal to:  0.0001\n",
      "Mean MAE: 0.301 (0.023)\n",
      "Accuracy: 0.8984276897756973\n",
      "Lasso alpha is equal to:  0.001\n",
      "Mean MAE: 0.301 (0.023)\n",
      "Accuracy: 0.8984276907803807\n",
      "Lasso alpha is equal to:  0.01\n",
      "Mean MAE: 0.301 (0.023)\n",
      "Accuracy: 0.8984276930926756\n",
      "Lasso alpha is equal to:  0.1\n",
      "Mean MAE: 0.301 (0.023)\n",
      "Accuracy: 0.8984270152404311\n",
      "Lasso alpha is equal to:  0.5\n",
      "Mean MAE: 0.301 (0.023)\n",
      "Accuracy: 0.8984134841231296\n",
      "Lasso alpha is equal to:  1.0\n",
      "Mean MAE: 0.301 (0.023)\n",
      "Accuracy: 0.8983854875570967\n",
      "Lasso alpha is equal to:  2.0\n",
      "Mean MAE: 0.301 (0.023)\n",
      "Accuracy: 0.8983236345273472\n",
      "Lasso alpha is equal to:  10.0\n",
      "Mean MAE: 0.301 (0.023)\n",
      "Accuracy: 0.8978958397338077\n",
      "Lasso alpha is equal to:  25.0\n",
      "Mean MAE: 0.301 (0.023)\n",
      "Accuracy: 0.8969458125703147\n",
      "Lasso alpha is equal to:  50.0\n",
      "Mean MAE: 0.301 (0.023)\n",
      "Accuracy: 0.8951943358745872\n",
      "Lasso alpha is equal to:  75.0\n",
      "Mean MAE: 0.301 (0.023)\n",
      "Accuracy: 0.893512758573598\n",
      "Lasso alpha is equal to:  100.0\n",
      "Mean MAE: 0.301 (0.023)\n",
      "Accuracy: 0.8919607360093981\n"
     ]
    }
   ],
   "source": [
    "for i in [0, 1.0e-10, 0.0001, 0.001, 0.01, 0.1, 0.5, 1.0, 2.0, 10.0, 25.0, 50.0, 75.0, 100.0]:\n",
    "\n",
    "    # calculate ridge regression with completely standardized data\n",
    "    model2 = Ridge(alpha = i)\n",
    "\n",
    "    model2.fit(dev_train2, train_log_saleprice)\n",
    "\n",
    "    # run 10-fold cross validation\n",
    "    cv = RepeatedKFold(n_splits=10, n_repeats=3, random_state=1)\n",
    "\n",
    "    # calculate score\n",
    "    scores = cross_val_score(model, dev_train2, train_log_saleprice, scoring='neg_mean_absolute_error', cv=cv, n_jobs=-1)\n",
    "\n",
    "    scores = absolute(scores)\n",
    "\n",
    "    # calculate MAE and Accuracy\n",
    "    print(\"Lasso alpha is equal to: \", i)\n",
    "    print('Mean MAE: %.3f (%.3f)' % (mean(scores), std(scores)))\n",
    "    print('Accuracy:', model2.score(dev_test2, test_log_saleprice))"
   ]
  },
  {
   "cell_type": "code",
   "execution_count": 21,
   "metadata": {},
   "outputs": [
    {
     "name": "stderr",
     "output_type": "stream",
     "text": [
      "<ipython-input-21-81db0400b488>:6: UserWarning: With alpha=0, this algorithm does not converge well. You are advised to use the LinearRegression estimator\n",
      "  model3.fit(dev_train2, train_log_saleprice)\n",
      "C:\\Users\\drkul\\anaconda3\\lib\\site-packages\\sklearn\\linear_model\\_coordinate_descent.py:529: UserWarning: Coordinate descent with no regularization may lead to unexpected results and is discouraged.\n",
      "  model = cd_fast.enet_coordinate_descent(\n",
      "C:\\Users\\drkul\\anaconda3\\lib\\site-packages\\sklearn\\linear_model\\_coordinate_descent.py:529: ConvergenceWarning: Objective did not converge. You might want to increase the number of iterations. Duality gap: 3.62843046097393, tolerance: 0.01497720138328087\n",
      "  model = cd_fast.enet_coordinate_descent(\n"
     ]
    },
    {
     "name": "stdout",
     "output_type": "stream",
     "text": [
      "Lasso alpha is equal to:  0\n",
      "Mean MAE: 0.301 (0.023)\n",
      "Accuracy: 0.8981174959371588\n"
     ]
    },
    {
     "name": "stderr",
     "output_type": "stream",
     "text": [
      "C:\\Users\\drkul\\anaconda3\\lib\\site-packages\\sklearn\\linear_model\\_coordinate_descent.py:529: ConvergenceWarning: Objective did not converge. You might want to increase the number of iterations. Duality gap: 3.628335746547939, tolerance: 0.01497720138328087\n",
      "  model = cd_fast.enet_coordinate_descent(\n"
     ]
    },
    {
     "name": "stdout",
     "output_type": "stream",
     "text": [
      "Lasso alpha is equal to:  1e-10\n",
      "Mean MAE: 0.301 (0.023)\n",
      "Accuracy: 0.8981175134471356\n",
      "Lasso alpha is equal to:  0.0001\n",
      "Mean MAE: 0.301 (0.023)\n",
      "Accuracy: 0.8988660242652673\n",
      "Lasso alpha is equal to:  0.001\n",
      "Mean MAE: 0.301 (0.023)\n",
      "Accuracy: 0.9005764254724125\n",
      "Lasso alpha is equal to:  0.01\n",
      "Mean MAE: 0.301 (0.023)\n",
      "Accuracy: 0.8988497598118551\n",
      "Lasso alpha is equal to:  0.1\n",
      "Mean MAE: 0.301 (0.023)\n",
      "Accuracy: 0.7821686812762276\n",
      "Lasso alpha is equal to:  0.5\n",
      "Mean MAE: 0.301 (0.023)\n",
      "Accuracy: 0.16684267192996027\n",
      "Lasso alpha is equal to:  1.0\n",
      "Mean MAE: 0.301 (0.023)\n",
      "Accuracy: -0.004336028268388636\n",
      "Lasso alpha is equal to:  2.0\n",
      "Mean MAE: 0.301 (0.023)\n",
      "Accuracy: -0.004336028268388636\n",
      "Lasso alpha is equal to:  10.0\n",
      "Mean MAE: 0.301 (0.023)\n",
      "Accuracy: -0.004336028268388636\n"
     ]
    }
   ],
   "source": [
    "for i in [0, 1.0e-10, 0.0001, 0.001, 0.01, 0.1, 0.5, 1.0, 2.0, 10.0]:\n",
    "\n",
    "    # calculate Elastic Net with completely standardized data\n",
    "    model3 = ElasticNet(alpha = i)\n",
    "\n",
    "    model3.fit(dev_train2, train_log_saleprice)\n",
    "\n",
    "    # 10-fold cross-validation to improve fit\n",
    "    cv = RepeatedKFold(n_splits=10, n_repeats=3, random_state=1)\n",
    "\n",
    "    # calculate scores, MAE, and accuracy\n",
    "    scores = cross_val_score(model, dev_train2, train_log_saleprice, scoring='neg_mean_absolute_error', cv=cv, n_jobs=-1)\n",
    "\n",
    "    scores = absolute(scores)\n",
    "\n",
    "    print(\"Lasso alpha is equal to: \", i)\n",
    "    print('Mean MAE: %.3f (%.3f)' % (mean(scores), std(scores)))\n",
    "    print('Accuracy:', model3.score(dev_test2, test_log_saleprice))"
   ]
  },
  {
   "cell_type": "code",
   "execution_count": 22,
   "metadata": {},
   "outputs": [
    {
     "name": "stdout",
     "output_type": "stream",
     "text": [
      "Lasso alpha is equal to:  0\n",
      "Mean MAE: 0.209 (0.020)\n",
      "Accuracy: -2.9220098658969695e+20\n"
     ]
    },
    {
     "name": "stderr",
     "output_type": "stream",
     "text": [
      "C:\\Users\\drkul\\anaconda3\\lib\\site-packages\\sklearn\\linear_model\\_ridge.py:147: LinAlgWarning: Ill-conditioned matrix (rcond=1.72118e-19): result may not be accurate.\n",
      "  return linalg.solve(A, Xy, sym_pos=True,\n"
     ]
    },
    {
     "name": "stdout",
     "output_type": "stream",
     "text": [
      "Lasso alpha is equal to:  1e-10\n",
      "Mean MAE: 0.209 (0.020)\n",
      "Accuracy: 0.9090398440397601\n",
      "Lasso alpha is equal to:  0.0001\n",
      "Mean MAE: 0.209 (0.020)\n",
      "Accuracy: 0.9090395456787759\n",
      "Lasso alpha is equal to:  0.001\n",
      "Mean MAE: 0.209 (0.020)\n",
      "Accuracy: 0.9090363058645661\n",
      "Lasso alpha is equal to:  0.01\n",
      "Mean MAE: 0.209 (0.020)\n",
      "Accuracy: 0.9089937861552309\n",
      "Lasso alpha is equal to:  0.1\n",
      "Mean MAE: 0.209 (0.020)\n",
      "Accuracy: 0.9081407277572608\n",
      "Lasso alpha is equal to:  0.5\n",
      "Mean MAE: 0.209 (0.020)\n",
      "Accuracy: 0.9049267782497724\n",
      "Lasso alpha is equal to:  1.0\n",
      "Mean MAE: 0.209 (0.020)\n",
      "Accuracy: 0.9027569601837326\n",
      "Lasso alpha is equal to:  2.0\n",
      "Mean MAE: 0.209 (0.020)\n",
      "Accuracy: 0.900250933441873\n",
      "Lasso alpha is equal to:  10.0\n",
      "Mean MAE: 0.209 (0.020)\n",
      "Accuracy: 0.8932291341481591\n"
     ]
    }
   ],
   "source": [
    "for i in [0, 1.0e-10, 0.0001, 0.001, 0.01, 0.1, 0.5, 1.0, 2.0, 10.0]:\n",
    "\n",
    "    # Ridge Regression with minimally transofrmed data\n",
    "    model4 = Ridge(alpha = i)\n",
    "\n",
    "    model4.fit(dev_train.drop(columns = [\"SalePrice\", 'LogSalePrice', 'Id']), dev_train.LogSalePrice)\n",
    "\n",
    "    # 10-fold cross-validation\n",
    "    cv = RepeatedKFold(n_splits=10, n_repeats=3, random_state=1)\n",
    "\n",
    "    # calculate scores, MAE, and Accuracy\n",
    "    scores = cross_val_score(model, dev_train.drop(columns = [\"SalePrice\", 'LogSalePrice', 'Id']), dev_train.LogSalePrice, scoring='neg_mean_absolute_error', cv=cv, n_jobs=-1)\n",
    "\n",
    "    scores = absolute(scores)\n",
    "\n",
    "    print(\"Lasso alpha is equal to: \", i)\n",
    "    print('Mean MAE: %.3f (%.3f)' % (mean(scores), std(scores)))\n",
    "    print('Accuracy:', model4.score(dev_test.drop(columns = [\"SalePrice\", 'LogSalePrice', 'Id']), dev_test.LogSalePrice))"
   ]
  },
  {
   "cell_type": "code",
   "execution_count": 23,
   "metadata": {},
   "outputs": [
    {
     "name": "stderr",
     "output_type": "stream",
     "text": [
      "<ipython-input-23-d0ab544ac6d7>:6: UserWarning: With alpha=0, this algorithm does not converge well. You are advised to use the LinearRegression estimator\n",
      "  model5.fit(dev_train.drop(columns = [\"SalePrice\", 'LogSalePrice', 'Id']), dev_train.LogSalePrice)\n",
      "C:\\Users\\drkul\\anaconda3\\lib\\site-packages\\sklearn\\linear_model\\_coordinate_descent.py:529: UserWarning: Coordinate descent with no regularization may lead to unexpected results and is discouraged.\n",
      "  model = cd_fast.enet_coordinate_descent(\n",
      "C:\\Users\\drkul\\anaconda3\\lib\\site-packages\\sklearn\\linear_model\\_coordinate_descent.py:529: ConvergenceWarning: Objective did not converge. You might want to increase the number of iterations. Duality gap: 3.628430460973907, tolerance: 0.01497720138328087\n",
      "  model = cd_fast.enet_coordinate_descent(\n"
     ]
    },
    {
     "name": "stdout",
     "output_type": "stream",
     "text": [
      "Lasso alpha is equal to:  0\n",
      "Mean MAE: 0.209 (0.020)\n",
      "Accuracy: 0.9096173100577971\n"
     ]
    },
    {
     "name": "stderr",
     "output_type": "stream",
     "text": [
      "C:\\Users\\drkul\\anaconda3\\lib\\site-packages\\sklearn\\linear_model\\_coordinate_descent.py:529: ConvergenceWarning: Objective did not converge. You might want to increase the number of iterations. Duality gap: 3.6284309765749048, tolerance: 0.01497720138328087\n",
      "  model = cd_fast.enet_coordinate_descent(\n"
     ]
    },
    {
     "name": "stdout",
     "output_type": "stream",
     "text": [
      "Lasso alpha is equal to:  1e-10\n",
      "Mean MAE: 0.209 (0.020)\n",
      "Accuracy: 0.9096179982275611\n"
     ]
    },
    {
     "name": "stderr",
     "output_type": "stream",
     "text": [
      "C:\\Users\\drkul\\anaconda3\\lib\\site-packages\\sklearn\\linear_model\\_coordinate_descent.py:529: ConvergenceWarning: Objective did not converge. You might want to increase the number of iterations. Duality gap: 3.168810520823647, tolerance: 0.01497720138328087\n",
      "  model = cd_fast.enet_coordinate_descent(\n"
     ]
    },
    {
     "name": "stdout",
     "output_type": "stream",
     "text": [
      "Lasso alpha is equal to:  0.0001\n",
      "Mean MAE: 0.209 (0.020)\n",
      "Accuracy: 0.9115223192844704\n",
      "Lasso alpha is equal to:  0.001\n",
      "Mean MAE: 0.209 (0.020)\n",
      "Accuracy: 0.9001466273387907\n",
      "Lasso alpha is equal to:  0.01\n",
      "Mean MAE: 0.209 (0.020)\n",
      "Accuracy: 0.8747716984359675\n",
      "Lasso alpha is equal to:  0.1\n",
      "Mean MAE: 0.209 (0.020)\n",
      "Accuracy: 0.8124931358884635\n",
      "Lasso alpha is equal to:  0.5\n",
      "Mean MAE: 0.209 (0.020)\n",
      "Accuracy: 0.708817847600673\n",
      "Lasso alpha is equal to:  1.0\n",
      "Mean MAE: 0.209 (0.020)\n",
      "Accuracy: 0.6972995591240215\n",
      "Lasso alpha is equal to:  2.0\n",
      "Mean MAE: 0.209 (0.020)\n",
      "Accuracy: 0.6765190484220713\n",
      "Lasso alpha is equal to:  10.0\n",
      "Mean MAE: 0.209 (0.020)\n",
      "Accuracy: 0.56552664890656\n"
     ]
    }
   ],
   "source": [
    "for i in [0, 1.0e-10, 0.0001, 0.001, 0.01, 0.1, 0.5, 1.0, 2.0, 10.0]:\n",
    "\n",
    "    # calculate elastic net with minimally transformed data\n",
    "    model5 = ElasticNet(alpha = i)\n",
    "\n",
    "    model5.fit(dev_train.drop(columns = [\"SalePrice\", 'LogSalePrice', 'Id']), dev_train.LogSalePrice)\n",
    "\n",
    "    # run 10-fold cross-validation\n",
    "    cv = RepeatedKFold(n_splits=10, n_repeats=3, random_state=1)\n",
    "\n",
    "    # calculate scores, MAE, and accuracy\n",
    "    scores = cross_val_score(model, dev_train.drop(columns = [\"SalePrice\", 'LogSalePrice', 'Id']), dev_train.LogSalePrice, scoring='neg_mean_absolute_error', cv=cv, n_jobs=-1)\n",
    "\n",
    "    scores = absolute(scores)\n",
    "\n",
    "    print(\"Lasso alpha is equal to: \", i)\n",
    "    print('Mean MAE: %.3f (%.3f)' % (mean(scores), std(scores)))\n",
    "    print('Accuracy:', model5.score(dev_test.drop(columns = [\"SalePrice\", 'LogSalePrice', 'Id']), dev_test.LogSalePrice))"
   ]
  },
  {
   "cell_type": "code",
   "execution_count": null,
   "metadata": {},
   "outputs": [],
   "source": [
    "# Deva Neural network attempt\n",
    "\n",
    "\n"
   ]
  }
 ],
 "metadata": {
  "interpreter": {
   "hash": "f9a763963a0c2e3eb3033a1766c128288cb698df5642a2fe22798efe2c630a93"
  },
  "kernelspec": {
   "display_name": "Python 3",
   "language": "python",
   "name": "python3"
  },
  "language_info": {
   "codemirror_mode": {
    "name": "ipython",
    "version": 3
   },
   "file_extension": ".py",
   "mimetype": "text/x-python",
   "name": "python",
   "nbconvert_exporter": "python",
   "pygments_lexer": "ipython3",
   "version": "3.8.5"
  }
 },
 "nbformat": 4,
 "nbformat_minor": 2
}
