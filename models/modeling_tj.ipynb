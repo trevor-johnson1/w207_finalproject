{
 "cells": [
  {
   "cell_type": "markdown",
   "metadata": {},
   "source": [
    "# House Prices - Advanced Regression Techniques\n",
    "\n",
    "## Deva Kulkarni, Jared Dec, Marc Semonick, Trevor Johnson\n",
    "\n",
    "## October 2021\n",
    "\n",
    "<br>\n",
    "\n",
    "Competition Link: https://www.kaggle.com/c/house-prices-advanced-regression-techniques\n",
    "\n",
    "Goal: Predict sales price for each house (`SalePrice`). RMSE on log(pred) - log(actual) will be the evaluation metric. \n",
    "\n",
    "Inference Problem:  Given known variables about a house, accurately predict its sale price.\n",
    "\n",
    "Deliverable: Final submission dataset should contain only the two fields `ID` and `SalePrice`. "
   ]
  },
  {
   "cell_type": "markdown",
   "metadata": {},
   "source": [
    "# Setups"
   ]
  },
  {
   "cell_type": "markdown",
   "metadata": {},
   "source": [
    "Import modules"
   ]
  },
  {
   "cell_type": "code",
   "execution_count": 233,
   "metadata": {},
   "outputs": [],
   "source": [
    "# from tensorflow import keras\n",
    "# from tensorflow.keras.layers import Dense, Activation"
   ]
  },
  {
   "cell_type": "code",
   "execution_count": 234,
   "metadata": {},
   "outputs": [],
   "source": [
    "import os \n",
    "\n",
    "# data manipulation/viz\n",
    "import pandas as pd \n",
    "import numpy as np \n",
    "import seaborn as sns\n",
    "import matplotlib.pyplot as plt\n",
    "\n",
    "# modeling setups\n",
    "from patsy import dmatrices\n",
    "from sklearn.model_selection import RandomizedSearchCV\n",
    "from sklearn.model_selection import train_test_split\n",
    "from sklearn.model_selection import GridSearchCV\n",
    "from sklearn.preprocessing import OneHotEncoder, StandardScaler, MinMaxScaler\n",
    "from sklearn.preprocessing import StandardScaler\n",
    "\n",
    "# linear modeling\n",
    "from sklearn.linear_model import LinearRegression\n",
    "from sklearn.linear_model import Lasso\n",
    "import statsmodels.api as sm\n",
    "from statsmodels.formula.api import glm \n",
    "\n",
    "# tree modeling\n",
    "from sklearn.tree import DecisionTreeRegressor\n",
    "from sklearn.ensemble import RandomForestRegressor\n",
    "import xgboost as xgb"
   ]
  },
  {
   "cell_type": "markdown",
   "metadata": {},
   "source": [
    "Load in the data"
   ]
  },
  {
   "cell_type": "code",
   "execution_count": 235,
   "metadata": {},
   "outputs": [],
   "source": [
    "# optional directory set-up\n",
    "train = pd.read_csv(\"../../housing_data/train.csv\")\n",
    "test = pd.read_csv(\"../../housing_data/test.csv\")\n",
    "sample = pd.read_csv(\"../../housing_data/sample_submission.csv\")"
   ]
  },
  {
   "cell_type": "code",
   "execution_count": 236,
   "metadata": {},
   "outputs": [
    {
     "name": "stdout",
     "output_type": "stream",
     "text": [
      "train shape: (1460, 81)\n",
      "test shape: (1459, 80)\n"
     ]
    }
   ],
   "source": [
    "print(\"train shape: {}\".format(train.shape))\n",
    "print(\"test shape: {}\".format(test.shape))"
   ]
  },
  {
   "cell_type": "markdown",
   "metadata": {},
   "source": [
    "Base functions for standard data cleanining to use in all models"
   ]
  },
  {
   "cell_type": "code",
   "execution_count": 237,
   "metadata": {},
   "outputs": [],
   "source": [
    "def na_clean(df):\n",
    "    \n",
    "    # some vars are just too missing so I remove the field\n",
    "    df = df.drop(columns = [\"PoolQC\", \"MiscFeature\"])\n",
    "\n",
    "    # replace some numeric vars w/ median\n",
    "    median_replace_vars = ['LotFrontage', 'MasVnrArea', 'GarageYrBlt', 'BsmtFinSF1', 'BsmtFinSF2', 'BsmtUnfSF', 'TotalBsmtSF', 'GarageArea']\n",
    "    for var in median_replace_vars:\n",
    "        df[var].fillna(df[var].median(), inplace = True)\n",
    "    \n",
    "    # replace some num vars w/ 0\n",
    "    zero_replace_vars = ['BsmtFullBath', 'BsmtHalfBath', 'GarageCars']\n",
    "    for var in zero_replace_vars:\n",
    "        df[var].fillna(0, inplace = True)\n",
    "    \n",
    "    # replace some cat vars w/ most freq value \n",
    "    df['MasVnrType'].fillna('None', inplace = True)\n",
    "    df['Electrical'].fillna('SBrkr', inplace = True)\n",
    "    df['MSZoning'].fillna('RL', inplace = True)\n",
    "    df['SaleType'].fillna('WD', inplace = True)\n",
    "    df['Utilities'].fillna('AllPub', inplace = True)\n",
    "    df['KitchenQual'].fillna('TA', inplace = True)\n",
    "    df['Functional'].fillna('Typ', inplace = True)\n",
    "\n",
    "    # other cat vars just put missing if there isn't a glaring most popular category\n",
    "    replace_missing_vars = ['Alley', 'BsmtQual', 'BsmtCond', 'BsmtExposure', 'BsmtFinType1', \n",
    "        'BsmtFinType2', 'GarageType', 'GarageFinish', 'GarageQual', 'GarageCond', 'Fence', 'Exterior1st', \n",
    "        'Exterior2nd', 'FireplaceQu']\n",
    "    for var in replace_missing_vars:\n",
    "        df[var].fillna(\"Missing\", inplace = True)\n",
    "\n",
    "    return df\n",
    "\n",
    "\n",
    "\n",
    "# Function for some standard feature engineering to use in all models\n",
    "def standard_feature_eng(df, test_data = False):\n",
    "    '''Input either the training or test data. \n",
    "    2nd arg set to True if it's the testing data. That way we ignore the final log transformation on sale price'''\n",
    "\n",
    "    # num features to just binarize b/c few houses have the feature\n",
    "    df[\"SwimmingPool\"] = df['PoolArea'].map(lambda x: 0 if x==0 else 1)\n",
    "    df[\"3SsnPorch\"] = df['3SsnPorch'].map(lambda x: 0 if x==0 else 1)\n",
    "    df[\"ScreenPorch\"] = df['ScreenPorch'].map(lambda x: 0 if x==0 else 1)\n",
    "\n",
    "    # re-factoring vars:\n",
    "    # group the irregularities into 2 factor levels\n",
    "    df['LotShape'] = df['LotShape'].map({'Reg': 'Reg', 'IR1': 'Reg', 'IR2': 'Irreg', 'IR3': 'Irreg'})\n",
    "\n",
    "    # simplifying MSSubClass because we have the year built in another feature\n",
    "    df['MSSubClass'] = df['MSSubClass'].map(lambda x: \n",
    "        \"1_story\"   if (x in (20, 30, 40, 120)) else(\n",
    "        \"1.5_story\" if (x in (45, 50, 150)) else(\n",
    "        \"2_story\"   if (x in (60, 70, 75, 160, 180, 190)) else(\n",
    "        \"split\"     if (x in (80, 85)) else(\n",
    "        \"duplex\"    if (x ==90) else(\n",
    "        \"other\"))))))\n",
    "    df['MSSubClass'] = df['MSSubClass'].astype(\"object\")\n",
    "\n",
    "    # simplifying more vars\n",
    "    # electrical:\n",
    "    df['Electrical'] = df['Electrical'].map(lambda x: \"SBrkr\" if x == \"SBrkr\" else \"Fuse\")\n",
    "    # exterior:\n",
    "    df['Exterior'] = df['Exterior1st'].map(lambda x: \n",
    "        # group exterior into simplified var based on average prices\n",
    "        \"Expensive\" if (x in (\"VinylSd\", \"CemntBd\", \"Stone\", \"ImStucc\")) else(\n",
    "        \"Cheap\" if (x in (\"BrkComm\", \"AsphShn\", \"CBlock\", \"AsbShng\")) else(\n",
    "        \"Moderate\")))\n",
    "    df = df.drop(columns=['Exterior1st', 'Exterior2nd'])\n",
    "    # garage\n",
    "    df['GarageQual'] = df['GarageQual'].map(lambda x: \n",
    "        # group exterior into simplified var based on average prices\n",
    "        \"Good\" if (x in (\"Ex\", \"Gd\")) else(\n",
    "        \"Medium\" if (x in (\"TA\")) else(\n",
    "        \"Bad\")))\n",
    "    df['Heating'] = df['Heating'].map(lambda x: \"Gas\" if x in (\"GasA\", \"GasW\") else \"Other\")\n",
    "\n",
    "    # deciding to drop a few features for various reasons\n",
    "    vars_to_drop = [\n",
    "        # not much variation:\n",
    "        \"LowQualFinSF\", \n",
    "        \"LandSlope\", \n",
    "        \"MiscVal\", \n",
    "        \"RoofMatl\",\n",
    "        \"Condition2\",\n",
    "        #\"KitchenAbvGr\" # hardly any variation. But, Deva included in lm's so including it now.\n",
    "        \"PoolArea\", # binarized above\n",
    "        \"Utilities\", # only 1 obs in training data different from regular\n",
    "        \"HouseStyle\" # already explained in other vars\n",
    "        ]\n",
    "    df.drop(columns=vars_to_drop, inplace=True) \n",
    "\n",
    "    # adding a remodeled feature\n",
    "    df['Remodeled'] = (df.YearRemodAdd-df.YearBuilt) == 0\n",
    "\n",
    "    # total inside area will be a sum of 1st and 2nd floor sq ft\n",
    "    df['Total_Inside_Area'] = df['1stFlrSF'] + df['2ndFlrSF']\n",
    "    df.drop(columns = ['1stFlrSF', '2ndFlrSF', 'GrLivArea'], inplace = True)\n",
    "\n",
    "    # simplify the bathrooms variable\n",
    "    df['Bathrooms'] = df.BsmtFullBath + 0.5*df.BsmtHalfBath + df.FullBath + 0.5*df.HalfBath\n",
    "    df.drop(columns = ['BsmtFullBath', 'BsmtHalfBath', 'FullBath', 'HalfBath'], inplace = True)\n",
    "\n",
    "    # expensive neighborhoods\n",
    "    top_10_neighborhoods = ['NoRidge', 'NridgHt', 'StoneBr','Timber','Veenker','Somerst','ClearCr','Crawfor','CollgCr','Blmngtn']\n",
    "    df['Expensive_neighborhood'] = df['Neighborhood'].map(lambda x: 1 if x in top_10_neighborhoods else 0)\n",
    "\n",
    "    # get log of sale price which will be our actual response variable\n",
    "    if test_data:\n",
    "        pass \n",
    "    else:\n",
    "        df['LogSalePrice'] = np.log(df.SalePrice)\n",
    "\n",
    "    return df"
   ]
  },
  {
   "cell_type": "code",
   "execution_count": 238,
   "metadata": {},
   "outputs": [
    {
     "name": "stdout",
     "output_type": "stream",
     "text": [
      "(1460, 69)\n"
     ]
    }
   ],
   "source": [
    "# shape after standard manipulations\n",
    "print(standard_feature_eng(na_clean(train)).shape)"
   ]
  },
  {
   "cell_type": "markdown",
   "metadata": {},
   "source": [
    "# Modeling"
   ]
  },
  {
   "cell_type": "markdown",
   "metadata": {},
   "source": [
    "## OLS"
   ]
  },
  {
   "cell_type": "markdown",
   "metadata": {},
   "source": [
    "Function to prep data for a very baseline linear model"
   ]
  },
  {
   "cell_type": "code",
   "execution_count": 239,
   "metadata": {},
   "outputs": [],
   "source": [
    "def lm_df_clean(df, test_data = False):\n",
    "\n",
    "    # first run standard data cleaning steps\n",
    "    df = na_clean(df)\n",
    "    df = standard_feature_eng(df, test_data = test_data)\n",
    "\n",
    "    lm_vars = ['LotArea', 'Street', 'Neighborhood', 'OverallQual', 'OverallCond', 'YearRemodAdd', \n",
    "              'BsmtCond', 'BedroomAbvGr', 'KitchenAbvGr', 'KitchenQual', 'TotRmsAbvGrd', 'YrSold', \n",
    "              'MoSold', 'Remodeled', 'Total_Inside_Area', 'Bathrooms']\n",
    "\n",
    "    df = pd.get_dummies(df[lm_vars], \n",
    "        columns = ['Street', 'Neighborhood', 'OverallQual', 'OverallCond', 'BsmtCond','KitchenQual'], \n",
    "        drop_first=True)\n",
    "    \n",
    "    return df"
   ]
  },
  {
   "cell_type": "markdown",
   "metadata": {},
   "source": [
    "Train OLS model"
   ]
  },
  {
   "cell_type": "code",
   "execution_count": 240,
   "metadata": {},
   "outputs": [],
   "source": [
    "# data setups\n",
    "X_train = lm_df_clean(train)\n",
    "X_test = lm_df_clean(test, test_data=True)\n",
    "Y_train = np.log(train.SalePrice)\n",
    "Y_test = np.log(sample.SalePrice)\n",
    "\n",
    "# fit to train data\n",
    "lr_1 = LinearRegression(fit_intercept=True).fit(X_train, Y_train)"
   ]
  },
  {
   "cell_type": "markdown",
   "metadata": {},
   "source": [
    "Evaluate performance"
   ]
  },
  {
   "cell_type": "code",
   "execution_count": 241,
   "metadata": {},
   "outputs": [
    {
     "name": "stdout",
     "output_type": "stream",
     "text": [
      "Fit on training data: 0.869\n",
      "Fit on testing data: -16.079\n",
      "Log RMSE on training data: 0.144\n",
      "Log RMSE on testing data: 0.372\n"
     ]
    }
   ],
   "source": [
    "print(\"Fit on training data: {:.3f}\".format(lr_1.score(X_train,Y_train)))\n",
    "print(\"Fit on testing data: {:.3f}\".format(lr_1.score(X_test ,Y_test)))\n",
    "\n",
    "yhat_train = lr_1.predict(X_train)\n",
    "yhat_test = lr_1.predict(X_test)\n",
    "\n",
    "# rmse\n",
    "rmse_train = (np.mean((yhat_train - Y_train)**2))**.5\n",
    "rmse_test = (np.mean((yhat_test - Y_test)**2))**.5\n",
    "\n",
    "print(\"Log RMSE on training data: {:.3f}\".format(rmse_train))\n",
    "print(\"Log RMSE on testing data: {:.3f}\".format(rmse_test))\n"
   ]
  },
  {
   "cell_type": "markdown",
   "metadata": {},
   "source": [
    "Graph of responses vs actuals"
   ]
  },
  {
   "cell_type": "code",
   "execution_count": 242,
   "metadata": {},
   "outputs": [
    {
     "name": "stdout",
     "output_type": "stream",
     "text": [
      "\n"
     ]
    },
    {
     "data": {
      "image/png": "[encoded data removed]",
      "text/plain": [
       "<Figure size 800.75x360 with 1 Axes>"
      ]
     },
     "metadata": {},
     "output_type": "display_data"
    }
   ],
   "source": [
    "def dist_plot(actuals, preds, title):\n",
    "    ols_resuls_df = pd.DataFrame({\n",
    "        \"Actuals\": actuals, \n",
    "        \"Prediction\": preds\n",
    "    }).melt(var_name=\"Type\", value_name=\"log_sale_price\")\n",
    "\n",
    "    sns.set_style(\"whitegrid\", rc = {'axes.grid' : False})\n",
    "    sns.displot(ols_resuls_df, x=\"log_sale_price\", hue=\"Type\", kind=\"kde\", aspect=2)\\\n",
    "        .set_axis_labels(x_var=\"Log Sale Price\")\n",
    "\n",
    "    plt.title(title,fontdict={\"fontsize\": 20})\n",
    "    print(\"\")\n",
    "\n",
    "dist_plot(actuals=Y_test, preds=yhat_test, title=\"OLS Model Results\")"
   ]
  },
  {
   "cell_type": "markdown",
   "metadata": {},
   "source": [
    "## OLS with 1 variable\n",
    "\n",
    "An OLS with 1 variable, overall quality, outperforms the more complex OLS model with many features. This uses the variable with highest coefficient from initial correlation matrix."
   ]
  },
  {
   "cell_type": "code",
   "execution_count": 243,
   "metadata": {},
   "outputs": [],
   "source": [
    "# data setup function\n",
    "def lm_overall_quality_df_clean(df, test_data = False):\n",
    "\n",
    "    # first run standard data cleaning steps\n",
    "    df = na_clean(df)\n",
    "    df = standard_feature_eng(df, test_data = test_data)\n",
    "    df = df.loc[:, ['OverallQual']]\n",
    "    \n",
    "    return df"
   ]
  },
  {
   "cell_type": "code",
   "execution_count": 244,
   "metadata": {},
   "outputs": [],
   "source": [
    "# data setups\n",
    "X_train = lm_overall_quality_df_clean(train)\n",
    "X_test = lm_overall_quality_df_clean(test, test_data=True)\n",
    "Y_train = np.log(train.SalePrice)\n",
    "Y_test = np.log(sample.SalePrice)\n",
    "\n",
    "# fit to train data\n",
    "lr_overall_quality = LinearRegression(fit_intercept=True).fit(X_train, Y_train)"
   ]
  },
  {
   "cell_type": "code",
   "execution_count": 245,
   "metadata": {},
   "outputs": [
    {
     "name": "stdout",
     "output_type": "stream",
     "text": [
      "Fit on training data: 0.668\n",
      "Fit on testing data: -14.120\n",
      "Log RMSE on training data: 0.230\n",
      "Log RMSE on testing data: 0.350\n"
     ]
    }
   ],
   "source": [
    "# Evaluate performance\n",
    "print(\"Fit on training data: {:.3f}\".format(lr_overall_quality.score(X_train,Y_train)))\n",
    "print(\"Fit on testing data: {:.3f}\".format(lr_overall_quality.score(X_test ,Y_test)))\n",
    "\n",
    "yhat_train = lr_overall_quality.predict(X_train)\n",
    "yhat_test = lr_overall_quality.predict(X_test)\n",
    "\n",
    "# set negative values to 0.1\n",
    "#yhat_train = np.array([0.1 if i < 0 else i for i in yhat_train])\n",
    "#yhat_test = [0.1 if i < 0 else i for i in yhat_test]\n",
    "\n",
    "# rmse\n",
    "rmse_train = (np.mean((yhat_train - Y_train)**2))**.5\n",
    "rmse_test = (np.mean((yhat_test - Y_test)**2))**.5\n",
    "\n",
    "print(\"Log RMSE on training data: {:.3f}\".format(rmse_train))\n",
    "print(\"Log RMSE on testing data: {:.3f}\".format(rmse_test))\n"
   ]
  },
  {
   "cell_type": "code",
   "execution_count": 246,
   "metadata": {},
   "outputs": [
    {
     "name": "stdout",
     "output_type": "stream",
     "text": [
      "\n"
     ]
    },
    {
     "data": {
      "image/png": "[encoded data removed]",
      "text/plain": [
       "<Figure size 800.75x360 with 1 Axes>"
      ]
     },
     "metadata": {},
     "output_type": "display_data"
    }
   ],
   "source": [
    "dist_plot(actuals=Y_test, preds=yhat_test, title=\"OLS Model With 1 Var Results\")"
   ]
  },
  {
   "cell_type": "markdown",
   "metadata": {},
   "source": [
    "## Lasso model v1"
   ]
  },
  {
   "cell_type": "code",
   "execution_count": 247,
   "metadata": {},
   "outputs": [],
   "source": [
    "# data setup function\n",
    "def lasso_df_clean(df, test_data = False):\n",
    "\n",
    "    # first run standard data cleaning steps\n",
    "    df = na_clean(df)\n",
    "    #df = standard_feature_eng(df, test_data = test_data)\n",
    "\n",
    "    # log transformations\n",
    "    df[\"GrLivArea\"] = np.log(df[\"GrLivArea\"])\n",
    "\n",
    "    # select only vars needed\n",
    "    if test_data:\n",
    "        df = df[[\"GrLivArea\",\"OverallQual\"]] \n",
    "    else:\n",
    "        df[\"SalePrice\"] = np.log(df[\"SalePrice\"])\n",
    "        df = df[[\"GrLivArea\",\"OverallQual\", \"SalePrice\"]]\n",
    "    \n",
    "    return df"
   ]
  },
  {
   "cell_type": "code",
   "execution_count": 248,
   "metadata": {},
   "outputs": [],
   "source": [
    "# data setups\n",
    "X_train = lasso_df_clean(train)\n",
    "X_test = lasso_df_clean(test, test_data=True)\n",
    "Y_train = X_train.SalePrice\n",
    "Y_test = np.log(sample.SalePrice)\n",
    "\n",
    "# fit to train data\n",
    "lasso_fit_v1 = Lasso(alpha=.01).fit(X_train[[\"GrLivArea\",\"OverallQual\"]], Y_train)"
   ]
  },
  {
   "cell_type": "code",
   "execution_count": 249,
   "metadata": {},
   "outputs": [
    {
     "name": "stdout",
     "output_type": "stream",
     "text": [
      "RMSE on training data: 0.202\n",
      "RMSE on testing data: 0.332\n"
     ]
    }
   ],
   "source": [
    "# Evaluate performance\n",
    "yhat_train = lasso_fit_v1.predict(X_train[[\"GrLivArea\",\"OverallQual\"]])\n",
    "yhat_test = lasso_fit_v1.predict(X_test[[\"GrLivArea\",\"OverallQual\"]])\n",
    "\n",
    "# rmse\n",
    "rmse_train = (np.mean((yhat_train - np.log(train.SalePrice))**2))**.5\n",
    "rmse_test = (np.mean((yhat_test - np.log(sample.SalePrice))**2))**.5\n",
    "\n",
    "print(\"RMSE on training data: {:.3f}\".format(rmse_train))\n",
    "print(\"RMSE on testing data: {:.3f}\".format(rmse_test))"
   ]
  },
  {
   "cell_type": "code",
   "execution_count": 250,
   "metadata": {},
   "outputs": [
    {
     "name": "stdout",
     "output_type": "stream",
     "text": [
      "\n"
     ]
    },
    {
     "data": {
      "image/png": "[encoded data removed]",
      "text/plain": [
       "<Figure size 800.75x360 with 1 Axes>"
      ]
     },
     "metadata": {},
     "output_type": "display_data"
    }
   ],
   "source": [
    "dist_plot(actuals=Y_test, preds=yhat_test, title=\"Lasso v1\")"
   ]
  },
  {
   "cell_type": "markdown",
   "metadata": {},
   "source": [
    "## Lasso model v2\n",
    "\n",
    "I think i used the wrong lasso model above. Using this one instead"
   ]
  },
  {
   "cell_type": "code",
   "execution_count": 251,
   "metadata": {},
   "outputs": [],
   "source": [
    "# first build one hot encoder based on the training data\n",
    "train_lasso = standard_feature_eng(na_clean(train))\n",
    "enc_lasso = OneHotEncoder(handle_unknown = 'ignore')\n",
    "enc_lasso.fit(train_lasso.select_dtypes(include=[\"object\"]))\n",
    "one_hot_columns = pd.get_dummies(train_lasso.select_dtypes(include=[\"object\"])).columns\n",
    "# will use this encoder in the function below\n",
    "\n",
    "# data setup function\n",
    "def lasso_df_clean(df, test_data = False):\n",
    "\n",
    "    # first run standard data cleaning steps\n",
    "    df = na_clean(df)\n",
    "    df = standard_feature_eng(df, test_data = test_data)\n",
    "\n",
    "    # one hot encode using encoder above\n",
    "    categorical_cols = pd.DataFrame(enc_lasso.transform(df.select_dtypes(include=[\"object\"])).toarray())\n",
    "    categorical_cols.columns = one_hot_columns\n",
    "    df = pd.concat([categorical_cols, df.select_dtypes(exclude=[\"object\"])], axis=1)\n",
    "\n",
    "    # log transformations\n",
    "    #df[\"GrLivArea\"] = np.log(df[\"GrLivArea\"])\n",
    "    \n",
    "    # select only vars needed\n",
    "    if test_data:\n",
    "        df = df.drop(columns=[\"Id\"])\n",
    "    else:\n",
    "        df = df.drop(columns=[\"Id\"])\n",
    "        df['SalePrice'] = np.log(df['SalePrice'])\n",
    "        #df = df[[\"GrLivArea\",\"OverallQual\", \"SalePrice\"]]\n",
    "    \n",
    "    return df"
   ]
  },
  {
   "cell_type": "code",
   "execution_count": 252,
   "metadata": {},
   "outputs": [],
   "source": [
    "# data setups\n",
    "X_train = lasso_df_clean(train)\n",
    "X_test = lasso_df_clean(test, test_data=True)\n",
    "Y_train = X_train.SalePrice\n",
    "Y_test = np.log(sample.SalePrice)\n",
    "\n",
    "# fit to train data\n",
    "lasso_fit = Lasso(alpha=.01).fit(X_train.drop(columns=['LogSalePrice', 'SalePrice']), Y_train)"
   ]
  },
  {
   "cell_type": "code",
   "execution_count": 253,
   "metadata": {},
   "outputs": [
    {
     "name": "stdout",
     "output_type": "stream",
     "text": [
      "RMSE on training data: 0.152\n",
      "RMSE on testing data: 0.358\n"
     ]
    }
   ],
   "source": [
    "# Evaluate performance\n",
    "yhat_train = lasso_fit.predict(X_train.drop(columns=['LogSalePrice', 'SalePrice']))\n",
    "yhat_test = lasso_fit.predict(X_test)\n",
    "\n",
    "# rmse\n",
    "rmse_train = (np.mean((yhat_train - np.log(train.SalePrice))**2))**.5\n",
    "rmse_test = (np.mean((yhat_test - np.log(sample.SalePrice))**2))**.5\n",
    "\n",
    "print(\"RMSE on training data: {:.3f}\".format(rmse_train))\n",
    "print(\"RMSE on testing data: {:.3f}\".format(rmse_test))"
   ]
  },
  {
   "cell_type": "code",
   "execution_count": 254,
   "metadata": {},
   "outputs": [
    {
     "name": "stdout",
     "output_type": "stream",
     "text": [
      "\n"
     ]
    },
    {
     "data": {
      "image/png": "[encoded data removed]",
      "text/plain": [
       "<Figure size 800.75x360 with 1 Axes>"
      ]
     },
     "metadata": {},
     "output_type": "display_data"
    }
   ],
   "source": [
    "dist_plot(actuals=np.log(sample.SalePrice), preds=yhat_test, title=\"Lasso v2\")"
   ]
  },
  {
   "cell_type": "markdown",
   "metadata": {},
   "source": [
    "## Random forest with cross validation"
   ]
  },
  {
   "cell_type": "code",
   "execution_count": 255,
   "metadata": {},
   "outputs": [],
   "source": [
    "# first build one hot encoder based on the training data\n",
    "train_rf = standard_feature_eng(na_clean(train))\n",
    "enc_rf = OneHotEncoder(handle_unknown = 'ignore')\n",
    "enc_rf.fit(train_rf.select_dtypes(include=[\"object\"]))\n",
    "one_hot_columns = pd.get_dummies(train_rf.select_dtypes(include=[\"object\"])).columns\n",
    "# will use this encoder in the function below"
   ]
  },
  {
   "cell_type": "code",
   "execution_count": 256,
   "metadata": {},
   "outputs": [],
   "source": [
    "# Random forest data clean function\n",
    "def rf_df_clean(df, test_data = False):\n",
    "\n",
    "    # first run standard data cleaning steps\n",
    "    df = na_clean(df)\n",
    "    df = standard_feature_eng(df, test_data = test_data)\n",
    "\n",
    "    # one hot encode using encoder above\n",
    "    categorical_cols = pd.DataFrame(enc_rf.transform(df.select_dtypes(include=[\"object\"])).toarray())\n",
    "    categorical_cols.columns = one_hot_columns\n",
    "    df = pd.concat([categorical_cols, df.select_dtypes(exclude=[\"object\"])], axis=1)\n",
    "    \n",
    "    # DO FEATURE ENGINEERING HERE\n",
    "    # drop irrelevant columns\n",
    "    df = df.drop(columns=[\"Id\"])\n",
    "    \n",
    "    return df"
   ]
  },
  {
   "cell_type": "markdown",
   "metadata": {},
   "source": [
    "Running this cross validation grid search took almost 30 minutes on my computer. I commented the results at the bottom so we don't have to keep re-running."
   ]
  },
  {
   "cell_type": "code",
   "execution_count": 257,
   "metadata": {},
   "outputs": [],
   "source": [
    "# preprocess the data\n",
    "df_rf = rf_df_clean(train)\n",
    "\n",
    "# create the train and test splits\n",
    "dev_train, dev_test = train_test_split(df_rf, test_size=0.1, random_state=1)\n",
    "\n",
    "# specify model\n",
    "rf = RandomForestRegressor(bootstrap=True, max_features='auto', random_state=1)\n",
    "\n",
    "# run grid search on range of values\n",
    "grid = {\n",
    "    \"n_estimators\": np.arange(100, 1001, 100),\n",
    "    'max_depth': np.arange(10, 101, 5),\n",
    "    'min_samples_split': [2, 5, 7],\n",
    "}\n",
    "\n",
    "# put our parameters into GridSearch\n",
    "gscv = GridSearchCV(\n",
    "    estimator = rf, \n",
    "    param_grid = grid, \n",
    "    n_jobs = -1, \n",
    "    cv = 3)\n",
    "\n",
    "# run the search:\n",
    "# this took 26 min to run. \n",
    "# re-run if you want\n",
    "#results = gscv.fit(dev_train.drop(columns = [\"SalePrice\", 'LogSalePrice']), dev_train.LogSalePrice)\n",
    "\n",
    "# check out the best parameters\n",
    "# print(results.best_params_)\n",
    "# {'max_depth': 25, 'min_samples_split': 2, 'n_estimators': 900}"
   ]
  },
  {
   "cell_type": "code",
   "execution_count": 258,
   "metadata": {},
   "outputs": [
    {
     "name": "stdout",
     "output_type": "stream",
     "text": [
      "RF Log RMSE: 0.3643\n"
     ]
    }
   ],
   "source": [
    "# finally, run model on best parameters and train on full dataset\n",
    "rf_reg = RandomForestRegressor(\n",
    "    n_estimators = 900,\n",
    "    max_depth = 25,\n",
    "    max_features = 'auto',\n",
    "    min_samples_split = 2,  \n",
    "    bootstrap = True, \n",
    "    random_state=1\n",
    "    )\n",
    "\n",
    "# fit the model\n",
    "df_rf = rf_df_clean(train)\n",
    "rf_reg.fit(df_rf.drop(columns = [\"SalePrice\", 'LogSalePrice']), df_rf.LogSalePrice)\n",
    "\n",
    "# evaluate performance\n",
    "yhat_rf = rf_reg.predict(rf_df_clean(test, test_data=True))\n",
    "resids = yhat_rf - np.log(sample.SalePrice)\n",
    "rmse_rf = np.mean(resids**2)**.5\n",
    "print(\"RF Log RMSE: {:.4f}\".format(rmse_rf))"
   ]
  },
  {
   "cell_type": "code",
   "execution_count": 259,
   "metadata": {},
   "outputs": [
    {
     "name": "stdout",
     "output_type": "stream",
     "text": [
      "\n"
     ]
    },
    {
     "data": {
      "image/png": "[encoded data removed]",
      "text/plain": [
       "<Figure size 360x504 with 1 Axes>"
      ]
     },
     "metadata": {
      "needs_background": "light"
     },
     "output_type": "display_data"
    }
   ],
   "source": [
    "# variable importance plot\n",
    "var_imp = pd.DataFrame({\n",
    "    'feature': dev_train.drop(columns = [\"SalePrice\", 'LogSalePrice']).columns,\n",
    "    'importance': rf_reg.feature_importances_\n",
    "})\n",
    "var_imp.sort_values(\"importance\", ascending=False, inplace=True)\n",
    "\n",
    "sns.reset_orig()\n",
    "fig, ax = plt.subplots(figsize=(5, 7))\n",
    "topn = 20\n",
    "ax.barh(var_imp.head(topn).feature, var_imp.head(topn).importance)\n",
    "ax.set_ylabel(\"Importance\")\n",
    "ax.set_xlabel(\"Feature\")\n",
    "ax.set_title(\"Feature Importance Plot: Top {}\".format(topn))\n",
    "ax.invert_yaxis()\n",
    "print(\"\")"
   ]
  },
  {
   "cell_type": "code",
   "execution_count": 260,
   "metadata": {},
   "outputs": [
    {
     "name": "stdout",
     "output_type": "stream",
     "text": [
      "\n"
     ]
    },
    {
     "data": {
      "image/png": "[encoded data removed]",
      "text/plain": [
       "<Figure size 800.75x360 with 1 Axes>"
      ]
     },
     "metadata": {},
     "output_type": "display_data"
    }
   ],
   "source": [
    "dist_plot(actuals=np.log(sample.SalePrice), preds=rf_reg.predict(rf_df_clean(test, test_data=True)), title=\"Random Forest\")"
   ]
  },
  {
   "cell_type": "markdown",
   "metadata": {},
   "source": [
    "## Random Forest, but split up dataset"
   ]
  },
  {
   "cell_type": "code",
   "execution_count": 261,
   "metadata": {},
   "outputs": [],
   "source": [
    "# first build one hot encoder based on the training data\n",
    "train_rf = standard_feature_eng(na_clean(train)).drop(columns=\"Neighborhood\")\n",
    "enc_rf = OneHotEncoder(handle_unknown = 'ignore')\n",
    "enc_rf.fit(train_rf.select_dtypes(include=[\"object\"]))\n",
    "one_hot_columns = pd.get_dummies(train_rf.select_dtypes(include=[\"object\"])).columns\n",
    "# will use this encoder in the function below\n",
    "\n",
    "# Random forest data clean function\n",
    "def rf_df_clean_high_low(df, test_data = False):\n",
    "\n",
    "    # first run standard data cleaning steps\n",
    "    df = na_clean(df)\n",
    "    df = standard_feature_eng(df, test_data = test_data)\n",
    "\n",
    "    # drop neighborhood var\n",
    "    df = df.drop(columns=\"Neighborhood\")\n",
    "    \n",
    "    # one hot encode using encoder above\n",
    "    categorical_cols = pd.DataFrame(enc_rf.transform(df.select_dtypes(include=[\"object\"])).toarray())\n",
    "    categorical_cols.columns = one_hot_columns\n",
    "    df = pd.concat([categorical_cols, df.select_dtypes(exclude=[\"object\"])], axis=1)\n",
    "    \n",
    "    # DO FEATURE ENGINEERING HERE\n",
    "\n",
    "    # drop irrelevant columns\n",
    "    df = df.drop(columns=[\"Id\"])\n",
    "    \n",
    "    return df"
   ]
  },
  {
   "cell_type": "code",
   "execution_count": 262,
   "metadata": {},
   "outputs": [],
   "source": [
    "# split data into high and low value neighborhoods\n",
    "train_high = rf_df_clean_high_low(train)\n",
    "train_high = train_high.loc[train_high.Expensive_neighborhood == 1]\n",
    "\n",
    "train_low = rf_df_clean_high_low(train)\n",
    "train_low = train_low.loc[train_low.Expensive_neighborhood == 0]\n",
    "\n",
    "# split up the test data too just like i will in the model\n",
    "test_high = rf_df_clean_high_low(test, test_data=True)\n",
    "test_high_y = np.log(sample.loc[test_high.Expensive_neighborhood == 1]['SalePrice'])\n",
    "test_high = test_high.loc[test_high.Expensive_neighborhood == 1]\n",
    "\n",
    "test_low = rf_df_clean_high_low(test, test_data=True)\n",
    "test_low_y = np.log(sample.loc[test_low.Expensive_neighborhood == 0]['SalePrice'])\n",
    "test_low = test_low.loc[test_low.Expensive_neighborhood == 0]"
   ]
  },
  {
   "cell_type": "markdown",
   "metadata": {},
   "source": [
    "Start w/ the high cost ones"
   ]
  },
  {
   "cell_type": "code",
   "execution_count": 263,
   "metadata": {},
   "outputs": [],
   "source": [
    "# create the train and test splits\n",
    "dev_train, dev_test = train_test_split(train_high, test_size=0.01, random_state=1)\n",
    "\n",
    "# specify model\n",
    "rf = RandomForestRegressor(bootstrap=True, max_features='auto', random_state=1)\n",
    "\n",
    "# run grid search on range of values\n",
    "grid = {\n",
    "    \"n_estimators\": [350, 400, 450],\n",
    "    'max_depth': [15, 17, 19, 20],\n",
    "    #'min_samples_split': [2, 10, 20],\n",
    "}\n",
    "\n",
    "# put our parameters into GridSearch\n",
    "gscv = GridSearchCV(\n",
    "    estimator = rf, \n",
    "    param_grid = grid, \n",
    "    n_jobs = -1, \n",
    "    cv = 7)\n",
    "\n",
    "# run the search:\n",
    "# results = gscv.fit(dev_train.drop(columns = [\"SalePrice\", 'LogSalePrice']), dev_train.LogSalePrice)\n",
    "\n",
    "# check out the best parameters\n",
    "# (I ran this several times)\n",
    "# print(results.best_params_)\n",
    "# {'max_depth': 15, 'n_estimators': 400, 'min_samples_split': 2}\n",
    "# {'max_depth': 17, 'n_estimators': 400}"
   ]
  },
  {
   "cell_type": "code",
   "execution_count": 264,
   "metadata": {},
   "outputs": [
    {
     "name": "stdout",
     "output_type": "stream",
     "text": [
      "RF Log RMSE on Expensive Homes: 0.3978\n"
     ]
    }
   ],
   "source": [
    "# now fit model w/ optimal hyperparams\n",
    "# finally, run model on best parameters and train on full dataset\n",
    "rf_reg_high = RandomForestRegressor(\n",
    "    n_estimators = 400,\n",
    "    max_depth = 17,\n",
    "    max_features = 'auto',\n",
    "    bootstrap = True, \n",
    "    random_state=1\n",
    "    )\n",
    "\n",
    "# fit the model\n",
    "rf_reg_high.fit(train_high.drop(columns = [\"SalePrice\", 'LogSalePrice']), train_high.LogSalePrice)\n",
    "\n",
    "# evaluate performance\n",
    "yhat_rf = rf_reg_high.predict(test_high)\n",
    "resids = yhat_rf - test_high_y\n",
    "rmse_rf = np.mean(resids**2)**.5\n",
    "print(\"RF Log RMSE on Expensive Homes: {:.4f}\".format(rmse_rf))"
   ]
  },
  {
   "cell_type": "markdown",
   "metadata": {},
   "source": [
    "Now for the low cost ones"
   ]
  },
  {
   "cell_type": "code",
   "execution_count": 265,
   "metadata": {},
   "outputs": [],
   "source": [
    "# create the train and test splits\n",
    "#dev_train, dev_test = train_test_split(train_low, test_size=0.01, random_state=1)\n",
    "\n",
    "# specify model\n",
    "rf = RandomForestRegressor(bootstrap=True, max_features='auto', random_state=1)\n",
    "\n",
    "# run grid search on range of values\n",
    "grid = {\n",
    "    \"n_estimators\": [500, 550],\n",
    "    'max_depth': [20, 22, 25, 30],\n",
    "    #'min_samples_split': [2, 10, 20],\n",
    "}\n",
    "\n",
    "# put our parameters into GridSearch\n",
    "gscv = GridSearchCV(\n",
    "    estimator = rf, \n",
    "    param_grid = grid, \n",
    "    n_jobs = -1, \n",
    "    cv = 5)\n",
    "\n",
    "# run the search:\n",
    "# results = gscv.fit(train_low.drop(columns = [\"SalePrice\", 'LogSalePrice']), train_low.LogSalePrice)\n",
    "\n",
    "# check out the best parameters\n",
    "# (I ran this several times)\n",
    "# print(results.best_params_)\n",
    "# {'max_depth': 20, 'min_samples_split': 2, 'n_estimators': 500}\n",
    "# {'max_depth': 22, 'n_estimators': 500}"
   ]
  },
  {
   "cell_type": "code",
   "execution_count": 266,
   "metadata": {},
   "outputs": [
    {
     "name": "stdout",
     "output_type": "stream",
     "text": [
      "RF Log RMSE on Cheap Homes: 0.3534\n"
     ]
    }
   ],
   "source": [
    "# now fit model w/ optimal hyperparams\n",
    "# finally, run model on best parameters and train on full dataset\n",
    "rf_reg_low = RandomForestRegressor(\n",
    "    n_estimators = 500,\n",
    "    max_depth = 22,\n",
    "    max_features = 'auto',\n",
    "    bootstrap = True, \n",
    "    random_state=1\n",
    "    )\n",
    "\n",
    "# fit the model\n",
    "rf_reg_low.fit(train_low.drop(columns = [\"SalePrice\", 'LogSalePrice']), train_low.LogSalePrice)\n",
    "\n",
    "# evaluate performance\n",
    "yhat_rf = rf_reg_low.predict(test_low)\n",
    "resids = yhat_rf - test_low_y\n",
    "rmse_rf = np.mean(resids**2)**.5\n",
    "print(\"RF Log RMSE on Cheap Homes: {:.4f}\".format(rmse_rf))"
   ]
  },
  {
   "cell_type": "markdown",
   "metadata": {},
   "source": [
    "Combine the two models"
   ]
  },
  {
   "cell_type": "code",
   "execution_count": 306,
   "metadata": {},
   "outputs": [],
   "source": [
    "def rf_high_low(df):\n",
    "\n",
    "    # create id to put df back into same exact order\n",
    "    df['Id'] = list(range(0, df.shape[0]))\n",
    "\n",
    "    # split dataset into high low\n",
    "    df_high = df.loc[df.Expensive_neighborhood == 1]\n",
    "    df_low = df.loc[df.Expensive_neighborhood == 0]\n",
    "\n",
    "    # run rf on high/low\n",
    "    df_high = df_high.assign(yhat = rf_reg_high.predict(df_high.drop(columns=\"Id\")))\n",
    "    df_low = df_low.assign(yhat = rf_reg_low.predict(df_low.drop(columns=\"Id\")))\n",
    "\n",
    "    # combine, sort values, and return results\n",
    "    df_preds = pd.concat([df_high[['Id', 'yhat']], df_low[['Id', 'yhat']]], axis=0)\n",
    "    df_preds = df_preds.sort_values(\"Id\", ascending=True)\n",
    "    return np.array(df_preds.yhat)    "
   ]
  },
  {
   "cell_type": "code",
   "execution_count": 308,
   "metadata": {},
   "outputs": [
    {
     "name": "stdout",
     "output_type": "stream",
     "text": [
      "RF Log RMSE Splitting up homes: 0.3687\n"
     ]
    }
   ],
   "source": [
    "# evaluate performance\n",
    "yhat_rf = rf_high_low(rf_df_clean_high_low(test, test_data=True))\n",
    "resids = yhat_rf - np.log(sample.SalePrice)\n",
    "rmse_rf = np.mean(resids**2)**.5\n",
    "print(\"RF Log RMSE Splitting up homes: {:.4f}\".format(rmse_rf))"
   ]
  },
  {
   "cell_type": "code",
   "execution_count": null,
   "metadata": {},
   "outputs": [],
   "source": []
  },
  {
   "cell_type": "markdown",
   "metadata": {},
   "source": [
    "## Gradient boosting regression"
   ]
  },
  {
   "cell_type": "markdown",
   "metadata": {},
   "source": [
    "Data set ups"
   ]
  },
  {
   "cell_type": "code",
   "execution_count": 27,
   "metadata": {},
   "outputs": [],
   "source": [
    "# first build one hot encoder based on the training data\n",
    "train_xgb = standard_feature_eng(na_clean(train))\n",
    "enc_xgb = OneHotEncoder(handle_unknown = 'ignore')\n",
    "enc_xgb.fit(train_xgb.select_dtypes(include=[\"object\"]))\n",
    "one_hot_columns_xgb = pd.get_dummies(train_xgb.select_dtypes(include=[\"object\"])).columns\n",
    "# will use this encoder in the function below\n",
    "\n",
    "# xgboost data clean function\n",
    "def xgb_df_clean(df, test_data = False):\n",
    "\n",
    "    # first run standard data cleaning steps\n",
    "    df = na_clean(df)\n",
    "    df = standard_feature_eng(df, test_data = test_data)\n",
    "\n",
    "    # one hot encode using encoder above\n",
    "    categorical_cols = pd.DataFrame(enc_xgb.transform(df.select_dtypes(include=[\"object\"])).toarray())\n",
    "    categorical_cols.columns = one_hot_columns_xgb\n",
    "    df = pd.concat([categorical_cols, df.select_dtypes(exclude=[\"object\"])], axis=1)\n",
    "    \n",
    "    # DO MORE FEATURE ENGINEERING HERE LATER\n",
    "    df = df.drop(columns = ['Id'])\n",
    "    \n",
    "    return df\n",
    "\n",
    "\n",
    "# preprocess the data\n",
    "df_xgb = xgb_df_clean(train)\n",
    "\n",
    "# get X feature names\n",
    "xgb_cols = np.array(df_xgb.drop(columns = [\"SalePrice\", 'LogSalePrice']).columns)\n",
    "\n",
    "# create the train and test splits\n",
    "dev_train_X, dev_test_X, dev_train_y, dev_test_y = train_test_split(\n",
    "    df_xgb.drop(columns = [\"SalePrice\", 'LogSalePrice']), \n",
    "    np.log(df_xgb['SalePrice']), \n",
    "    test_size=0.1, random_state=1)\n",
    "\n",
    "# convert data to DMatrix format\n",
    "dmat_train = xgb.DMatrix(dev_train_X, dev_train_y, feature_names=xgb_cols)\n",
    "dmat_test = xgb.DMatrix(dev_test_X, dev_test_y, feature_names=xgb_cols)"
   ]
  },
  {
   "cell_type": "markdown",
   "metadata": {},
   "source": [
    "Cross validate to find optimal hyperparameters"
   ]
  },
  {
   "cell_type": "code",
   "execution_count": 28,
   "metadata": {},
   "outputs": [],
   "source": [
    "# sklearn api for cross validating\n",
    "xgb_reg_cv = xgb.XGBRegressor(\n",
    "    booster=\"gbtree\",\n",
    "    verbosity=0,\n",
    "    # subsample=.7, \n",
    "    # colsample_bytree=.7\n",
    ")\n",
    "\n",
    "# set up grid for hyperparam tuning\n",
    "cv_grid = {\n",
    "    \"n_estimators\": [500, 600], \n",
    "    \"max_depth\": [6, 10, 20, 30],\n",
    "    \"learning_rate\": [.05, .1, .15], \n",
    "    'reg_alpha': [0, .1], \n",
    "    'reg_lambda': [0, .1], \n",
    "}\n",
    "\n",
    "# more randomization option\n",
    "gscv = GridSearchCV(estimator=xgb_reg_cv, param_grid=cv_grid, n_jobs=-1, cv=3)\n",
    "\n",
    "# fit step\n",
    "# (11 minutes)\n",
    "# xgb_cv_results = gscv.fit(dev_train_X, dev_train_y)\n",
    "# print(xgb_cv_results.best_params_)\n",
    "# {'learning_rate': 0.05, 'max_depth': 6, 'n_estimators': 500, 'reg_alpha': 0.1, 'reg_lambda': 0.1}"
   ]
  },
  {
   "cell_type": "markdown",
   "metadata": {},
   "source": [
    "Hyper parameter tune a bit further"
   ]
  },
  {
   "cell_type": "code",
   "execution_count": 29,
   "metadata": {},
   "outputs": [],
   "source": [
    "# sklearn api for cross validating\n",
    "xgb_reg_cv2 = xgb.XGBRegressor(\n",
    "    booster=\"gbtree\",\n",
    "    verbosity=0,\n",
    "    n_estimators=500\n",
    ")\n",
    "\n",
    "# set up grid for hyperparam tuning\n",
    "cv_grid = {\n",
    "    \"max_depth\": [5, 6, 7],\n",
    "    \"learning_rate\": [.07, .1], \n",
    "    'reg_alpha': [.1, .2, .3, 1], \n",
    "    'reg_lambda': [.1, .2, .3, 1], \n",
    "}\n",
    "\n",
    "# set up the grid search\n",
    "gscv = GridSearchCV(estimator=xgb_reg_cv2, param_grid=cv_grid, n_jobs=-1, cv=3)\n",
    "\n",
    "# fit step\n",
    "# (7 minutes)\n",
    "# xgb_cv_results_v2 = gscv.fit(dev_train_X, dev_train_y)\n",
    "# print(xgb_cv_results_v2.best_params_)\n",
    "# {'learning_rate': 0.07, 'max_depth': 5, 'reg_alpha': 0.2, 'reg_lambda': 0.3}"
   ]
  },
  {
   "cell_type": "markdown",
   "metadata": {},
   "source": [
    "Run xgboost again using the optimal hyper parameters from above"
   ]
  },
  {
   "cell_type": "code",
   "execution_count": 30,
   "metadata": {},
   "outputs": [
    {
     "name": "stdout",
     "output_type": "stream",
     "text": [
      "Log RMSE: 0.3900\n"
     ]
    }
   ],
   "source": [
    "# specify final params\n",
    "xgb_reg = xgb.XGBRegressor(\n",
    "    booster=\"gbtree\",\n",
    "    verbosity=0,\n",
    "    learning_rate=.07,\n",
    "    max_depth=5,\n",
    "    n_estimators=500, \n",
    "    reg_alpha=.2, \n",
    "    reg_lambda=.3\n",
    ")\n",
    "\n",
    "# fit to train\n",
    "xgb_reg.fit(df_xgb.drop(columns = [\"SalePrice\", 'LogSalePrice']), np.log(df_xgb['SalePrice']))\n",
    "\n",
    "# evaluate performance on test\n",
    "yhat = xgb_reg.predict(xgb_df_clean(test, test_data=True))\n",
    "resids = yhat - np.log(sample.SalePrice)\n",
    "print(\"Log RMSE: {:.4f}\".format(np.mean(resids**2)**.5))"
   ]
  },
  {
   "cell_type": "code",
   "execution_count": 31,
   "metadata": {},
   "outputs": [
    {
     "name": "stdout",
     "output_type": "stream",
     "text": [
      "[0]\ttrain-rmse:10.72639\ttest-rmse:10.70904\n",
      "[1]\ttrain-rmse:9.97648\ttest-rmse:9.95969\n",
      "[2]\ttrain-rmse:9.27908\ttest-rmse:9.26282\n",
      "[3]\ttrain-rmse:8.63051\ttest-rmse:8.61476\n",
      "[4]\ttrain-rmse:8.02736\ttest-rmse:8.01209\n",
      "[5]\ttrain-rmse:7.46644\ttest-rmse:7.45205\n",
      "[6]\ttrain-rmse:6.94476\ttest-rmse:6.93240\n",
      "[7]\ttrain-rmse:6.45959\ttest-rmse:6.44802\n",
      "[8]\ttrain-rmse:6.00844\ttest-rmse:5.99731\n",
      "[9]\ttrain-rmse:5.58888\ttest-rmse:5.57864\n",
      "[10]\ttrain-rmse:5.19864\ttest-rmse:5.18913\n",
      "[11]\ttrain-rmse:4.83574\ttest-rmse:4.82653\n",
      "[12]\ttrain-rmse:4.49827\ttest-rmse:4.48988\n",
      "[13]\ttrain-rmse:4.18442\ttest-rmse:4.17753\n",
      "[14]\ttrain-rmse:3.89258\ttest-rmse:3.88587\n",
      "[15]\ttrain-rmse:3.62115\ttest-rmse:3.61544\n",
      "[16]\ttrain-rmse:3.36873\ttest-rmse:3.36332\n",
      "[17]\ttrain-rmse:3.13400\ttest-rmse:3.12906\n",
      "[18]\ttrain-rmse:2.91574\ttest-rmse:2.91185\n",
      "[19]\ttrain-rmse:2.71275\ttest-rmse:2.70950\n",
      "Log RMSE: 0.3900\n"
     ]
    }
   ],
   "source": [
    "# trying the xgboost implementation just to compare with the sklearn api\n",
    "# create the train and test splits\n",
    "dev_train_X, dev_test_X, dev_train_y, dev_test_y = train_test_split(\n",
    "    df_xgb.drop(columns = [\"SalePrice\", 'LogSalePrice']), \n",
    "    np.log(df_xgb['SalePrice']), \n",
    "    test_size=0.1, random_state=1)\n",
    "\n",
    "# convert data to DMatrix format\n",
    "dmat_train = xgb.DMatrix(dev_train_X, dev_train_y, feature_names=xgb_cols)\n",
    "dmat_test = xgb.DMatrix(dev_test_X, dev_test_y, feature_names=xgb_cols)\n",
    "\n",
    "# final fit\n",
    "booster_xgb = xgb.train({\n",
    "\n",
    "    \"booster\": \"gbtree\", \n",
    "    \"n_estimators\": 500,\n",
    "    \"eta\": .07, \n",
    "    \"max_depth\": 5, \n",
    "    \"lambda\": .3, \n",
    "    \"alpha\": .2, \n",
    "    \"eval_metric\": \"rmse\", \n",
    "    \"objective\": \"reg:squarederror\"\n",
    "    },\n",
    "\n",
    "    dmat_train,\n",
    "    num_boost_round=20,\n",
    "    evals=[(dmat_train, \"train\"), (dmat_test, \"test\")]\n",
    ")\n",
    "\n",
    "# evaluate final performance on test\n",
    "df_xgb_test = xgb.DMatrix(xgb_df_clean(test, test_data=True))\n",
    "preds = booster_xgb.predict(df_xgb_test)\n",
    "redids = preds - np.log(sample.SalePrice)\n",
    "print(\"Log RMSE: {:.4f}\".format(np.mean(resids**2)**.5))"
   ]
  },
  {
   "cell_type": "code",
   "execution_count": 32,
   "metadata": {},
   "outputs": [
    {
     "name": "stdout",
     "output_type": "stream",
     "text": [
      "\n"
     ]
    },
    {
     "data": {
      "image/png": "[encoded data removed]",
      "text/plain": [
       "<Figure size 800.75x360 with 1 Axes>"
      ]
     },
     "metadata": {},
     "output_type": "display_data"
    }
   ],
   "source": [
    "dist_plot(actuals=np.log(sample.SalePrice), preds=xgb_reg.predict(xgb_df_clean(test, test_data=True)), title=\"XGBoost\")"
   ]
  },
  {
   "cell_type": "code",
   "execution_count": 33,
   "metadata": {},
   "outputs": [
    {
     "name": "stdout",
     "output_type": "stream",
     "text": [
      "[0]\ttrain-rmse:6.93054\ttest-rmse:6.91349\n",
      "[1]\ttrain-rmse:4.16779\ttest-rmse:4.15462\n",
      "[2]\ttrain-rmse:2.51219\ttest-rmse:2.51154\n",
      "[3]\ttrain-rmse:1.52525\ttest-rmse:1.53274\n",
      "[4]\ttrain-rmse:0.92692\ttest-rmse:0.93953\n",
      "[5]\ttrain-rmse:0.57653\ttest-rmse:0.59127\n",
      "[6]\ttrain-rmse:0.36835\ttest-rmse:0.40155\n",
      "[7]\ttrain-rmse:0.24324\ttest-rmse:0.28134\n",
      "[8]\ttrain-rmse:0.16883\ttest-rmse:0.21632\n",
      "[9]\ttrain-rmse:0.12502\ttest-rmse:0.19177\n",
      "Log RMSE: 0.3900\n"
     ]
    }
   ],
   "source": [
    "# a more overfit xgbooster\n",
    "booster_deep_trees = xgb.train({\n",
    "\n",
    "    \"booster\": \"gbtree\", \n",
    "    \"max_depth\": 30, \n",
    "    \"eta\": .4, \n",
    "    \"gamma\": .01, \n",
    "    \"subsample\": 0.6,\n",
    "    \"lambda\": .7, \n",
    "    \"alpha\": 0, \n",
    "    \"max_bin\": 256, \n",
    "    \"colsample_bytree\": .7, # proportion of features\n",
    "    \"eval_metric\": \"rmse\", \n",
    "    \"objective\": \"reg:squarederror\"\n",
    "    },\n",
    "\n",
    "    dmat_train,\n",
    "    evals=[(dmat_train, \"train\"), (dmat_test, \"test\")] \n",
    ")\n",
    "\n",
    "# evaluate final performance on test\n",
    "df_xgb_test = xgb.DMatrix(xgb_df_clean(test, test_data=True))\n",
    "preds = booster_deep_trees.predict(df_xgb_test)\n",
    "redids = preds - np.log(sample.SalePrice)\n",
    "print(\"Log RMSE: {:.4f}\".format(np.mean(resids**2)**.5))"
   ]
  },
  {
   "cell_type": "markdown",
   "metadata": {},
   "source": [
    "# Neural Net"
   ]
  },
  {
   "cell_type": "code",
   "execution_count": 34,
   "metadata": {},
   "outputs": [],
   "source": [
    "# Neural net data clean function\n",
    "def nn_df_clean_pt1(df, test_data = False):\n",
    "\n",
    "    # first run standard data cleaning steps\n",
    "    df = na_clean(df)\n",
    "    df = standard_feature_eng(df, test_data = test_data)\n",
    "\n",
    "    # feature engineer\n",
    "    Expensive_neighborhoods = ['Somerst', 'Blmngtn', 'BrDale', 'NridgHt', 'StoneBr', 'MeadowV']\n",
    "    df['Expensive_neighborhood'] = df['Neighborhood'].apply(lambda x: any([k in x for k in Expensive_neighborhoods]))\n",
    "\n",
    "    # select smaller subset of features for NN\n",
    "    df = df[['LotArea', 'OverallQual','Remodeled', 'Total_Inside_Area', 'Bathrooms', 'Expensive_neighborhood']]\n",
    "    \n",
    "    return df\n",
    "\n",
    "\n",
    "# set up standard scaler based on train\n",
    "sc = StandardScaler().fit(nn_df_clean_pt1(train))\n",
    "\n",
    "# now build reproducible NN data clean function\n",
    "def nn_df_clean(df, test_data = False):\n",
    "\n",
    "    # first run standard data cleaning steps\n",
    "    df = na_clean(df)\n",
    "    df = standard_feature_eng(df, test_data = test_data)\n",
    "\n",
    "    # feature engineer\n",
    "    Expensive_neighborhoods = ['Somerst', 'Blmngtn', 'BrDale', 'NridgHt', 'StoneBr', 'MeadowV']\n",
    "    df['Expensive_neighborhood'] = df['Neighborhood'].apply(lambda x: any([k in x for k in Expensive_neighborhoods]))\n",
    "\n",
    "    # select smaller subset of features for NN\n",
    "    df = df[['LotArea', 'OverallQual','Remodeled', 'Total_Inside_Area', 'Bathrooms', 'Expensive_neighborhood']]\n",
    "\n",
    "    # standard scaler\n",
    "    df = sc.transform(df)\n",
    "    \n",
    "    return df"
   ]
  },
  {
   "cell_type": "code",
   "execution_count": 36,
   "metadata": {},
   "outputs": [],
   "source": [
    "# train test split\n",
    "X_train, X_test, y_train, y_test = train_test_split(nn_df_clean(train), np.log(train.SalePrice), random_state=3, test_size=.1)"
   ]
  },
  {
   "cell_type": "code",
   "execution_count": 7,
   "metadata": {},
   "outputs": [],
   "source": [
    "from tensorflow.keras.layers import Dense, Activation"
   ]
  },
  {
   "cell_type": "code",
   "execution_count": 2,
   "metadata": {},
   "outputs": [],
   "source": [
    "# having 6 neuron is based on the number of available features\n",
    "# for some reason I had to import these keras packages separately first, otherwise my other ones wouldn't load correctly \n",
    "from keras.layers import Dense, Activation\n",
    "\n",
    "model = keras.models.Sequential()\n",
    "from keras.layers  as Dense\n",
    "\n",
    "model.add(Dense(6,activation='relu'))\n",
    "model.add(Dense(6,activation='relu'))\n",
    "model.add(Dense(6,activation='relu'))\n",
    "model.add(Dense(6,activation='relu'))\n",
    "model.add(Dense(1))\n",
    "\n",
    "# Compiling the ANN\n",
    "model.compile(optimizer='Adam',loss='mean_squared_error')\n",
    "\n",
    "# fit to training data\n",
    "model.fit(x=X_train,y=y_train,\n",
    "          validation_data=(X_test,y_test),\n",
    "          batch_size=128,epochs=400)\n",
    "\n",
    "# model.summary()\n",
    "# loss_df = pd.DataFrame(model.history.history)\n",
    "# loss_df.plot(figsize=(12,8))\n",
    "\n",
    "# evaluate performance on test\n",
    "yhat_nn = model.predict(nn_df_clean(test, test_data=True))\n",
    "print(yhat_nn)"
   ]
  },
  {
   "cell_type": "code",
   "execution_count": 1,
   "metadata": {},
   "outputs": [
    {
     "name": "stdout",
     "output_type": "stream",
     "text": [
      "hi\n"
     ]
    }
   ],
   "source": [
    "# evaluate performance on test\n",
    "print(\"hi\")"
   ]
  },
  {
   "cell_type": "code",
   "execution_count": 2,
   "metadata": {},
   "outputs": [
    {
     "data": {
      "text/plain": [
       "0    1\n",
       "1    2\n",
       "dtype: int64"
      ]
     },
     "execution_count": 2,
     "metadata": {},
     "output_type": "execute_result"
    }
   ],
   "source": []
  },
  {
   "cell_type": "code",
   "execution_count": 41,
   "metadata": {},
   "outputs": [
    {
     "data": {
      "text/plain": [
       "1"
      ]
     },
     "execution_count": 41,
     "metadata": {},
     "output_type": "execute_result"
    }
   ],
   "source": []
  },
  {
   "cell_type": "code",
   "execution_count": null,
   "metadata": {},
   "outputs": [],
   "source": []
  },
  {
   "cell_type": "code",
   "execution_count": null,
   "metadata": {},
   "outputs": [],
   "source": []
  },
  {
   "cell_type": "markdown",
   "metadata": {},
   "source": [
    "# Final Ensemble model\n",
    "\n",
    "This doesn't work yet, but this is how I have in mind to make the final predictions. Make sure each of these models are pretrained from above:\n",
    "- OLS (lr_1)\n",
    "- OLS Simple (lr_overall_quality)\n",
    "- GLM (still want this??)\n",
    "- Lasso (update)\n",
    "- Random forest (rf_reg)\n",
    "- Extreme gradient boosting machine (update)\n",
    "\n",
    "\n",
    "Then we can pass in brand new incoming data to make predictions with this function"
   ]
  },
  {
   "cell_type": "code",
   "execution_count": 382,
   "metadata": {},
   "outputs": [],
   "source": [
    "# Load in brand new data to make sure it all works\n",
    "working_dir = !pwd\n",
    "train = pd.read_csv(os.path.join(working_dir[0], \"../../housing_data\", \"train.csv\"))\n",
    "test = pd.read_csv(os.path.join(working_dir[0], \"../../housing_data\", \"test.csv\"))\n",
    "sample = pd.read_csv(os.path.join(working_dir[0], \"../../housing_data\", \"sample_submission.csv\"))"
   ]
  },
  {
   "cell_type": "code",
   "execution_count": 393,
   "metadata": {},
   "outputs": [],
   "source": [
    "def housing_ensemble_model(df, output_type='regular'):\n",
    "    '''This is the final model that takes in raw data, and makes predictions'''\n",
    "\n",
    "    # OLS\n",
    "    yhat_ols1 = lr_1.predict(lm_df_clean(df, test_data=True))\n",
    "\n",
    "    # OLS Simple\n",
    "    yhat_ols_simple = lr_overall_quality.predict(lm_overall_quality_df_clean(df, test_data=True))\n",
    "\n",
    "    # GLM\n",
    "\n",
    "    # Lasso\n",
    "    yhat_lasso = lasso_fit.predict(lasso_df_clean(df, test_data=True))\n",
    "\n",
    "    # Random forest\n",
    "    yhat_rf = rf_reg.predict(rf_df_clean(df, test_data=True))\n",
    "\n",
    "    # XGB\n",
    "    yhat_xgb = xgb_reg.predict(xgb_df_clean(df, test_data=True))\n",
    "\n",
    "    # make ensemble prediction\n",
    "    # Do more work to come up w/ weights. This is just a sample\n",
    "    yhat_final = yhat_ols1*(1/5) + yhat_ols_simple * (1/5) + yhat_lasso * (1/5) + yhat_rf * (1/5) + yhat_xgb * (1/5)\n",
    "\n",
    "    if output_type == \"not logged\":\n",
    "        return np.exp(yhat_final)\n",
    "\n",
    "    elif output_type == \"df\":\n",
    "        result_df = pd.DataFrame({\n",
    "            \"ols1\":          yhat_ols1, \n",
    "            \"ols_simple\":    yhat_ols_simple, \n",
    "            \"lasso\":         yhat_lasso, \n",
    "            \"random_forest\": yhat_rf, \n",
    "            \"xgb\":           yhat_xgb, \n",
    "            \"ensemble\":      yhat_final\n",
    "        })\n",
    "        return result_df\n",
    "\n",
    "    elif output_type == \"test performances\":\n",
    "        result_df = {\n",
    "            \"ols1\":          np.mean((np.log(sample.SalePrice) - yhat_ols1)**2)**.5,\n",
    "            \"ols_simple\":    np.mean((np.log(sample.SalePrice) - yhat_ols_simple)**2)**.5,\n",
    "            \"lasso\":         np.mean((np.log(sample.SalePrice) - yhat_lasso)**2)**.5,\n",
    "            \"random_forest\": np.mean((np.log(sample.SalePrice) - yhat_rf)**2)**.5, \n",
    "            \"xgb\":           np.mean((np.log(sample.SalePrice) - yhat_xgb)**2)**.5, \n",
    "            \"ensemble\":      np.mean((np.log(sample.SalePrice) - yhat_final)**2)**.5\n",
    "        }\n",
    "        return result_df\n",
    "\n",
    "    else:\n",
    "        return yhat_final\n"
   ]
  },
  {
   "cell_type": "code",
   "execution_count": 389,
   "metadata": {},
   "outputs": [
    {
     "name": "stdout",
     "output_type": "stream",
     "text": [
      "RMSE Train: 22297.8940020255\n",
      "RMSE Test: 66875.2648708175\n",
      "\n",
      "Log RMSE Train: 0.10453871022070585\n",
      "Log RMSE Test: 0.355971143969446\n"
     ]
    }
   ],
   "source": [
    "# final ensemble model RMSE\n",
    "yhat_train = housing_ensemble_model(train.drop(columns = [\"SalePrice\"]))\n",
    "yhat_test = housing_ensemble_model(test)\n",
    "\n",
    "rmse_train = np.mean((train.SalePrice - np.exp(yhat_train))**2)**.5\n",
    "rmse_test = np.mean((sample.SalePrice - np.exp(yhat_test))**2)**.5\n",
    "\n",
    "# evaluate rmse  on the testing data\n",
    "print(\"RMSE Train: {}\".format(rmse_train))\n",
    "print(\"RMSE Test: {}\".format(rmse_test))\n",
    "\n",
    "# log results\n",
    "rmse_train_log = np.mean((np.log(train.SalePrice) - yhat_train)**2)**.5\n",
    "rmse_test_log = np.mean((np.log(sample.SalePrice) - yhat_test)**2)**.5\n",
    "# evaluate rmse  on the testing data\n",
    "print(\"\\nLog RMSE Train: {}\".format(rmse_train_log))\n",
    "print(\"Log RMSE Test: {}\".format(rmse_test_log))\n"
   ]
  },
  {
   "cell_type": "code",
   "execution_count": 395,
   "metadata": {},
   "outputs": [
    {
     "name": "stdout",
     "output_type": "stream",
     "text": [
      "\n"
     ]
    },
    {
     "data": {
      "image/png": "[encoded data removed]",
      "text/plain": [
       "<Figure size 828.375x360 with 1 Axes>"
      ]
     },
     "metadata": {
      "needs_background": "light"
     },
     "output_type": "display_data"
    }
   ],
   "source": [
    "# see distribution of the accuracies\n",
    "result_df = housing_ensemble_model(test, output_type=\"df\")\n",
    "result_df = pd.concat([result_df, \n",
    "    pd.DataFrame({\"Actual\": np.log(sample.SalePrice)})\n",
    "    ], axis=1)\n",
    "\n",
    "result_df = result_df.melt(var_name=\"Type\", value_name=\"log_sale_price\")\n",
    "result_df\n",
    "\n",
    "sns.reset_orig()\n",
    "sns.displot(result_df, x=\"log_sale_price\", hue=\"Type\", kind=\"kde\", aspect=2).set_axis_labels(x_var=\"Log Sale Price\")\n",
    "plt.title(\"Model Distributions\",fontdict={\"fontsize\": 20})\n",
    "print(\"\")"
   ]
  },
  {
   "cell_type": "markdown",
   "metadata": {},
   "source": [
    "See each model's performance\n"
   ]
  },
  {
   "cell_type": "code",
   "execution_count": 394,
   "metadata": {},
   "outputs": [
    {
     "data": {
      "text/plain": [
       "{'ols1': 0.37203063827417354,\n",
       " 'ols_simple': 0.3500410739830086,\n",
       " 'lasso': 0.35722015970506366,\n",
       " 'random_forest': 0.36451359157240215,\n",
       " 'xgb': 0.38995480858748494,\n",
       " 'ensemble': 0.355971143969446}"
      ]
     },
     "execution_count": 394,
     "metadata": {},
     "output_type": "execute_result"
    }
   ],
   "source": [
    "housing_ensemble_model(test, output_type=\"test performances\")"
   ]
  },
  {
   "cell_type": "markdown",
   "metadata": {},
   "source": [
    "# Scratch work below for sample submissions"
   ]
  },
  {
   "cell_type": "code",
   "execution_count": 320,
   "metadata": {},
   "outputs": [],
   "source": [
    "lasso_data = lasso_df_clean(test, test_data=True)\n",
    "yhat_lasso = lasso_fit.predict(lasso_data)"
   ]
  },
  {
   "cell_type": "code",
   "execution_count": 323,
   "metadata": {},
   "outputs": [],
   "source": [
    "sample_submission = pd.DataFrame({\n",
    "    \"Id\": test.Id,\n",
    "    \"SalePrice\": np.exp(yhat_lasso)\n",
    "})\n",
    "sample_submission.to_csv(\"~/Desktop/sample_submission_lasso.csv\", index=False)"
   ]
  },
  {
   "cell_type": "code",
   "execution_count": null,
   "metadata": {},
   "outputs": [],
   "source": []
  }
 ],
 "metadata": {
  "interpreter": {
   "hash": "f9a763963a0c2e3eb3033a1766c128288cb698df5642a2fe22798efe2c630a93"
  },
  "kernelspec": {
   "display_name": "Python 3.9.1 64-bit (conda)",
   "name": "python3"
  },
  "language_info": {
   "codemirror_mode": {
    "name": "ipython",
    "version": 3
   },
   "file_extension": ".py",
   "mimetype": "text/x-python",
   "name": "python",
   "nbconvert_exporter": "python",
   "pygments_lexer": "ipython3",
   "version": "3.9.1"
  },
  "orig_nbformat": 4
 },
 "nbformat": 4,
 "nbformat_minor": 2
}
