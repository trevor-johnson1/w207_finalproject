{
 "cells": [
  {
   "cell_type": "markdown",
   "metadata": {},
   "source": [
    "# House Prices - Advanced Regression Techniques\n",
    "\n",
    "## Deva Kulkarni, Jared Dec, Marc Semonick, Trevor Johnson\n",
    "\n",
    "## October 2021\n",
    "\n",
    "<br>\n",
    "\n",
    "Competition Link: https://www.kaggle.com/c/house-prices-advanced-regression-techniques\n",
    "\n",
    "Goal: Predict sales price for each house (`SalePrice`). RMSE on log(pred) - log(actual) will be the evaluation metric. \n",
    "\n",
    "Inference Problem:  Given known variables about a house, accurately predict its sale price.\n",
    "\n",
    "Deliverable: Final submission dataset should contain only the two fields `ID` and `SalePrice`. "
   ]
  },
  {
   "cell_type": "markdown",
   "metadata": {},
   "source": [
    "# Setups"
   ]
  },
  {
   "cell_type": "markdown",
   "metadata": {},
   "source": [
    "Import modules"
   ]
  },
  {
   "cell_type": "code",
   "execution_count": 2,
   "metadata": {},
   "outputs": [],
   "source": [
    "# from tensorflow import keras\n",
    "# from tensorflow.keras.layers import Dense, Activation"
   ]
  },
  {
   "cell_type": "code",
   "execution_count": 3,
   "metadata": {},
   "outputs": [],
   "source": [
    "import os \n",
    "import re\n",
    "\n",
    "# data manipulation/viz\n",
    "import pandas as pd \n",
    "import numpy as np \n",
    "import seaborn as sns\n",
    "import matplotlib.pyplot as plt\n",
    "\n",
    "# modeling setups\n",
    "from patsy import dmatrices\n",
    "from sklearn.model_selection import RandomizedSearchCV\n",
    "from sklearn.model_selection import train_test_split\n",
    "from sklearn.model_selection import GridSearchCV\n",
    "from sklearn.preprocessing import OneHotEncoder, StandardScaler, MinMaxScaler\n",
    "from sklearn.preprocessing import StandardScaler\n",
    "\n",
    "# linear modeling\n",
    "from sklearn.linear_model import LinearRegression\n",
    "from sklearn.linear_model import Lasso\n",
    "import statsmodels.api as sm\n",
    "from statsmodels.formula.api import glm \n",
    "\n",
    "# tree modeling\n",
    "from sklearn.tree import DecisionTreeRegressor\n",
    "from sklearn.ensemble import RandomForestRegressor\n",
    "import xgboost as xgb\n",
    "\n",
    "# other\n",
    "from sklearn.decomposition import PCA\n",
    "\n",
    "# turn off the df['col'] = x assignment warning\n",
    "pd.options.mode.chained_assignment = None  # default='warn'"
   ]
  },
  {
   "cell_type": "markdown",
   "metadata": {},
   "source": [
    "Load in the data"
   ]
  },
  {
   "cell_type": "code",
   "execution_count": 4,
   "metadata": {},
   "outputs": [],
   "source": [
    "# optional directory set-up\n",
    "train = pd.read_csv(\"../../housing_data/train.csv\")\n",
    "test = pd.read_csv(\"../../housing_data/test.csv\")\n",
    "sample = pd.read_csv(\"../../housing_data/sample_submission.csv\")"
   ]
  },
  {
   "cell_type": "code",
   "execution_count": 5,
   "metadata": {},
   "outputs": [
    {
     "name": "stdout",
     "output_type": "stream",
     "text": [
      "train shape: (1460, 81)\n",
      "test shape: (1459, 80)\n"
     ]
    }
   ],
   "source": [
    "print(\"train shape: {}\".format(train.shape))\n",
    "print(\"test shape: {}\".format(test.shape))"
   ]
  },
  {
   "cell_type": "markdown",
   "metadata": {},
   "source": [
    "Base functions for standard data cleanining to use in all models"
   ]
  },
  {
   "cell_type": "code",
   "execution_count": 6,
   "metadata": {},
   "outputs": [],
   "source": [
    "def na_clean(df):\n",
    "    \n",
    "    # some vars are just too missing so I remove the field\n",
    "    df = df.drop(columns = [\"PoolQC\", \"MiscFeature\"])\n",
    "\n",
    "    # replace some numeric vars w/ median\n",
    "    median_replace_vars = ['LotFrontage', 'MasVnrArea', 'GarageYrBlt', 'BsmtFinSF1', 'BsmtFinSF2', 'BsmtUnfSF', 'TotalBsmtSF', 'GarageArea']\n",
    "    for var in median_replace_vars:\n",
    "        df.loc[:, var].fillna(df[var].median(), inplace = True)\n",
    "    \n",
    "    # replace some num vars w/ 0\n",
    "    zero_replace_vars = ['BsmtFullBath', 'BsmtHalfBath', 'GarageCars']\n",
    "    for var in zero_replace_vars:\n",
    "        df.loc[:, var].fillna(0, inplace = True)\n",
    "    \n",
    "    # replace some cat vars w/ most freq value \n",
    "    df.loc[:, 'MasVnrType'].fillna('None', inplace = True)\n",
    "    df.loc[:, 'Electrical'].fillna('SBrkr', inplace = True)\n",
    "    df.loc[:, 'MSZoning'].fillna('RL', inplace = True)\n",
    "    df.loc[:, 'SaleType'].fillna('WD', inplace = True)\n",
    "    df.loc[:, 'Utilities'].fillna('AllPub', inplace = True)\n",
    "    df.loc[:, 'KitchenQual'].fillna('TA', inplace = True)\n",
    "    df.loc[:, 'Functional'].fillna('Typ', inplace = True)\n",
    "\n",
    "    # other cat vars just put \"missing\" if there isn't an obvious most popular category\n",
    "    replace_missing_vars = ['Alley', 'BsmtQual', 'BsmtCond', 'BsmtExposure', 'BsmtFinType1', \n",
    "        'BsmtFinType2', 'GarageType', 'GarageFinish', 'GarageQual', 'GarageCond', 'Fence', 'Exterior1st', \n",
    "        'Exterior2nd', 'FireplaceQu']\n",
    "    for var in replace_missing_vars:\n",
    "        df.loc[:, var].fillna(\"Missing\", inplace = True)\n",
    "\n",
    "    return df\n",
    "\n",
    "\n",
    "\n",
    "\n",
    "\n",
    "\n",
    "# Function for some standard feature engineering to use in all models\n",
    "def standard_feature_eng(df, test_data = False):\n",
    "    '''Input either the training or test data. \n",
    "    2nd arg set to True if it's the testing data. That way we ignore the final log transformation on sale price'''\n",
    "\n",
    "\n",
    "    #-----OUTLIERS-----#\n",
    "    if test_data:\n",
    "        pass \n",
    "    else:\n",
    "        df = df.loc[(df['LotFrontage'] < 250) & (df['SalePrice'] < 700000) & (df['LotArea'] < 100000)]\n",
    "    \n",
    "\n",
    "\n",
    "\n",
    "\n",
    "    #-----SIMPLIFYING VARS-----#\n",
    "\n",
    "    # num features to just binarize b/c few houses have the feature\n",
    "    df.loc[:, \"SwimmingPool\"] = df['PoolArea'].map(lambda x: 0 if x==0 else 1)\n",
    "    \n",
    "    # combining porch features into 1 later on instead\n",
    "    #df[\"3SsnPorch\"] = df['3SsnPorch'].map(lambda x: 0 if x==0 else 1)\n",
    "    #df[\"ScreenPorch\"] = df['ScreenPorch'].map(lambda x: 0 if x==0 else 1)\n",
    "\n",
    "    # re-factoring vars:\n",
    "    # group the irregularities into 2 factor levels\n",
    "    df.loc[:, 'LotShape'] = df['LotShape'].map({'Reg': 'Reg', 'IR1': 'Reg', 'IR2': 'Irreg', 'IR3': 'Irreg'})\n",
    "\n",
    "    # simplifying MSSubClass because we have the year built in another feature\n",
    "    df.loc[:, 'MSSubClass'] = df['MSSubClass'].map(lambda x: \n",
    "        \"1_story\"   if (x in (20, 30, 40, 120)) else(\n",
    "        \"1.5_story\" if (x in (45, 50, 150)) else(\n",
    "        \"2_story\"   if (x in (60, 70, 75, 160, 180, 190)) else(\n",
    "        \"split\"     if (x in (80, 85)) else(\n",
    "        \"duplex\"    if (x ==90) else(\n",
    "        \"other\"))))))\n",
    "    df.loc[:, 'MSSubClass'] = df['MSSubClass'].astype(\"object\")\n",
    "\n",
    "    # electrical:\n",
    "    df.loc[:, 'Electrical'] = df['Electrical'].map(lambda x: \"SBrkr\" if x == \"SBrkr\" else \"Fuse\")\n",
    "    \n",
    "    # exterior:\n",
    "    df.loc[:, 'Exterior'] = df['Exterior1st'].map(lambda x: \n",
    "        # group exterior into simplified var based on average prices\n",
    "        \"Expensive\" if (x in (\"VinylSd\", \"CemntBd\", \"Stone\", \"ImStucc\")) else(\n",
    "        \"Cheap\" if (x in (\"BrkComm\", \"AsphShn\", \"CBlock\", \"AsbShng\")) else(\n",
    "        \"Moderate\")))\n",
    "    df = df.drop(columns=['Exterior1st', 'Exterior2nd'])\n",
    "    \n",
    "    # garage\n",
    "    df.loc[:, 'GarageQual'] = df['GarageQual'].map(lambda x: \n",
    "        # group exterior into simplified var based on average prices\n",
    "        \"Good\" if (x in (\"Ex\", \"Gd\")) else(\n",
    "        \"Medium\" if (x in (\"TA\")) else(\n",
    "        \"Bad\")))\n",
    "    df.loc[:, 'Heating'] = df['Heating'].map(lambda x: \"Gas\" if x in (\"GasA\", \"GasW\") else \"Other\")\n",
    "\n",
    "    # total inside area will be a sum of 1st and 2nd floor sq ft\n",
    "    df.loc[:, 'Total_Inside_Area'] = df['1stFlrSF'] + df['2ndFlrSF']\n",
    "    df.drop(columns = ['1stFlrSF', '2ndFlrSF', 'GrLivArea'], inplace = True)\n",
    "\n",
    "    # add porch square feet together\n",
    "    df.loc[:, 'PorchSF'] = df['OpenPorchSF'] + df['EnclosedPorch'] + df['3SsnPorch'] + df['ScreenPorch']\n",
    "    df.drop(columns = ['OpenPorchSF', 'EnclosedPorch', '3SsnPorch', 'ScreenPorch'], inplace=True)\n",
    "\n",
    "    # simplify the bathrooms variable\n",
    "    df.loc[:, 'Bathrooms'] = df.BsmtFullBath + 0.5*df.BsmtHalfBath + df.FullBath + 0.5*df.HalfBath\n",
    "    df.drop(columns = ['BsmtFullBath', 'BsmtHalfBath', 'FullBath', 'HalfBath'], inplace = True)\n",
    "\n",
    "\n",
    "\n",
    "\n",
    "\n",
    "    #-----DROPPING VARIABLES-----#\n",
    "\n",
    "    # deciding to drop a few features for various reasons\n",
    "    vars_to_drop = [\n",
    "        # not much variation:\n",
    "        \"LowQualFinSF\", \n",
    "        \"LandSlope\", \n",
    "        \"MiscVal\", \n",
    "        \"RoofMatl\",\n",
    "        #\"Condition2\",\n",
    "        #\"KitchenAbvGr\" \n",
    "        \"PoolArea\", # binarized above\n",
    "        \"Utilities\", # only 1 obs in training data different from regular\n",
    "        \"HouseStyle\" # already explained in other vars\n",
    "        ]\n",
    "    df.drop(columns=vars_to_drop, inplace=True) \n",
    "\n",
    "\n",
    "\n",
    "\n",
    "\n",
    "    #-----ADDING NEW FEATURES-----#\n",
    "\n",
    "    # remodeled feature\n",
    "    df.loc[:, 'Remodeled'] = np.array((df.YearRemodAdd-df.YearBuilt) == 0, dtype=int)\n",
    "\n",
    "    # expensive neighborhoods\n",
    "    top_10_neighborhoods = ['NoRidge', 'NridgHt', 'StoneBr','Timber','Veenker','Somerst','ClearCr','Crawfor','CollgCr','Blmngtn']\n",
    "    df.loc[:, 'ExpensiveNeighborhood'] = df['Neighborhood'].map(lambda x: 1 if x in top_10_neighborhoods else 0)\n",
    "\n",
    "    # get log of sale price which will be our actual response variable\n",
    "    if test_data:\n",
    "        pass \n",
    "    else:\n",
    "        df.loc[:, 'LogSalePrice'] = np.log(df.SalePrice)\n",
    "\n",
    "    return df"
   ]
  },
  {
   "cell_type": "code",
   "execution_count": 7,
   "metadata": {},
   "outputs": [
    {
     "name": "stdout",
     "output_type": "stream",
     "text": [
      "(1452, 67)\n"
     ]
    }
   ],
   "source": [
    "# shape after standard manipulations\n",
    "print(standard_feature_eng(na_clean(train)).shape)\n",
    "\n",
    "#standard_feature_eng(na_clean(train))"
   ]
  },
  {
   "cell_type": "markdown",
   "metadata": {},
   "source": [
    "Function to one hot encode and standardize data. This function automatically runs the above data cleaning so we need just 1 step."
   ]
  },
  {
   "cell_type": "code",
   "execution_count": 8,
   "metadata": {},
   "outputs": [],
   "source": [
    "def encode_and_standardize(df, test_data=False):\n",
    "    \n",
    "    # run normal data clean steps above\n",
    "    df = standard_feature_eng(na_clean(df), test_data=test_data)\n",
    "\n",
    "    # if it's train data, we don't want to standardize the response variable\n",
    "    if not test_data:\n",
    "        df_y = df[['SalePrice', 'LogSalePrice']]\n",
    "        df = df.drop(columns=['SalePrice', 'LogSalePrice'])\n",
    "        \n",
    "    # build one hot encoder based on the regular training data\n",
    "    train_one_hot = standard_feature_eng(na_clean(train)).drop(columns=['SalePrice', 'LogSalePrice'])\n",
    "    enc = OneHotEncoder(handle_unknown = 'ignore').fit(train_one_hot.select_dtypes(include=[\"object\"]))\n",
    "    one_hot_column_nms = pd.get_dummies(train_one_hot.select_dtypes(include=[\"object\"])).columns\n",
    "\n",
    "    # one hot encode input df\n",
    "    categorical_cols = pd.DataFrame(enc.transform(df.select_dtypes(include=[\"object\"])).toarray())\n",
    "    categorical_cols.columns = one_hot_column_nms\n",
    "    categorical_cols = categorical_cols.astype(\"int\")\n",
    "    \n",
    "    # align the indexes before the merge\n",
    "    df.index = categorical_cols.index\n",
    "    df = pd.concat([categorical_cols, df.select_dtypes(exclude=[\"object\"])], axis=1) \n",
    "        \n",
    "    # need col names later\n",
    "    all_col_names = df.columns\n",
    "    \n",
    "    # standardize the data between [0, 1]\n",
    "    myMinMax = MinMaxScaler()\n",
    "    df = pd.DataFrame(myMinMax.fit_transform(df))\n",
    "    df.columns = all_col_names\n",
    "\n",
    "    # if it's train data, bring back in the response variable\n",
    "    if not test_data:\n",
    "        df_y.index = df.index\n",
    "        df = pd.concat([df, df_y], axis=1) \n",
    "\n",
    "    return df \n",
    "\n",
    "\n",
    "# works\n",
    "#encode_and_standardize(test, test_data=True)\n",
    "#encode_and_standardize(train)"
   ]
  },
  {
   "cell_type": "markdown",
   "metadata": {},
   "source": [
    "Function to create some PCA\n",
    "\n",
    "(actually just do this before each function)"
   ]
  },
  {
   "cell_type": "code",
   "execution_count": 9,
   "metadata": {},
   "outputs": [],
   "source": [
    "# fit pca on training data\n",
    "pca1 = PCA()\n",
    "# one-hot-encode and standardize\n",
    "pca_df = encode_and_standardize(train).drop(columns=['SalePrice', 'LogSalePrice'])\n",
    "# fit the pca\n",
    "pca1.fit(pca_df)\n",
    "\n",
    "# function to get PCs for train or test\n",
    "# Don't pass is in the sale price columns\n",
    "def house_pca(df):\n",
    "    pc_df = pd.DataFrame(pca1.transform(df))\n",
    "    # get the influence of every single observation in the direction\n",
    "    pc_df.columns = [\"PC\" + str(i) for i in range(1, 1+df.shape[1])]\n",
    "    return pc_df"
   ]
  },
  {
   "cell_type": "code",
   "execution_count": 10,
   "metadata": {},
   "outputs": [
    {
     "data": {
      "text/html": [
       "<div>\n",
       "<style scoped>\n",
       "    .dataframe tbody tr th:only-of-type {\n",
       "        vertical-align: middle;\n",
       "    }\n",
       "\n",
       "    .dataframe tbody tr th {\n",
       "        vertical-align: top;\n",
       "    }\n",
       "\n",
       "    .dataframe thead th {\n",
       "        text-align: right;\n",
       "    }\n",
       "</style>\n",
       "<table border=\"1\" class=\"dataframe\">\n",
       "  <thead>\n",
       "    <tr style=\"text-align: right;\">\n",
       "      <th></th>\n",
       "      <th>PC1</th>\n",
       "      <th>PC2</th>\n",
       "    </tr>\n",
       "  </thead>\n",
       "  <tbody>\n",
       "    <tr>\n",
       "      <th>0</th>\n",
       "      <td>2.222758</td>\n",
       "      <td>0.098278</td>\n",
       "    </tr>\n",
       "    <tr>\n",
       "      <th>1</th>\n",
       "      <td>0.004044</td>\n",
       "      <td>-1.247819</td>\n",
       "    </tr>\n",
       "    <tr>\n",
       "      <th>2</th>\n",
       "      <td>2.413933</td>\n",
       "      <td>-0.042351</td>\n",
       "    </tr>\n",
       "    <tr>\n",
       "      <th>3</th>\n",
       "      <td>-0.758772</td>\n",
       "      <td>0.786663</td>\n",
       "    </tr>\n",
       "    <tr>\n",
       "      <th>4</th>\n",
       "      <td>2.545873</td>\n",
       "      <td>-0.372942</td>\n",
       "    </tr>\n",
       "    <tr>\n",
       "      <th>...</th>\n",
       "      <td>...</td>\n",
       "      <td>...</td>\n",
       "    </tr>\n",
       "    <tr>\n",
       "      <th>1447</th>\n",
       "      <td>0.757297</td>\n",
       "      <td>0.479898</td>\n",
       "    </tr>\n",
       "    <tr>\n",
       "      <th>1448</th>\n",
       "      <td>-0.956008</td>\n",
       "      <td>-1.458488</td>\n",
       "    </tr>\n",
       "    <tr>\n",
       "      <th>1449</th>\n",
       "      <td>0.904251</td>\n",
       "      <td>0.343526</td>\n",
       "    </tr>\n",
       "    <tr>\n",
       "      <th>1450</th>\n",
       "      <td>-1.027740</td>\n",
       "      <td>-0.829965</td>\n",
       "    </tr>\n",
       "    <tr>\n",
       "      <th>1451</th>\n",
       "      <td>-0.767198</td>\n",
       "      <td>-0.840540</td>\n",
       "    </tr>\n",
       "  </tbody>\n",
       "</table>\n",
       "<p>1452 rows × 2 columns</p>\n",
       "</div>"
      ],
      "text/plain": [
       "           PC1       PC2\n",
       "0     2.222758  0.098278\n",
       "1     0.004044 -1.247819\n",
       "2     2.413933 -0.042351\n",
       "3    -0.758772  0.786663\n",
       "4     2.545873 -0.372942\n",
       "...        ...       ...\n",
       "1447  0.757297  0.479898\n",
       "1448 -0.956008 -1.458488\n",
       "1449  0.904251  0.343526\n",
       "1450 -1.027740 -0.829965\n",
       "1451 -0.767198 -0.840540\n",
       "\n",
       "[1452 rows x 2 columns]"
      ]
     },
     "execution_count": 10,
     "metadata": {},
     "output_type": "execute_result"
    }
   ],
   "source": [
    "pca_df = house_pca(encode_and_standardize(train).drop(columns=['SalePrice', 'LogSalePrice']))[[\"PC1\", \"PC2\"]]\n",
    "pca_df"
   ]
  },
  {
   "cell_type": "code",
   "execution_count": 11,
   "metadata": {},
   "outputs": [
    {
     "name": "stdout",
     "output_type": "stream",
     "text": [
      "                            PC1       PC2\n",
      "MSSubClass_1.5_story  -0.061973  0.095080\n",
      "MSSubClass_1_story     0.016260 -0.183979\n",
      "MSSubClass_2_story     0.072413  0.137600\n",
      "MSSubClass_duplex     -0.019662 -0.002547\n",
      "MSSubClass_split      -0.007038 -0.046154\n",
      "...                         ...       ...\n",
      "Total_Inside_Area      0.032024  0.001595\n",
      "PorchSF                0.002415  0.005356\n",
      "Bathrooms              0.058688 -0.026079\n",
      "Remodeled              0.057343 -0.204893\n",
      "ExpensiveNeighborhood  0.215716  0.026383\n",
      "\n",
      "[229 rows x 2 columns]\n"
     ]
    },
    {
     "data": {
      "image/png": "[encoded data removed]",
      "text/plain": [
       "<Figure size 432x288 with 1 Axes>"
      ]
     },
     "metadata": {
      "needs_background": "light"
     },
     "output_type": "display_data"
    }
   ],
   "source": [
    "# run pca\n",
    "pca1 = PCA()\n",
    "train_one_hot = encode_and_standardize(train).drop(columns=['SalePrice', 'LogSalePrice'])\n",
    "pca1.fit(train_one_hot)\n",
    "train_one_hot_pca = pca1.transform(train_one_hot)\n",
    "\n",
    "# loadings\n",
    "loadings_df = pd.DataFrame(pca1.components_.T)\n",
    "loadings_df.columns = [\"PC\" + str(i) for i in range(1, 1+train_one_hot.shape[1])]\n",
    "loadings_df.index = train_one_hot.columns\n",
    "loadings_df\n",
    "\n",
    "# plot loadings\n",
    "fig, ax = plt.subplots() \n",
    "ax.scatter(loadings_df.PC1, loadings_df.PC2)\n",
    "ax.set_xlabel(\"Influence on PC1\")\n",
    "ax.set_xlabel(\"Influence on PC2\")\n",
    "\n",
    "for x, y, i in zip(loadings_df.PC1, loadings_df.PC2, loadings_df.index):\n",
    "    label = i\n",
    "    ax.annotate(\n",
    "        label, \n",
    "        (x,y),\n",
    "        textcoords = \"offset points\",\n",
    "        xytext = (0, 10),\n",
    "        ha = \"center\")\n",
    "\n",
    "print(loadings_df[[\"PC1\", \"PC2\"]])"
   ]
  },
  {
   "cell_type": "code",
   "execution_count": 12,
   "metadata": {},
   "outputs": [
    {
     "name": "stdout",
     "output_type": "stream",
     "text": [
      "\n"
     ]
    },
    {
     "data": {
      "image/png": "[encoded data removed]",
      "text/plain": [
       "<Figure size 1080x288 with 1 Axes>"
      ]
     },
     "metadata": {
      "needs_background": "light"
     },
     "output_type": "display_data"
    }
   ],
   "source": [
    "# scree plot\n",
    "pc_n = np.arange(pca1.n_components_) + 1\n",
    "\n",
    "fig, ax = plt.subplots(figsize=(15, 4))\n",
    "ax.plot(pc_n, pca1.explained_variance_ratio_, 'ro-', linewidth = 2)\n",
    "ax.set_title(\"Scree Plot\")\n",
    "ax.set_xlabel(\"Principal Component\")\n",
    "ax.set_ylabel(\"Proportion of Variance Explained\")\n",
    "print(\"\")"
   ]
  },
  {
   "cell_type": "markdown",
   "metadata": {},
   "source": [
    "See highly correlated features"
   ]
  },
  {
   "cell_type": "code",
   "execution_count": 13,
   "metadata": {},
   "outputs": [
    {
     "data": {
      "text/html": [
       "<div>\n",
       "<style scoped>\n",
       "    .dataframe tbody tr th:only-of-type {\n",
       "        vertical-align: middle;\n",
       "    }\n",
       "\n",
       "    .dataframe tbody tr th {\n",
       "        vertical-align: top;\n",
       "    }\n",
       "\n",
       "    .dataframe thead th {\n",
       "        text-align: right;\n",
       "    }\n",
       "</style>\n",
       "<table border=\"1\" class=\"dataframe\">\n",
       "  <thead>\n",
       "    <tr style=\"text-align: right;\">\n",
       "      <th></th>\n",
       "      <th>var1</th>\n",
       "      <th>var2</th>\n",
       "      <th>correlation</th>\n",
       "    </tr>\n",
       "  </thead>\n",
       "  <tbody>\n",
       "    <tr>\n",
       "      <th>3481</th>\n",
       "      <td>LotShape_Reg</td>\n",
       "      <td>LotShape_Irreg</td>\n",
       "      <td>-1.0</td>\n",
       "    </tr>\n",
       "    <tr>\n",
       "      <th>31553</th>\n",
       "      <td>Electrical_SBrkr</td>\n",
       "      <td>Electrical_Fuse</td>\n",
       "      <td>-1.0</td>\n",
       "    </tr>\n",
       "    <tr>\n",
       "      <th>29695</th>\n",
       "      <td>Heating_Gas</td>\n",
       "      <td>Heating_Other</td>\n",
       "      <td>-1.0</td>\n",
       "    </tr>\n",
       "    <tr>\n",
       "      <th>29465</th>\n",
       "      <td>Heating_Other</td>\n",
       "      <td>Heating_Gas</td>\n",
       "      <td>-1.0</td>\n",
       "    </tr>\n",
       "    <tr>\n",
       "      <th>31783</th>\n",
       "      <td>Electrical_Fuse</td>\n",
       "      <td>Electrical_SBrkr</td>\n",
       "      <td>-1.0</td>\n",
       "    </tr>\n",
       "    <tr>\n",
       "      <th>...</th>\n",
       "      <td>...</td>\n",
       "      <td>...</td>\n",
       "      <td>...</td>\n",
       "    </tr>\n",
       "    <tr>\n",
       "      <th>24372</th>\n",
       "      <td>BsmtFinType1_Missing</td>\n",
       "      <td>BsmtCond_Missing</td>\n",
       "      <td>1.0</td>\n",
       "    </tr>\n",
       "    <tr>\n",
       "      <th>24356</th>\n",
       "      <td>BsmtQual_Missing</td>\n",
       "      <td>BsmtCond_Missing</td>\n",
       "      <td>1.0</td>\n",
       "    </tr>\n",
       "    <tr>\n",
       "      <th>23436</th>\n",
       "      <td>BsmtCond_Missing</td>\n",
       "      <td>BsmtQual_Missing</td>\n",
       "      <td>1.0</td>\n",
       "    </tr>\n",
       "    <tr>\n",
       "      <th>37354</th>\n",
       "      <td>GarageFinish_Missing</td>\n",
       "      <td>GarageType_Missing</td>\n",
       "      <td>1.0</td>\n",
       "    </tr>\n",
       "    <tr>\n",
       "      <th>23448</th>\n",
       "      <td>BsmtFinType1_Missing</td>\n",
       "      <td>BsmtQual_Missing</td>\n",
       "      <td>1.0</td>\n",
       "    </tr>\n",
       "  </tbody>\n",
       "</table>\n",
       "<p>53130 rows × 3 columns</p>\n",
       "</div>"
      ],
      "text/plain": [
       "                       var1                var2  correlation\n",
       "3481           LotShape_Reg      LotShape_Irreg         -1.0\n",
       "31553      Electrical_SBrkr     Electrical_Fuse         -1.0\n",
       "29695           Heating_Gas       Heating_Other         -1.0\n",
       "29465         Heating_Other         Heating_Gas         -1.0\n",
       "31783       Electrical_Fuse    Electrical_SBrkr         -1.0\n",
       "...                     ...                 ...          ...\n",
       "24372  BsmtFinType1_Missing    BsmtCond_Missing          1.0\n",
       "24356      BsmtQual_Missing    BsmtCond_Missing          1.0\n",
       "23436      BsmtCond_Missing    BsmtQual_Missing          1.0\n",
       "37354  GarageFinish_Missing  GarageType_Missing          1.0\n",
       "23448  BsmtFinType1_Missing    BsmtQual_Missing          1.0\n",
       "\n",
       "[53130 rows x 3 columns]"
      ]
     },
     "execution_count": 13,
     "metadata": {},
     "output_type": "execute_result"
    }
   ],
   "source": [
    "train_one_hot = encode_and_standardize(train)\n",
    "corr_df = pd.DataFrame(train_one_hot.corr()).reset_index(inplace=False).melt(id_vars=\"index\", var_name=\"var2\", value_name=\"correlation\")\n",
    "corr_df = corr_df.rename(columns = {\"index\": \"var1\"})\n",
    "corr_df = corr_df.loc[corr_df.var1 != corr_df.var2]\n",
    "corr_df.sort_values(\"correlation\")"
   ]
  },
  {
   "cell_type": "markdown",
   "metadata": {},
   "source": [
    "# Modeling"
   ]
  },
  {
   "cell_type": "markdown",
   "metadata": {},
   "source": [
    "# Prediction Baseline"
   ]
  },
  {
   "cell_type": "markdown",
   "metadata": {},
   "source": [
    "As a baseline, I'll just predict the average sales price for every observation and evalute the RMSE"
   ]
  },
  {
   "cell_type": "code",
   "execution_count": 14,
   "metadata": {},
   "outputs": [
    {
     "name": "stdout",
     "output_type": "stream",
     "text": [
      "RMSE of guessing the average: 0.09002200592155703\n"
     ]
    }
   ],
   "source": [
    "actuals = np.log(sample.SalePrice)\n",
    "avg = np.mean(actuals)\n",
    "preds = [avg for i in range(len(actuals))]\n",
    "rmse = np.mean((preds - actuals)**2)**.5\n",
    "print(\"RMSE of guessing the average: {}\".format(rmse))"
   ]
  },
  {
   "cell_type": "code",
   "execution_count": 15,
   "metadata": {},
   "outputs": [
    {
     "data": {
      "text/html": [
       "<div>\n",
       "<style scoped>\n",
       "    .dataframe tbody tr th:only-of-type {\n",
       "        vertical-align: middle;\n",
       "    }\n",
       "\n",
       "    .dataframe tbody tr th {\n",
       "        vertical-align: top;\n",
       "    }\n",
       "\n",
       "    .dataframe thead th {\n",
       "        text-align: right;\n",
       "    }\n",
       "</style>\n",
       "<table border=\"1\" class=\"dataframe\">\n",
       "  <thead>\n",
       "    <tr style=\"text-align: right;\">\n",
       "      <th></th>\n",
       "      <th>Id</th>\n",
       "      <th>SalePrice</th>\n",
       "    </tr>\n",
       "  </thead>\n",
       "  <tbody>\n",
       "    <tr>\n",
       "      <th>0</th>\n",
       "      <td>1461</td>\n",
       "      <td>169277.052498</td>\n",
       "    </tr>\n",
       "    <tr>\n",
       "      <th>1</th>\n",
       "      <td>1462</td>\n",
       "      <td>187758.393989</td>\n",
       "    </tr>\n",
       "    <tr>\n",
       "      <th>2</th>\n",
       "      <td>1463</td>\n",
       "      <td>183583.683570</td>\n",
       "    </tr>\n",
       "    <tr>\n",
       "      <th>3</th>\n",
       "      <td>1464</td>\n",
       "      <td>179317.477511</td>\n",
       "    </tr>\n",
       "    <tr>\n",
       "      <th>4</th>\n",
       "      <td>1465</td>\n",
       "      <td>150730.079977</td>\n",
       "    </tr>\n",
       "    <tr>\n",
       "      <th>...</th>\n",
       "      <td>...</td>\n",
       "      <td>...</td>\n",
       "    </tr>\n",
       "    <tr>\n",
       "      <th>1454</th>\n",
       "      <td>2915</td>\n",
       "      <td>167081.220949</td>\n",
       "    </tr>\n",
       "    <tr>\n",
       "      <th>1455</th>\n",
       "      <td>2916</td>\n",
       "      <td>164788.778231</td>\n",
       "    </tr>\n",
       "    <tr>\n",
       "      <th>1456</th>\n",
       "      <td>2917</td>\n",
       "      <td>219222.423400</td>\n",
       "    </tr>\n",
       "    <tr>\n",
       "      <th>1457</th>\n",
       "      <td>2918</td>\n",
       "      <td>184924.279659</td>\n",
       "    </tr>\n",
       "    <tr>\n",
       "      <th>1458</th>\n",
       "      <td>2919</td>\n",
       "      <td>187741.866657</td>\n",
       "    </tr>\n",
       "  </tbody>\n",
       "</table>\n",
       "<p>1459 rows × 2 columns</p>\n",
       "</div>"
      ],
      "text/plain": [
       "        Id      SalePrice\n",
       "0     1461  169277.052498\n",
       "1     1462  187758.393989\n",
       "2     1463  183583.683570\n",
       "3     1464  179317.477511\n",
       "4     1465  150730.079977\n",
       "...    ...            ...\n",
       "1454  2915  167081.220949\n",
       "1455  2916  164788.778231\n",
       "1456  2917  219222.423400\n",
       "1457  2918  184924.279659\n",
       "1458  2919  187741.866657\n",
       "\n",
       "[1459 rows x 2 columns]"
      ]
     },
     "execution_count": 15,
     "metadata": {},
     "output_type": "execute_result"
    }
   ],
   "source": [
    "sample"
   ]
  },
  {
   "cell_type": "code",
   "execution_count": 16,
   "metadata": {},
   "outputs": [],
   "source": [
    "submission_df = pd.DataFrame({\"Id\": sample.Id, \"SalePrice\": np.exp(preds)})\n",
    "submission_df.to_csv(\"~/Desktop/avg_baseline.csv\", index=False)"
   ]
  },
  {
   "cell_type": "markdown",
   "metadata": {},
   "source": [
    "## OLS"
   ]
  },
  {
   "cell_type": "markdown",
   "metadata": {},
   "source": [
    "Function to prep data for a very baseline linear model"
   ]
  },
  {
   "cell_type": "code",
   "execution_count": 17,
   "metadata": {},
   "outputs": [],
   "source": [
    "def lm_df_clean(df, test_data = False):\n",
    "\n",
    "    # first run standard data cleaning steps\n",
    "    df = standard_feature_eng(na_clean(df), test_data = test_data)\n",
    "\n",
    "    lm_vars = ['LotArea', 'Street', 'Neighborhood', 'OverallQual', 'OverallCond', 'YearRemodAdd', \n",
    "              'BsmtCond', 'BedroomAbvGr', 'KitchenAbvGr', 'KitchenQual', 'TotRmsAbvGrd', 'YrSold', \n",
    "              'MoSold', 'Remodeled', 'Total_Inside_Area', 'Bathrooms']\n",
    "\n",
    "    df = pd.get_dummies(df[lm_vars], \n",
    "        columns = ['Street', 'Neighborhood', 'OverallQual', 'OverallCond', 'BsmtCond','KitchenQual'], \n",
    "        drop_first=True)\n",
    "    \n",
    "    return df"
   ]
  },
  {
   "cell_type": "markdown",
   "metadata": {},
   "source": [
    "Train OLS model"
   ]
  },
  {
   "cell_type": "code",
   "execution_count": 18,
   "metadata": {},
   "outputs": [],
   "source": [
    "# data setups\n",
    "X_train = lm_df_clean(train)\n",
    "X_test = lm_df_clean(test, test_data=True)\n",
    "Y_train = np.log(standard_feature_eng(na_clean(train)).SalePrice)\n",
    "Y_test = np.log(sample.SalePrice)\n",
    "\n",
    "# fit to train data\n",
    "lr_1 = LinearRegression(fit_intercept=True).fit(X_train, Y_train)"
   ]
  },
  {
   "cell_type": "markdown",
   "metadata": {},
   "source": [
    "Evaluate performance"
   ]
  },
  {
   "cell_type": "code",
   "execution_count": 19,
   "metadata": {},
   "outputs": [
    {
     "name": "stdout",
     "output_type": "stream",
     "text": [
      "Fit on training data: 0.880\n",
      "Fit on testing data: -16.195\n",
      "Log RMSE on training data: 0.137\n",
      "Log RMSE on testing data: 0.373\n"
     ]
    }
   ],
   "source": [
    "print(\"Fit on training data: {:.3f}\".format(lr_1.score(X_train,Y_train)))\n",
    "print(\"Fit on testing data: {:.3f}\".format(lr_1.score(X_test ,Y_test)))\n",
    "\n",
    "yhat_train = lr_1.predict(X_train)\n",
    "yhat_test = lr_1.predict(X_test)\n",
    "\n",
    "# rmse\n",
    "rmse_train = (np.mean((yhat_train - Y_train)**2))**.5\n",
    "rmse_test = (np.mean((yhat_test - Y_test)**2))**.5\n",
    "\n",
    "print(\"Log RMSE on training data: {:.3f}\".format(rmse_train))\n",
    "print(\"Log RMSE on testing data: {:.3f}\".format(rmse_test))\n"
   ]
  },
  {
   "cell_type": "markdown",
   "metadata": {},
   "source": [
    "Graph of responses vs actuals"
   ]
  },
  {
   "cell_type": "code",
   "execution_count": 20,
   "metadata": {},
   "outputs": [
    {
     "name": "stdout",
     "output_type": "stream",
     "text": [
      "\n"
     ]
    },
    {
     "data": {
      "image/png": "[encoded data removed]",
      "text/plain": [
       "<Figure size 800.75x360 with 1 Axes>"
      ]
     },
     "metadata": {},
     "output_type": "display_data"
    }
   ],
   "source": [
    "def dist_plot(actuals, preds, title):\n",
    "    ols_resuls_df = pd.DataFrame({\n",
    "        \"Actuals\": actuals, \n",
    "        \"Prediction\": preds\n",
    "    }).melt(var_name=\"Type\", value_name=\"log_sale_price\")\n",
    "\n",
    "    sns.set_style(\"whitegrid\", rc = {'axes.grid' : False})\n",
    "    sns.displot(ols_resuls_df, x=\"log_sale_price\", hue=\"Type\", kind=\"kde\", aspect=2)\\\n",
    "        .set_axis_labels(x_var=\"Log Sale Price\")\n",
    "\n",
    "    plt.title(title,fontdict={\"fontsize\": 20})\n",
    "    print(\"\")\n",
    "\n",
    "dist_plot(actuals=Y_test, preds=yhat_test, title=\"OLS Model Results\")"
   ]
  },
  {
   "cell_type": "markdown",
   "metadata": {},
   "source": [
    "## OLS with 1 variable\n",
    "\n",
    "An OLS with 1 variable, overall quality, outperforms the more complex OLS model with many features. This uses the variable with highest coefficient from initial correlation matrix."
   ]
  },
  {
   "cell_type": "code",
   "execution_count": 21,
   "metadata": {},
   "outputs": [],
   "source": [
    "# data setup function\n",
    "def lm_overall_quality_df_clean(df, test_data = False):\n",
    "\n",
    "    # first run standard data cleaning steps\n",
    "    df = standard_feature_eng(na_clean(df), test_data = test_data)\n",
    "    df = df.loc[:, ['OverallQual']]\n",
    "    \n",
    "    return df"
   ]
  },
  {
   "cell_type": "code",
   "execution_count": 22,
   "metadata": {},
   "outputs": [],
   "source": [
    "# data setups\n",
    "X_train = lm_overall_quality_df_clean(train)\n",
    "X_test = lm_overall_quality_df_clean(test, test_data=True)\n",
    "Y_train = np.log(standard_feature_eng(na_clean(train)).SalePrice)\n",
    "Y_test = np.log(sample.SalePrice)\n",
    "\n",
    "# fit to train data\n",
    "lr_overall_quality = LinearRegression(fit_intercept=True).fit(X_train, Y_train)"
   ]
  },
  {
   "cell_type": "code",
   "execution_count": 23,
   "metadata": {},
   "outputs": [
    {
     "name": "stdout",
     "output_type": "stream",
     "text": [
      "Fit on training data: 0.671\n",
      "Fit on testing data: -14.101\n",
      "Log RMSE on training data: 0.227\n",
      "Log RMSE on testing data: 0.350\n"
     ]
    }
   ],
   "source": [
    "# Evaluate performance\n",
    "print(\"Fit on training data: {:.3f}\".format(lr_overall_quality.score(X_train,Y_train)))\n",
    "print(\"Fit on testing data: {:.3f}\".format(lr_overall_quality.score(X_test ,Y_test)))\n",
    "\n",
    "yhat_train = lr_overall_quality.predict(X_train)\n",
    "yhat_test = lr_overall_quality.predict(X_test)\n",
    "\n",
    "# set negative values to 0.1\n",
    "#yhat_train = np.array([0.1 if i < 0 else i for i in yhat_train])\n",
    "#yhat_test = [0.1 if i < 0 else i for i in yhat_test]\n",
    "\n",
    "# rmse\n",
    "rmse_train = (np.mean((yhat_train - Y_train)**2))**.5\n",
    "rmse_test = (np.mean((yhat_test - Y_test)**2))**.5\n",
    "\n",
    "print(\"Log RMSE on training data: {:.3f}\".format(rmse_train))\n",
    "print(\"Log RMSE on testing data: {:.3f}\".format(rmse_test))\n"
   ]
  },
  {
   "cell_type": "code",
   "execution_count": 24,
   "metadata": {},
   "outputs": [
    {
     "name": "stdout",
     "output_type": "stream",
     "text": [
      "\n"
     ]
    },
    {
     "data": {
      "image/png": "[encoded data removed]",
      "text/plain": [
       "<Figure size 800.75x360 with 1 Axes>"
      ]
     },
     "metadata": {},
     "output_type": "display_data"
    }
   ],
   "source": [
    "dist_plot(actuals=Y_test, preds=yhat_test, title=\"OLS Model With 1 Var Results\")"
   ]
  },
  {
   "cell_type": "markdown",
   "metadata": {},
   "source": [
    "## Lasso model v1"
   ]
  },
  {
   "cell_type": "code",
   "execution_count": 25,
   "metadata": {},
   "outputs": [],
   "source": [
    "# data setup function\n",
    "def lasso_df_clean(df, test_data = False):\n",
    "\n",
    "    # first run standard data cleaning steps\n",
    "    df = na_clean(df)\n",
    "    #df = standard_feature_eng(df, test_data = test_data)\n",
    "\n",
    "    # log transformations\n",
    "    df[\"GrLivArea\"] = np.log(df[\"GrLivArea\"])\n",
    "\n",
    "    # select only vars needed\n",
    "    if test_data:\n",
    "        df = df[[\"GrLivArea\",\"OverallQual\"]] \n",
    "    else:\n",
    "        df[\"SalePrice\"] = np.log(df[\"SalePrice\"])\n",
    "        df = df[[\"GrLivArea\",\"OverallQual\", \"SalePrice\"]]\n",
    "    \n",
    "    return df"
   ]
  },
  {
   "cell_type": "code",
   "execution_count": 26,
   "metadata": {},
   "outputs": [],
   "source": [
    "# data setups\n",
    "X_train = lasso_df_clean(train)\n",
    "X_test = lasso_df_clean(test, test_data=True)\n",
    "Y_train = X_train.SalePrice\n",
    "Y_test = np.log(sample.SalePrice)\n",
    "\n",
    "# fit to train data\n",
    "lasso_fit_v1 = Lasso(alpha=.01).fit(X_train[[\"GrLivArea\",\"OverallQual\"]], Y_train)"
   ]
  },
  {
   "cell_type": "code",
   "execution_count": 27,
   "metadata": {},
   "outputs": [
    {
     "name": "stdout",
     "output_type": "stream",
     "text": [
      "RMSE on training data: 0.202\n",
      "RMSE on testing data: 0.332\n"
     ]
    }
   ],
   "source": [
    "# Evaluate performance\n",
    "yhat_train = lasso_fit_v1.predict(X_train[[\"GrLivArea\",\"OverallQual\"]])\n",
    "yhat_test = lasso_fit_v1.predict(X_test[[\"GrLivArea\",\"OverallQual\"]])\n",
    "\n",
    "# rmse\n",
    "rmse_train = (np.mean((yhat_train - np.log(train.SalePrice))**2))**.5\n",
    "rmse_test = (np.mean((yhat_test - np.log(sample.SalePrice))**2))**.5\n",
    "\n",
    "print(\"RMSE on training data: {:.3f}\".format(rmse_train))\n",
    "print(\"RMSE on testing data: {:.3f}\".format(rmse_test))"
   ]
  },
  {
   "cell_type": "code",
   "execution_count": 28,
   "metadata": {},
   "outputs": [
    {
     "data": {
      "text/plain": [
       "array([0.3160694 , 0.18397524])"
      ]
     },
     "execution_count": 28,
     "metadata": {},
     "output_type": "execute_result"
    }
   ],
   "source": [
    "# see results of lasso\n",
    "lasso_fit_v1.coef_"
   ]
  },
  {
   "cell_type": "code",
   "execution_count": 29,
   "metadata": {},
   "outputs": [
    {
     "name": "stdout",
     "output_type": "stream",
     "text": [
      "\n"
     ]
    },
    {
     "data": {
      "image/png": "[encoded data removed]",
      "text/plain": [
       "<Figure size 800.75x360 with 1 Axes>"
      ]
     },
     "metadata": {},
     "output_type": "display_data"
    }
   ],
   "source": [
    "dist_plot(actuals=Y_test, preds=yhat_test, title=\"Lasso v1\")"
   ]
  },
  {
   "cell_type": "markdown",
   "metadata": {},
   "source": [
    "## Lasso model v2\n",
    "\n",
    "I think i used the wrong lasso model above. Using this one instead"
   ]
  },
  {
   "cell_type": "code",
   "execution_count": 30,
   "metadata": {},
   "outputs": [],
   "source": [
    "# first build one hot encoder based on the training data\n",
    "train_lasso = standard_feature_eng(na_clean(train))\n",
    "enc_lasso = OneHotEncoder(handle_unknown = 'ignore')\n",
    "enc_lasso.fit(train_lasso.select_dtypes(include=[\"object\"]))\n",
    "one_hot_columns = pd.get_dummies(train_lasso.select_dtypes(include=[\"object\"])).columns\n",
    "# will use this encoder in the function below\n",
    "\n",
    "# data setup function\n",
    "def lasso_df_clean(df, test_data = False):\n",
    "\n",
    "    # first run standard data cleaning steps\n",
    "    df = encode_and_standardize(df, test_data=test_data)\n",
    "    df = df.drop(columns=[\"Id\"])\n",
    "    \n",
    "    \n",
    "    return df"
   ]
  },
  {
   "cell_type": "code",
   "execution_count": 31,
   "metadata": {},
   "outputs": [],
   "source": [
    "# data setups\n",
    "X_train = lasso_df_clean(train)\n",
    "X_test = lasso_df_clean(test, test_data=True)\n",
    "Y_train = X_train.SalePrice\n",
    "Y_test = np.log(sample.SalePrice)"
   ]
  },
  {
   "cell_type": "code",
   "execution_count": 32,
   "metadata": {},
   "outputs": [],
   "source": [
    "# data setups\n",
    "X_train = lasso_df_clean(train)\n",
    "X_test = lasso_df_clean(test, test_data=True)\n",
    "Y_train = X_train.LogSalePrice\n",
    "Y_test = np.log(sample.SalePrice)\n",
    "\n",
    "# fit to train data\n",
    "lasso_fit = Lasso(alpha=.01).fit(X_train.drop(columns=['LogSalePrice', 'SalePrice']), Y_train)"
   ]
  },
  {
   "cell_type": "code",
   "execution_count": 33,
   "metadata": {},
   "outputs": [
    {
     "name": "stdout",
     "output_type": "stream",
     "text": [
      "RMSE on training data: 0.177\n",
      "RMSE on testing data: 0.317\n"
     ]
    }
   ],
   "source": [
    "# Evaluate performance\n",
    "yhat_train = lasso_fit.predict(X_train.drop(columns=['LogSalePrice', 'SalePrice']))\n",
    "yhat_test = lasso_fit.predict(X_test)\n",
    "\n",
    "# rmse\n",
    "\n",
    "rmse_train = (np.mean((yhat_train - lasso_df_clean(train).LogSalePrice)**2))**.5\n",
    "rmse_test = (np.mean((yhat_test - np.log(sample.SalePrice))**2))**.5\n",
    "\n",
    "print(\"RMSE on training data: {:.3f}\".format(rmse_train))\n",
    "print(\"RMSE on testing data: {:.3f}\".format(rmse_test))"
   ]
  },
  {
   "cell_type": "code",
   "execution_count": 34,
   "metadata": {},
   "outputs": [
    {
     "data": {
      "text/html": [
       "<div>\n",
       "<style scoped>\n",
       "    .dataframe tbody tr th:only-of-type {\n",
       "        vertical-align: middle;\n",
       "    }\n",
       "\n",
       "    .dataframe tbody tr th {\n",
       "        vertical-align: top;\n",
       "    }\n",
       "\n",
       "    .dataframe thead th {\n",
       "        text-align: right;\n",
       "    }\n",
       "</style>\n",
       "<table border=\"1\" class=\"dataframe\">\n",
       "  <thead>\n",
       "    <tr style=\"text-align: right;\">\n",
       "      <th></th>\n",
       "      <th>var</th>\n",
       "      <th>coef</th>\n",
       "    </tr>\n",
       "  </thead>\n",
       "  <tbody>\n",
       "    <tr>\n",
       "      <th>8</th>\n",
       "      <td>MSZoning_RL</td>\n",
       "      <td>6.867969e-02</td>\n",
       "    </tr>\n",
       "    <tr>\n",
       "      <th>68</th>\n",
       "      <td>BldgType_1Fam</td>\n",
       "      <td>1.989075e-02</td>\n",
       "    </tr>\n",
       "    <tr>\n",
       "      <th>74</th>\n",
       "      <td>RoofStyle_Gable</td>\n",
       "      <td>-5.092383e-03</td>\n",
       "    </tr>\n",
       "    <tr>\n",
       "      <th>81</th>\n",
       "      <td>MasVnrType_None</td>\n",
       "      <td>-2.109925e-02</td>\n",
       "    </tr>\n",
       "    <tr>\n",
       "      <th>86</th>\n",
       "      <td>ExterQual_TA</td>\n",
       "      <td>-3.734202e-02</td>\n",
       "    </tr>\n",
       "    <tr>\n",
       "      <th>94</th>\n",
       "      <td>Foundation_PConc</td>\n",
       "      <td>1.794363e-02</td>\n",
       "    </tr>\n",
       "    <tr>\n",
       "      <th>98</th>\n",
       "      <td>BsmtQual_Ex</td>\n",
       "      <td>5.957925e-02</td>\n",
       "    </tr>\n",
       "    <tr>\n",
       "      <th>109</th>\n",
       "      <td>BsmtExposure_Gd</td>\n",
       "      <td>2.413598e-03</td>\n",
       "    </tr>\n",
       "    <tr>\n",
       "      <th>115</th>\n",
       "      <td>BsmtFinType1_GLQ</td>\n",
       "      <td>3.183386e-02</td>\n",
       "    </tr>\n",
       "    <tr>\n",
       "      <th>129</th>\n",
       "      <td>HeatingQC_Ex</td>\n",
       "      <td>2.571943e-02</td>\n",
       "    </tr>\n",
       "    <tr>\n",
       "      <th>134</th>\n",
       "      <td>CentralAir_N</td>\n",
       "      <td>-2.130826e-02</td>\n",
       "    </tr>\n",
       "    <tr>\n",
       "      <th>135</th>\n",
       "      <td>CentralAir_Y</td>\n",
       "      <td>2.200828e-16</td>\n",
       "    </tr>\n",
       "    <tr>\n",
       "      <th>138</th>\n",
       "      <td>KitchenQual_Ex</td>\n",
       "      <td>2.049184e-02</td>\n",
       "    </tr>\n",
       "    <tr>\n",
       "      <th>141</th>\n",
       "      <td>KitchenQual_TA</td>\n",
       "      <td>-3.170973e-02</td>\n",
       "    </tr>\n",
       "    <tr>\n",
       "      <th>152</th>\n",
       "      <td>FireplaceQu_Missing</td>\n",
       "      <td>-1.313785e-01</td>\n",
       "    </tr>\n",
       "    <tr>\n",
       "      <th>156</th>\n",
       "      <td>GarageType_Attchd</td>\n",
       "      <td>4.315768e-02</td>\n",
       "    </tr>\n",
       "    <tr>\n",
       "      <th>162</th>\n",
       "      <td>GarageFinish_Fin</td>\n",
       "      <td>2.004244e-02</td>\n",
       "    </tr>\n",
       "    <tr>\n",
       "      <th>166</th>\n",
       "      <td>GarageQual_Bad</td>\n",
       "      <td>-9.208236e-03</td>\n",
       "    </tr>\n",
       "    <tr>\n",
       "      <th>174</th>\n",
       "      <td>GarageCond_TA</td>\n",
       "      <td>8.221177e-03</td>\n",
       "    </tr>\n",
       "    <tr>\n",
       "      <th>203</th>\n",
       "      <td>OverallQual</td>\n",
       "      <td>3.579577e-01</td>\n",
       "    </tr>\n",
       "    <tr>\n",
       "      <th>206</th>\n",
       "      <td>YearRemodAdd</td>\n",
       "      <td>1.020838e-01</td>\n",
       "    </tr>\n",
       "    <tr>\n",
       "      <th>217</th>\n",
       "      <td>GarageCars</td>\n",
       "      <td>1.874384e-01</td>\n",
       "    </tr>\n",
       "    <tr>\n",
       "      <th>223</th>\n",
       "      <td>Total_Inside_Area</td>\n",
       "      <td>2.940737e-01</td>\n",
       "    </tr>\n",
       "    <tr>\n",
       "      <th>225</th>\n",
       "      <td>Bathrooms</td>\n",
       "      <td>1.254357e-01</td>\n",
       "    </tr>\n",
       "    <tr>\n",
       "      <th>227</th>\n",
       "      <td>ExpensiveNeighborhood</td>\n",
       "      <td>1.267365e-01</td>\n",
       "    </tr>\n",
       "  </tbody>\n",
       "</table>\n",
       "</div>"
      ],
      "text/plain": [
       "                       var          coef\n",
       "8              MSZoning_RL  6.867969e-02\n",
       "68           BldgType_1Fam  1.989075e-02\n",
       "74         RoofStyle_Gable -5.092383e-03\n",
       "81         MasVnrType_None -2.109925e-02\n",
       "86            ExterQual_TA -3.734202e-02\n",
       "94        Foundation_PConc  1.794363e-02\n",
       "98             BsmtQual_Ex  5.957925e-02\n",
       "109        BsmtExposure_Gd  2.413598e-03\n",
       "115       BsmtFinType1_GLQ  3.183386e-02\n",
       "129           HeatingQC_Ex  2.571943e-02\n",
       "134           CentralAir_N -2.130826e-02\n",
       "135           CentralAir_Y  2.200828e-16\n",
       "138         KitchenQual_Ex  2.049184e-02\n",
       "141         KitchenQual_TA -3.170973e-02\n",
       "152    FireplaceQu_Missing -1.313785e-01\n",
       "156      GarageType_Attchd  4.315768e-02\n",
       "162       GarageFinish_Fin  2.004244e-02\n",
       "166         GarageQual_Bad -9.208236e-03\n",
       "174          GarageCond_TA  8.221177e-03\n",
       "203            OverallQual  3.579577e-01\n",
       "206           YearRemodAdd  1.020838e-01\n",
       "217             GarageCars  1.874384e-01\n",
       "223      Total_Inside_Area  2.940737e-01\n",
       "225              Bathrooms  1.254357e-01\n",
       "227  ExpensiveNeighborhood  1.267365e-01"
      ]
     },
     "execution_count": 34,
     "metadata": {},
     "output_type": "execute_result"
    }
   ],
   "source": [
    "# lasso coefficients\n",
    "lasso_coef_df = pd.DataFrame({\n",
    "    \"var\": X_train.drop(columns=['LogSalePrice', 'SalePrice']).columns, \n",
    "    \"coef\": lasso_fit.coef_\n",
    "})\n",
    "lasso_coef_df.loc[lasso_coef_df.coef != 0, :]\n"
   ]
  },
  {
   "cell_type": "code",
   "execution_count": 35,
   "metadata": {},
   "outputs": [
    {
     "name": "stdout",
     "output_type": "stream",
     "text": [
      "\n"
     ]
    },
    {
     "data": {
      "image/png": "[encoded data removed]",
      "text/plain": [
       "<Figure size 800.75x360 with 1 Axes>"
      ]
     },
     "metadata": {},
     "output_type": "display_data"
    }
   ],
   "source": [
    "dist_plot(actuals=np.log(sample.SalePrice), preds=yhat_test, title=\"Lasso v2\")"
   ]
  },
  {
   "cell_type": "markdown",
   "metadata": {},
   "source": [
    "# Lasso v3\n",
    "\n",
    "Building a lasso regression that splits the data into expensive and cheap neighborhoods"
   ]
  },
  {
   "cell_type": "code",
   "execution_count": 36,
   "metadata": {},
   "outputs": [],
   "source": [
    "# use same random forest data cleaner\n",
    "def rf_df_clean_high_low(df, test_data = False):\n",
    "\n",
    "    # first run standard data cleaning steps\n",
    "    df = encode_and_standardize(df, test_data=test_data)\n",
    "    \n",
    "    # drop neighborhood var\n",
    "    df = df.drop(columns=list(filter(lambda x: re.search(\"^Neighborhood_\", x), df.columns)))\n",
    "    \n",
    "    # DO FEATURE ENGINEERING HERE\n",
    "\n",
    "    # drop irrelevant columns\n",
    "    df = df.drop(columns=[\"Id\"])\n",
    "    \n",
    "    return df"
   ]
  },
  {
   "cell_type": "code",
   "execution_count": 37,
   "metadata": {},
   "outputs": [],
   "source": [
    "# split data into high and low value neighborhoods\n",
    "train_high = rf_df_clean_high_low(train)\n",
    "train_high = train_high.loc[train_high.ExpensiveNeighborhood == 1]\n",
    "\n",
    "train_low = rf_df_clean_high_low(train)\n",
    "train_low = train_low.loc[train_low.ExpensiveNeighborhood == 0]\n",
    "\n",
    "# split up the test data too just like i will in the model\n",
    "test_high = rf_df_clean_high_low(test, test_data=True)\n",
    "test_high_y = np.log(sample.loc[test_high.ExpensiveNeighborhood == 1]['SalePrice'])\n",
    "test_high = test_high.loc[test_high.ExpensiveNeighborhood == 1]\n",
    "\n",
    "test_low = rf_df_clean_high_low(test, test_data=True)\n",
    "test_low_y = np.log(sample.loc[test_low.ExpensiveNeighborhood == 0]['SalePrice'])\n",
    "test_low = test_low.loc[test_low.ExpensiveNeighborhood == 0]"
   ]
  },
  {
   "cell_type": "markdown",
   "metadata": {},
   "source": [
    "First build lasso model for high price"
   ]
  },
  {
   "cell_type": "code",
   "execution_count": 38,
   "metadata": {},
   "outputs": [
    {
     "name": "stdout",
     "output_type": "stream",
     "text": [
      "Best parameter: {'alpha': 0.001}\n"
     ]
    }
   ],
   "source": [
    "# cross validate to search for optimal parameter\n",
    "gscv = GridSearchCV(estimator = Lasso(), param_grid={'alpha': [1e-6, 1e-5, 1e-4, 1e-3, 1e-2, 1e-1]}, n_jobs=-1, cv=5)\n",
    "results = gscv.fit(train_high.drop(columns=['SalePrice', 'LogSalePrice']), train_high.LogSalePrice)\n",
    "print(\"Best parameter: {}\".format(results.best_params_))\n",
    "\n",
    "# fit model with optimal alpha\n",
    "lasso_high = Lasso(alpha=results.best_params_['alpha'])\\\n",
    "    .fit(train_high.drop(columns=['SalePrice', 'LogSalePrice']), train_high.LogSalePrice)"
   ]
  },
  {
   "cell_type": "code",
   "execution_count": 39,
   "metadata": {},
   "outputs": [
    {
     "name": "stdout",
     "output_type": "stream",
     "text": [
      "number of final parameters: 21\n"
     ]
    },
    {
     "data": {
      "text/html": [
       "<div>\n",
       "<style scoped>\n",
       "    .dataframe tbody tr th:only-of-type {\n",
       "        vertical-align: middle;\n",
       "    }\n",
       "\n",
       "    .dataframe tbody tr th {\n",
       "        vertical-align: top;\n",
       "    }\n",
       "\n",
       "    .dataframe thead th {\n",
       "        text-align: right;\n",
       "    }\n",
       "</style>\n",
       "<table border=\"1\" class=\"dataframe\">\n",
       "  <thead>\n",
       "    <tr style=\"text-align: right;\">\n",
       "      <th></th>\n",
       "      <th>var</th>\n",
       "      <th>coef</th>\n",
       "    </tr>\n",
       "  </thead>\n",
       "  <tbody>\n",
       "    <tr>\n",
       "      <th>2</th>\n",
       "      <td>MSSubClass_2_story</td>\n",
       "      <td>0.000673</td>\n",
       "    </tr>\n",
       "    <tr>\n",
       "      <th>43</th>\n",
       "      <td>BldgType_1Fam</td>\n",
       "      <td>0.082957</td>\n",
       "    </tr>\n",
       "    <tr>\n",
       "      <th>49</th>\n",
       "      <td>RoofStyle_Gable</td>\n",
       "      <td>-0.039598</td>\n",
       "    </tr>\n",
       "    <tr>\n",
       "      <th>56</th>\n",
       "      <td>MasVnrType_None</td>\n",
       "      <td>-0.015594</td>\n",
       "    </tr>\n",
       "    <tr>\n",
       "      <th>57</th>\n",
       "      <td>MasVnrType_Stone</td>\n",
       "      <td>0.010470</td>\n",
       "    </tr>\n",
       "    <tr>\n",
       "      <th>61</th>\n",
       "      <td>ExterQual_TA</td>\n",
       "      <td>-0.077327</td>\n",
       "    </tr>\n",
       "    <tr>\n",
       "      <th>69</th>\n",
       "      <td>Foundation_PConc</td>\n",
       "      <td>0.022475</td>\n",
       "    </tr>\n",
       "    <tr>\n",
       "      <th>73</th>\n",
       "      <td>BsmtQual_Ex</td>\n",
       "      <td>0.134335</td>\n",
       "    </tr>\n",
       "    <tr>\n",
       "      <th>84</th>\n",
       "      <td>BsmtExposure_Gd</td>\n",
       "      <td>0.047651</td>\n",
       "    </tr>\n",
       "    <tr>\n",
       "      <th>90</th>\n",
       "      <td>BsmtFinType1_GLQ</td>\n",
       "      <td>0.033338</td>\n",
       "    </tr>\n",
       "    <tr>\n",
       "      <th>113</th>\n",
       "      <td>KitchenQual_Ex</td>\n",
       "      <td>0.089785</td>\n",
       "    </tr>\n",
       "    <tr>\n",
       "      <th>116</th>\n",
       "      <td>KitchenQual_TA</td>\n",
       "      <td>-0.033413</td>\n",
       "    </tr>\n",
       "    <tr>\n",
       "      <th>127</th>\n",
       "      <td>FireplaceQu_Missing</td>\n",
       "      <td>-0.094521</td>\n",
       "    </tr>\n",
       "    <tr>\n",
       "      <th>135</th>\n",
       "      <td>GarageType_Detchd</td>\n",
       "      <td>-0.018162</td>\n",
       "    </tr>\n",
       "    <tr>\n",
       "      <th>137</th>\n",
       "      <td>GarageFinish_Fin</td>\n",
       "      <td>0.005190</td>\n",
       "    </tr>\n",
       "    <tr>\n",
       "      <th>140</th>\n",
       "      <td>GarageFinish_Unf</td>\n",
       "      <td>-0.024338</td>\n",
       "    </tr>\n",
       "    <tr>\n",
       "      <th>166</th>\n",
       "      <td>SaleType_WD</td>\n",
       "      <td>-0.023063</td>\n",
       "    </tr>\n",
       "    <tr>\n",
       "      <th>178</th>\n",
       "      <td>OverallQual</td>\n",
       "      <td>0.201199</td>\n",
       "    </tr>\n",
       "    <tr>\n",
       "      <th>183</th>\n",
       "      <td>BsmtFinSF1</td>\n",
       "      <td>0.038502</td>\n",
       "    </tr>\n",
       "    <tr>\n",
       "      <th>192</th>\n",
       "      <td>GarageCars</td>\n",
       "      <td>0.003750</td>\n",
       "    </tr>\n",
       "    <tr>\n",
       "      <th>198</th>\n",
       "      <td>Total_Inside_Area</td>\n",
       "      <td>0.558994</td>\n",
       "    </tr>\n",
       "  </tbody>\n",
       "</table>\n",
       "</div>"
      ],
      "text/plain": [
       "                     var      coef\n",
       "2     MSSubClass_2_story  0.000673\n",
       "43         BldgType_1Fam  0.082957\n",
       "49       RoofStyle_Gable -0.039598\n",
       "56       MasVnrType_None -0.015594\n",
       "57      MasVnrType_Stone  0.010470\n",
       "61          ExterQual_TA -0.077327\n",
       "69      Foundation_PConc  0.022475\n",
       "73           BsmtQual_Ex  0.134335\n",
       "84       BsmtExposure_Gd  0.047651\n",
       "90      BsmtFinType1_GLQ  0.033338\n",
       "113       KitchenQual_Ex  0.089785\n",
       "116       KitchenQual_TA -0.033413\n",
       "127  FireplaceQu_Missing -0.094521\n",
       "135    GarageType_Detchd -0.018162\n",
       "137     GarageFinish_Fin  0.005190\n",
       "140     GarageFinish_Unf -0.024338\n",
       "166          SaleType_WD -0.023063\n",
       "178          OverallQual  0.201199\n",
       "183           BsmtFinSF1  0.038502\n",
       "192           GarageCars  0.003750\n",
       "198    Total_Inside_Area  0.558994"
      ]
     },
     "execution_count": 39,
     "metadata": {},
     "output_type": "execute_result"
    }
   ],
   "source": [
    "# I don't like how cross validation basically says to set alpha basically at 0. \n",
    "# choosing to manually introduce a larger penalty\n",
    "final_alpha = .01\n",
    "\n",
    "# fit model \n",
    "lasso_high = Lasso(alpha=final_alpha)\\\n",
    "    .fit(train_high.drop(columns=['SalePrice', 'LogSalePrice']), train_high.LogSalePrice)\n",
    "\n",
    "# see lasso coefficients\n",
    "lasso_coef_df = pd.DataFrame({\n",
    "    \"var\": train_high.drop(columns=['LogSalePrice', 'SalePrice']).columns, \n",
    "    \"coef\": lasso_high.coef_\n",
    "})\n",
    "lasso_coef_df = lasso_coef_df.loc[lasso_coef_df.coef != 0, :]\n",
    "\n",
    "print(\"number of final parameters: {}\".format(lasso_coef_df.shape[0]))\n",
    "lasso_coef_df"
   ]
  },
  {
   "cell_type": "code",
   "execution_count": 40,
   "metadata": {},
   "outputs": [
    {
     "name": "stdout",
     "output_type": "stream",
     "text": [
      "Log RMSE: 0.3309\n"
     ]
    }
   ],
   "source": [
    "# evaluate performance on test\n",
    "resids = test_high_y - lasso_high.predict(test_high)\n",
    "rmse = np.mean(resids**2)**.5\n",
    "print(\"Log RMSE: {:.4f}\".format(rmse))"
   ]
  },
  {
   "cell_type": "markdown",
   "metadata": {},
   "source": [
    "Build lasso for low price neighborhoods"
   ]
  },
  {
   "cell_type": "code",
   "execution_count": 41,
   "metadata": {},
   "outputs": [
    {
     "name": "stdout",
     "output_type": "stream",
     "text": [
      "number of final parameters: 23\n"
     ]
    },
    {
     "data": {
      "text/html": [
       "<div>\n",
       "<style scoped>\n",
       "    .dataframe tbody tr th:only-of-type {\n",
       "        vertical-align: middle;\n",
       "    }\n",
       "\n",
       "    .dataframe tbody tr th {\n",
       "        vertical-align: top;\n",
       "    }\n",
       "\n",
       "    .dataframe thead th {\n",
       "        text-align: right;\n",
       "    }\n",
       "</style>\n",
       "<table border=\"1\" class=\"dataframe\">\n",
       "  <thead>\n",
       "    <tr style=\"text-align: right;\">\n",
       "      <th></th>\n",
       "      <th>var</th>\n",
       "      <th>coef</th>\n",
       "    </tr>\n",
       "  </thead>\n",
       "  <tbody>\n",
       "    <tr>\n",
       "      <th>1</th>\n",
       "      <td>MSSubClass_1_story</td>\n",
       "      <td>-2.111069e-02</td>\n",
       "    </tr>\n",
       "    <tr>\n",
       "      <th>8</th>\n",
       "      <td>MSZoning_RL</td>\n",
       "      <td>7.515663e-02</td>\n",
       "    </tr>\n",
       "    <tr>\n",
       "      <th>25</th>\n",
       "      <td>LotConfig_Inside</td>\n",
       "      <td>-8.706183e-03</td>\n",
       "    </tr>\n",
       "    <tr>\n",
       "      <th>56</th>\n",
       "      <td>MasVnrType_None</td>\n",
       "      <td>-1.546962e-02</td>\n",
       "    </tr>\n",
       "    <tr>\n",
       "      <th>60</th>\n",
       "      <td>ExterQual_Gd</td>\n",
       "      <td>3.679885e-02</td>\n",
       "    </tr>\n",
       "    <tr>\n",
       "      <th>69</th>\n",
       "      <td>Foundation_PConc</td>\n",
       "      <td>8.175220e-03</td>\n",
       "    </tr>\n",
       "    <tr>\n",
       "      <th>75</th>\n",
       "      <td>BsmtQual_Gd</td>\n",
       "      <td>1.168754e-02</td>\n",
       "    </tr>\n",
       "    <tr>\n",
       "      <th>90</th>\n",
       "      <td>BsmtFinType1_GLQ</td>\n",
       "      <td>9.427338e-03</td>\n",
       "    </tr>\n",
       "    <tr>\n",
       "      <th>104</th>\n",
       "      <td>HeatingQC_Ex</td>\n",
       "      <td>3.021644e-02</td>\n",
       "    </tr>\n",
       "    <tr>\n",
       "      <th>109</th>\n",
       "      <td>CentralAir_N</td>\n",
       "      <td>-5.254431e-02</td>\n",
       "    </tr>\n",
       "    <tr>\n",
       "      <th>110</th>\n",
       "      <td>CentralAir_Y</td>\n",
       "      <td>2.621038e-16</td>\n",
       "    </tr>\n",
       "    <tr>\n",
       "      <th>115</th>\n",
       "      <td>KitchenQual_Gd</td>\n",
       "      <td>4.172994e-02</td>\n",
       "    </tr>\n",
       "    <tr>\n",
       "      <th>116</th>\n",
       "      <td>KitchenQual_TA</td>\n",
       "      <td>-3.787511e-03</td>\n",
       "    </tr>\n",
       "    <tr>\n",
       "      <th>127</th>\n",
       "      <td>FireplaceQu_Missing</td>\n",
       "      <td>-1.383402e-01</td>\n",
       "    </tr>\n",
       "    <tr>\n",
       "      <th>131</th>\n",
       "      <td>GarageType_Attchd</td>\n",
       "      <td>5.798607e-02</td>\n",
       "    </tr>\n",
       "    <tr>\n",
       "      <th>137</th>\n",
       "      <td>GarageFinish_Fin</td>\n",
       "      <td>1.035433e-03</td>\n",
       "    </tr>\n",
       "    <tr>\n",
       "      <th>141</th>\n",
       "      <td>GarageQual_Bad</td>\n",
       "      <td>-4.657961e-02</td>\n",
       "    </tr>\n",
       "    <tr>\n",
       "      <th>149</th>\n",
       "      <td>GarageCond_TA</td>\n",
       "      <td>3.480156e-02</td>\n",
       "    </tr>\n",
       "    <tr>\n",
       "      <th>178</th>\n",
       "      <td>OverallQual</td>\n",
       "      <td>1.882385e-01</td>\n",
       "    </tr>\n",
       "    <tr>\n",
       "      <th>181</th>\n",
       "      <td>YearRemodAdd</td>\n",
       "      <td>1.155467e-01</td>\n",
       "    </tr>\n",
       "    <tr>\n",
       "      <th>192</th>\n",
       "      <td>GarageCars</td>\n",
       "      <td>1.069716e-01</td>\n",
       "    </tr>\n",
       "    <tr>\n",
       "      <th>198</th>\n",
       "      <td>Total_Inside_Area</td>\n",
       "      <td>8.934777e-02</td>\n",
       "    </tr>\n",
       "    <tr>\n",
       "      <th>200</th>\n",
       "      <td>Bathrooms</td>\n",
       "      <td>1.834656e-01</td>\n",
       "    </tr>\n",
       "  </tbody>\n",
       "</table>\n",
       "</div>"
      ],
      "text/plain": [
       "                     var          coef\n",
       "1     MSSubClass_1_story -2.111069e-02\n",
       "8            MSZoning_RL  7.515663e-02\n",
       "25      LotConfig_Inside -8.706183e-03\n",
       "56       MasVnrType_None -1.546962e-02\n",
       "60          ExterQual_Gd  3.679885e-02\n",
       "69      Foundation_PConc  8.175220e-03\n",
       "75           BsmtQual_Gd  1.168754e-02\n",
       "90      BsmtFinType1_GLQ  9.427338e-03\n",
       "104         HeatingQC_Ex  3.021644e-02\n",
       "109         CentralAir_N -5.254431e-02\n",
       "110         CentralAir_Y  2.621038e-16\n",
       "115       KitchenQual_Gd  4.172994e-02\n",
       "116       KitchenQual_TA -3.787511e-03\n",
       "127  FireplaceQu_Missing -1.383402e-01\n",
       "131    GarageType_Attchd  5.798607e-02\n",
       "137     GarageFinish_Fin  1.035433e-03\n",
       "141       GarageQual_Bad -4.657961e-02\n",
       "149        GarageCond_TA  3.480156e-02\n",
       "178          OverallQual  1.882385e-01\n",
       "181         YearRemodAdd  1.155467e-01\n",
       "192           GarageCars  1.069716e-01\n",
       "198    Total_Inside_Area  8.934777e-02\n",
       "200            Bathrooms  1.834656e-01"
      ]
     },
     "execution_count": 41,
     "metadata": {},
     "output_type": "execute_result"
    }
   ],
   "source": [
    "# fit model \n",
    "lasso_low = Lasso(alpha=final_alpha)\\\n",
    "    .fit(train_low.drop(columns=['SalePrice', 'LogSalePrice']), train_low.LogSalePrice)\n",
    "\n",
    "# see lasso coefficients\n",
    "lasso_coef_df = pd.DataFrame({\n",
    "    \"var\": train_low.drop(columns=['LogSalePrice', 'SalePrice']).columns, \n",
    "    \"coef\": lasso_low.coef_\n",
    "})\n",
    "lasso_coef_df = lasso_coef_df.loc[lasso_coef_df.coef != 0, :]\n",
    "\n",
    "print(\"number of final parameters: {}\".format(lasso_coef_df.shape[0]))\n",
    "lasso_coef_df"
   ]
  },
  {
   "cell_type": "code",
   "execution_count": 42,
   "metadata": {},
   "outputs": [
    {
     "name": "stdout",
     "output_type": "stream",
     "text": [
      "Log RMSE: 0.3312\n"
     ]
    }
   ],
   "source": [
    "# evaluate performance on test\n",
    "resids = test_low_y - lasso_low.predict(test_low)\n",
    "rmse = np.mean(resids**2)**.5\n",
    "print(\"Log RMSE: {:.4f}\".format(rmse))"
   ]
  },
  {
   "cell_type": "markdown",
   "metadata": {},
   "source": [
    "Build the lasso combination"
   ]
  },
  {
   "cell_type": "code",
   "execution_count": 43,
   "metadata": {},
   "outputs": [],
   "source": [
    "def lasso_high_low(df):\n",
    "\n",
    "    # create id to put df back into same exact order\n",
    "    df['Id'] = list(range(0, df.shape[0]))\n",
    "\n",
    "    # split dataset into high low\n",
    "    df_high = df.loc[df.ExpensiveNeighborhood == 1]\n",
    "    df_low = df.loc[df.ExpensiveNeighborhood == 0]\n",
    "\n",
    "    # run lasso on high/low\n",
    "    df_high = df_high.assign(yhat = lasso_high.predict(df_high.drop(columns=\"Id\")))\n",
    "    df_low = df_low.assign(yhat = lasso_low.predict(df_low.drop(columns=\"Id\")))\n",
    "\n",
    "    # combine, sort values, and return results\n",
    "    df_preds = pd.concat([df_high[['Id', 'yhat']], df_low[['Id', 'yhat']]], axis=0)\n",
    "    df_preds = df_preds.sort_values(\"Id\", ascending=True)\n",
    "    \n",
    "    return np.array(df_preds.yhat)"
   ]
  },
  {
   "cell_type": "code",
   "execution_count": 44,
   "metadata": {},
   "outputs": [
    {
     "name": "stdout",
     "output_type": "stream",
     "text": [
      "Lasso Log RMSE Splitting up homes: 0.3311\n"
     ]
    }
   ],
   "source": [
    "# evaluate performance\n",
    "yhat_lasso = lasso_high_low(rf_df_clean_high_low(test, test_data=True))\n",
    "resids = yhat_lasso - np.log(sample.SalePrice)\n",
    "rmse = np.mean(resids**2)**.5\n",
    "print(\"Lasso Log RMSE Splitting up homes: {:.4f}\".format(rmse))"
   ]
  },
  {
   "cell_type": "code",
   "execution_count": 45,
   "metadata": {},
   "outputs": [
    {
     "name": "stdout",
     "output_type": "stream",
     "text": [
      "\n"
     ]
    },
    {
     "data": {
      "image/png": "[encoded data removed]",
      "text/plain": [
       "<Figure size 800.75x360 with 1 Axes>"
      ]
     },
     "metadata": {},
     "output_type": "display_data"
    }
   ],
   "source": [
    "dist_plot(actuals=np.log(sample.SalePrice), preds=lasso_high_low(rf_df_clean_high_low(test, test_data=True)), title=\"Lasso Splitting high/low neighborhoods\")"
   ]
  },
  {
   "cell_type": "markdown",
   "metadata": {},
   "source": [
    "## Random forest with cross validation"
   ]
  },
  {
   "cell_type": "code",
   "execution_count": 46,
   "metadata": {},
   "outputs": [],
   "source": [
    "# Random forest data clean function\n",
    "def rf_df_clean(df, test_data = False):\n",
    "\n",
    "    # first run standard data cleaning steps\n",
    "    df = encode_and_standardize(df, test_data=test_data)\n",
    "    \n",
    "    # DO FEATURE ENGINEERING HERE\n",
    "    # drop irrelevant columns\n",
    "    df = df.drop(columns=[\"Id\"])\n",
    "    \n",
    "    return df"
   ]
  },
  {
   "cell_type": "markdown",
   "metadata": {},
   "source": [
    "Running this cross validation grid search took almost 30 minutes on my computer. I commented the results at the bottom so we don't have to keep re-running."
   ]
  },
  {
   "cell_type": "code",
   "execution_count": 47,
   "metadata": {},
   "outputs": [],
   "source": [
    "# preprocess the data\n",
    "df_rf = rf_df_clean(train)\n",
    "\n",
    "# create the train and test splits\n",
    "dev_train, dev_test = train_test_split(df_rf, test_size=0.1, random_state=1)\n",
    "\n",
    "# specify model\n",
    "rf = RandomForestRegressor(bootstrap=True, max_features='auto', random_state=1)\n",
    "\n",
    "# run grid search on range of values\n",
    "grid = {\n",
    "    \"n_estimators\": np.arange(100, 1001, 100),\n",
    "    'max_depth': np.arange(10, 101, 5),\n",
    "    'min_samples_split': [2, 5, 7],\n",
    "}\n",
    "# # {'max_depth': 25, 'min_samples_split': 2, 'n_estimators': 900}\n",
    "\n",
    "# put our parameters into GridSearch\n",
    "gscv = GridSearchCV(\n",
    "    estimator = rf, \n",
    "    param_grid = grid, \n",
    "    n_jobs = -1, \n",
    "    cv = 3)\n",
    "\n",
    "# run the search:\n",
    "# this took 26 min to run. \n",
    "# re-run if you want\n",
    "#results = gscv.fit(dev_train.drop(columns = [\"SalePrice\", 'LogSalePrice']), dev_train.LogSalePrice)\n",
    "\n",
    "# check out the best parameters\n",
    "# print(results.best_params_)\n",
    "# {'max_depth': 25, 'min_samples_split': 2, 'n_estimators': 900}"
   ]
  },
  {
   "cell_type": "code",
   "execution_count": 48,
   "metadata": {},
   "outputs": [
    {
     "name": "stdout",
     "output_type": "stream",
     "text": [
      "RF Log RMSE: 0.3830\n"
     ]
    }
   ],
   "source": [
    "# finally, run model on best parameters and train on full dataset\n",
    "rf_reg = RandomForestRegressor(\n",
    "    n_estimators = 900,\n",
    "    max_depth = 25,\n",
    "    max_features = 'auto',\n",
    "    min_samples_split = 2,  \n",
    "    bootstrap = True, \n",
    "    random_state=1\n",
    "    )\n",
    "\n",
    "# fit the model\n",
    "df_rf = rf_df_clean(train)\n",
    "rf_reg.fit(df_rf.drop(columns = [\"SalePrice\", 'LogSalePrice']), df_rf.LogSalePrice)\n",
    "\n",
    "# evaluate performance on test\n",
    "yhat_rf = rf_reg.predict(rf_df_clean(test, test_data=True))\n",
    "resids = yhat_rf - np.log(sample.SalePrice)\n",
    "rmse_rf = np.mean(resids**2)**.5\n",
    "print(\"RF Log RMSE: {:.4f}\".format(rmse_rf))"
   ]
  },
  {
   "cell_type": "code",
   "execution_count": 49,
   "metadata": {},
   "outputs": [
    {
     "name": "stdout",
     "output_type": "stream",
     "text": [
      "\n"
     ]
    },
    {
     "data": {
      "image/png": "[encoded data removed]",
      "text/plain": [
       "<Figure size 360x504 with 1 Axes>"
      ]
     },
     "metadata": {
      "needs_background": "light"
     },
     "output_type": "display_data"
    }
   ],
   "source": [
    "# variable importance plot\n",
    "var_imp = pd.DataFrame({\n",
    "    'feature': dev_train.drop(columns = [\"SalePrice\", 'LogSalePrice']).columns,\n",
    "    'importance': rf_reg.feature_importances_\n",
    "})\n",
    "var_imp.sort_values(\"importance\", ascending=False, inplace=True)\n",
    "\n",
    "sns.reset_orig()\n",
    "fig, ax = plt.subplots(figsize=(5, 7))\n",
    "topn = 20\n",
    "ax.barh(var_imp.head(topn).feature, var_imp.head(topn).importance)\n",
    "ax.set_ylabel(\"Importance\")\n",
    "ax.set_xlabel(\"Feature\")\n",
    "ax.set_title(\"Feature Importance Plot: Top {}\".format(topn))\n",
    "ax.invert_yaxis()\n",
    "print(\"\")"
   ]
  },
  {
   "cell_type": "code",
   "execution_count": 51,
   "metadata": {},
   "outputs": [
    {
     "name": "stdout",
     "output_type": "stream",
     "text": [
      "\n",
      "\n"
     ]
    },
    {
     "data": {
      "image/png": "[encoded data removed]",
      "text/plain": [
       "<Figure size 800.75x360 with 1 Axes>"
      ]
     },
     "metadata": {},
     "output_type": "display_data"
    },
    {
     "data": {
      "image/png": "[encoded data removed]",
      "text/plain": [
       "<Figure size 800.75x360 with 1 Axes>"
      ]
     },
     "metadata": {},
     "output_type": "display_data"
    }
   ],
   "source": [
    "dist_plot(actuals=np.log(sample.SalePrice), preds=rf_reg.predict(rf_df_clean(test, test_data=True)), title=\"Random Forest\")\n",
    "\n",
    "df_plot = rf_df_clean(train)\n",
    "dist_plot(actuals=np.log(df_plot.SalePrice), preds=rf_reg.predict(df_plot.drop(columns=['SalePrice', \"LogSalePrice\"])), title=\"Random Forest\")"
   ]
  },
  {
   "cell_type": "markdown",
   "metadata": {},
   "source": [
    "## Random Forest, but split up dataset"
   ]
  },
  {
   "cell_type": "code",
   "execution_count": 50,
   "metadata": {},
   "outputs": [],
   "source": [
    "# Random forest data clean function\n",
    "def rf_df_clean_high_low(df, test_data = False):\n",
    "\n",
    "    # first run standard data cleaning steps\n",
    "    df = encode_and_standardize(df, test_data=test_data)\n",
    "    \n",
    "    # drop neighborhood var\n",
    "    df = df.drop(columns=list(filter(lambda x: re.search(\"^Neighborhood_\", x), df.columns)))\n",
    "    \n",
    "    # DO FEATURE ENGINEERING HERE\n",
    "\n",
    "    # drop irrelevant columns\n",
    "    df = df.drop(columns=[\"Id\"])\n",
    "    \n",
    "    return df"
   ]
  },
  {
   "cell_type": "code",
   "execution_count": 51,
   "metadata": {},
   "outputs": [],
   "source": [
    "# split data into high and low value neighborhoods\n",
    "train_high = rf_df_clean_high_low(train)\n",
    "train_high = train_high.loc[train_high.ExpensiveNeighborhood == 1]\n",
    "\n",
    "train_low = rf_df_clean_high_low(train)\n",
    "train_low = train_low.loc[train_low.ExpensiveNeighborhood == 0]\n",
    "\n",
    "# split up the test data too just like i will in the model\n",
    "test_high = rf_df_clean_high_low(test, test_data=True)\n",
    "test_high_y = np.log(sample.loc[test_high.ExpensiveNeighborhood == 1]['SalePrice'])\n",
    "test_high = test_high.loc[test_high.ExpensiveNeighborhood == 1]\n",
    "\n",
    "test_low = rf_df_clean_high_low(test, test_data=True)\n",
    "test_low_y = np.log(sample.loc[test_low.ExpensiveNeighborhood == 0]['SalePrice'])\n",
    "test_low = test_low.loc[test_low.ExpensiveNeighborhood == 0]"
   ]
  },
  {
   "cell_type": "markdown",
   "metadata": {},
   "source": [
    "Start w/ the high cost ones"
   ]
  },
  {
   "cell_type": "code",
   "execution_count": 52,
   "metadata": {},
   "outputs": [],
   "source": [
    "# create the train and test splits\n",
    "dev_train, dev_test = train_test_split(train_high, test_size=0.01, random_state=1)\n",
    "\n",
    "# specify model\n",
    "rf = RandomForestRegressor(bootstrap=True, max_features='auto', random_state=1)\n",
    "\n",
    "# run grid search on range of values\n",
    "# grid = {\n",
    "#     \"n_estimators\": [350, 400, 450],\n",
    "#     'max_depth': [15, 17, 19, 20],\n",
    "#     'max_features': [.33, .5, .7, \"auto\"],\n",
    "#     'min_samples_split': [2, 10, 20],\n",
    "#     'ccp_alpha': [0.0001, .001, .01, .1, .5]\n",
    "# }\n",
    "# took 18 min to run: \n",
    "# {'ccp_alpha': 0.0001, 'max_depth': 19, 'max_features': 0.5, 'min_samples_split': 2, 'n_estimators': 400}\n",
    "\n",
    "grid = {\n",
    "    \"n_estimators\": [400],\n",
    "    'max_depth': [19],\n",
    "    'max_features': [.5],\n",
    "    'min_samples_split': [2, 3, 4, 5],\n",
    "    'ccp_alpha': [0.0001, .00001]\n",
    "}\n",
    "# took 15 sec to run\n",
    "# {'ccp_alpha': 1e-05, 'max_depth': 19, 'max_features': 0.5, 'min_samples_split': 2, 'n_estimators': 400}\n",
    "\n",
    "\n",
    "# put our parameters into GridSearch\n",
    "gscv = GridSearchCV(\n",
    "    estimator = rf, \n",
    "    param_grid = grid, \n",
    "    n_jobs = -1, \n",
    "    cv = 7)\n",
    "\n",
    "# run the search:\n",
    "# results = gscv.fit(dev_train.drop(columns = [\"SalePrice\", 'LogSalePrice']), dev_train.LogSalePrice)\n",
    "\n",
    "# check out the best parameters\n",
    "# (I ran this several times)\n",
    "# print(results.best_params_)"
   ]
  },
  {
   "cell_type": "code",
   "execution_count": 53,
   "metadata": {},
   "outputs": [
    {
     "name": "stdout",
     "output_type": "stream",
     "text": [
      "RF Log RMSE on Expensive Homes: 0.2595\n"
     ]
    }
   ],
   "source": [
    "# now fit model w/ optimal hyperparams\n",
    "# finally, run model on best parameters and train on full dataset\n",
    "rf_reg_high = RandomForestRegressor(\n",
    "    n_estimators = 400,\n",
    "    max_depth = 15, #17\n",
    "    max_features = .33, # .33\n",
    "    min_samples_split = 2,\n",
    "    ccp_alpha = 1e-3, #0.001\n",
    "    #bootstrap = True, \n",
    "    random_state=1\n",
    "    )\n",
    "\n",
    "# fit the model\n",
    "rf_reg_high.fit(train_high.drop(columns = [\"SalePrice\", 'LogSalePrice']), train_high.LogSalePrice)\n",
    "\n",
    "# evaluate performance\n",
    "yhat_rf = rf_reg_high.predict(test_high)\n",
    "resids = yhat_rf - test_high_y\n",
    "rmse_rf = np.mean(resids**2)**.5\n",
    "print(\"RF Log RMSE on Expensive Homes: {:.4f}\".format(rmse_rf))"
   ]
  },
  {
   "cell_type": "markdown",
   "metadata": {},
   "source": [
    "Now for the low cost ones"
   ]
  },
  {
   "cell_type": "code",
   "execution_count": 54,
   "metadata": {},
   "outputs": [],
   "source": [
    "# create the train and test splits\n",
    "#dev_train, dev_test = train_test_split(train_low, test_size=0.01, random_state=1)\n",
    "\n",
    "# specify model\n",
    "rf = RandomForestRegressor(bootstrap=True, max_features='auto', random_state=1)\n",
    "\n",
    "# run grid search on range of values\n",
    "# grid = {\n",
    "#     \"n_estimators\": [350, 400, 450],\n",
    "#     'max_depth': [18, 19, 20, 21],\n",
    "#     'max_features': [.33, .5, .7, \"auto\"],\n",
    "#     'min_samples_split': [2, 3, 5],\n",
    "#     'ccp_alpha': [1e-4, 1e-3, 1e-2]\n",
    "# }\n",
    "# took 18 minutes:\n",
    "# {'ccp_alpha': 0.0001, 'max_depth': 18, 'max_features': 0.33, 'min_samples_split': 3, 'n_estimators': 450}\n",
    "\n",
    "# run again\n",
    "grid = {\n",
    "    \"n_estimators\": [450], #[450, 500, 600],\n",
    "    'max_depth': [14, 15, 16], # [18, 17, 16]\n",
    "    'max_features': [.33], # [.33, .2]\n",
    "    'min_samples_split': [3], # [3, 4]\n",
    "    'ccp_alpha': [1e-6, 1e-5] # [1e-4, 1e-5]\n",
    "}\n",
    "# {'ccp_alpha': 1e-05, 'max_depth': 16, 'max_features': 0.33, 'min_samples_split': 3, 'n_estimators': 450}\n",
    "# {'ccp_alpha': 1e-06, 'max_depth': 16, 'max_features': 0.33, 'min_samples_split': 3, 'n_estimators': 450}\n",
    "\n",
    "# put our parameters into GridSearch\n",
    "gscv = GridSearchCV(\n",
    "    estimator = rf, \n",
    "    param_grid = grid, \n",
    "    n_jobs = -1, \n",
    "    cv = 5)\n",
    "\n",
    "# run the search:\n",
    "#results = gscv.fit(train_low.drop(columns = [\"SalePrice\", 'LogSalePrice']), train_low.LogSalePrice)\n",
    "\n",
    "# check out the best parameters\n",
    "# (I ran this several times and kept altering grids above)\n",
    "#print(results.best_params_)"
   ]
  },
  {
   "cell_type": "code",
   "execution_count": 55,
   "metadata": {},
   "outputs": [
    {
     "name": "stdout",
     "output_type": "stream",
     "text": [
      "RF Log RMSE on Cheap Homes: 0.4101\n"
     ]
    }
   ],
   "source": [
    "# now fit model w/ optimal hyperparams\n",
    "# finally, run model on best parameters and train on full dataset\n",
    "rf_reg_low = RandomForestRegressor(\n",
    "    n_estimators = 450, # 500\n",
    "    max_depth = 14, # 22\n",
    "    max_features = .33, # 'auto',\n",
    "    min_samples_split=3, \n",
    "    ccp_alpha=1e-6, \n",
    "    bootstrap = True, \n",
    "    random_state=1\n",
    "    ) # 0.3533\n",
    "\n",
    "# fit the model\n",
    "rf_reg_low.fit(train_low.drop(columns = [\"SalePrice\", 'LogSalePrice']), train_low.LogSalePrice)\n",
    "\n",
    "# evaluate performance\n",
    "yhat_rf = rf_reg_low.predict(test_low)\n",
    "resids = yhat_rf - test_low_y\n",
    "rmse_rf = np.mean(resids**2)**.5\n",
    "print(\"RF Log RMSE on Cheap Homes: {:.4f}\".format(rmse_rf))"
   ]
  },
  {
   "cell_type": "markdown",
   "metadata": {},
   "source": [
    "Combine the two models"
   ]
  },
  {
   "cell_type": "code",
   "execution_count": 56,
   "metadata": {},
   "outputs": [],
   "source": [
    "def rf_high_low(df):\n",
    "\n",
    "    # create id to put df back into same exact order\n",
    "    df['Id'] = list(range(0, df.shape[0]))\n",
    "\n",
    "    # split dataset into high low\n",
    "    df_high = df.loc[df.ExpensiveNeighborhood == 1]\n",
    "    df_low = df.loc[df.ExpensiveNeighborhood == 0]\n",
    "\n",
    "    # run rf on high/low\n",
    "    df_high = df_high.assign(yhat = rf_reg_high.predict(df_high.drop(columns=\"Id\")))\n",
    "    df_low = df_low.assign(yhat = rf_reg_low.predict(df_low.drop(columns=\"Id\")))\n",
    "\n",
    "    # combine, sort values, and return results\n",
    "    df_preds = pd.concat([df_high[['Id', 'yhat']], df_low[['Id', 'yhat']]], axis=0)\n",
    "    df_preds = df_preds.sort_values(\"Id\", ascending=True)\n",
    "    return np.array(df_preds.yhat)    "
   ]
  },
  {
   "cell_type": "code",
   "execution_count": 57,
   "metadata": {},
   "outputs": [
    {
     "name": "stdout",
     "output_type": "stream",
     "text": [
      "RF Log RMSE Splitting up homes: 0.3671\n"
     ]
    }
   ],
   "source": [
    "# evaluate performance\n",
    "yhat_rf = rf_high_low(rf_df_clean_high_low(test, test_data=True))\n",
    "resids = yhat_rf - np.log(sample.SalePrice)\n",
    "rmse_rf = np.mean(resids**2)**.5\n",
    "print(\"RF Log RMSE Splitting up homes: {:.4f}\".format(rmse_rf))"
   ]
  },
  {
   "cell_type": "code",
   "execution_count": 58,
   "metadata": {},
   "outputs": [
    {
     "name": "stdout",
     "output_type": "stream",
     "text": [
      "\n"
     ]
    },
    {
     "data": {
      "image/png": "[encoded data removed]",
      "text/plain": [
       "<Figure size 800.75x360 with 1 Axes>"
      ]
     },
     "metadata": {},
     "output_type": "display_data"
    }
   ],
   "source": [
    "dist_plot(actuals=np.log(sample.SalePrice), preds=rf_high_low(rf_df_clean_high_low(test, test_data=True)), title=\"RF Split High/Low Cost Neighborhoods\")"
   ]
  },
  {
   "cell_type": "markdown",
   "metadata": {},
   "source": [
    "## XGBoost"
   ]
  },
  {
   "cell_type": "markdown",
   "metadata": {},
   "source": [
    "Data set ups"
   ]
  },
  {
   "cell_type": "code",
   "execution_count": 59,
   "metadata": {},
   "outputs": [],
   "source": [
    "# first build one hot encoder based on the training data\n",
    "train_xgb = standard_feature_eng(na_clean(train))\n",
    "enc_xgb = OneHotEncoder(handle_unknown = 'ignore')\n",
    "enc_xgb.fit(train_xgb.select_dtypes(include=[\"object\"]))\n",
    "one_hot_columns_xgb = pd.get_dummies(train_xgb.select_dtypes(include=[\"object\"])).columns\n",
    "# will use this encoder in the function below\n",
    "\n",
    "# xgboost data clean function\n",
    "def xgb_df_clean(df, test_data = False):\n",
    "\n",
    "    # first run standard data cleaning steps\n",
    "    df = na_clean(df)\n",
    "    df = standard_feature_eng(df, test_data = test_data)\n",
    "\n",
    "    # one hot encode using encoder above\n",
    "    categorical_cols = pd.DataFrame(enc_xgb.transform(df.select_dtypes(include=[\"object\"])).toarray())\n",
    "    categorical_cols.columns = one_hot_columns_xgb\n",
    "    df = pd.concat([categorical_cols, df.select_dtypes(exclude=[\"object\"])], axis=1)\n",
    "    \n",
    "    # DO MORE FEATURE ENGINEERING HERE LATER\n",
    "    df = df.drop(columns = ['Id'])\n",
    "    \n",
    "    return df\n",
    "\n",
    "\n",
    "# preprocess the data\n",
    "df_xgb = xgb_df_clean(train)\n",
    "\n",
    "# get X feature names\n",
    "xgb_cols = np.array(df_xgb.drop(columns = [\"SalePrice\", 'LogSalePrice']).columns)\n",
    "\n",
    "# create the train and test splits\n",
    "dev_train_X, dev_test_X, dev_train_y, dev_test_y = train_test_split(\n",
    "    df_xgb.drop(columns = [\"SalePrice\", 'LogSalePrice']), \n",
    "    np.log(df_xgb['SalePrice']), \n",
    "    test_size=0.1, random_state=1)\n",
    "\n",
    "# convert data to DMatrix format\n",
    "dmat_train = xgb.DMatrix(dev_train_X, dev_train_y, feature_names=xgb_cols)\n",
    "dmat_test = xgb.DMatrix(dev_test_X, dev_test_y, feature_names=xgb_cols)"
   ]
  },
  {
   "cell_type": "markdown",
   "metadata": {},
   "source": [
    "Cross validate to find optimal hyperparameters"
   ]
  },
  {
   "cell_type": "code",
   "execution_count": 60,
   "metadata": {},
   "outputs": [],
   "source": [
    "# sklearn api for cross validating\n",
    "xgb_reg_cv = xgb.XGBRegressor(\n",
    "    booster=\"gbtree\",\n",
    "    verbosity=0,\n",
    "    # subsample=.7, \n",
    "    # colsample_bytree=.7\n",
    ")\n",
    "\n",
    "# set up grid for hyperparam tuning\n",
    "cv_grid = {\n",
    "    \"n_estimators\": [500, 600], \n",
    "    \"max_depth\": [6, 10, 20, 30],\n",
    "    \"learning_rate\": [.05, .1, .15], \n",
    "    'reg_alpha': [0, .1], \n",
    "    'reg_lambda': [0, .1], \n",
    "}\n",
    "\n",
    "# more randomization option\n",
    "gscv = GridSearchCV(estimator=xgb_reg_cv, param_grid=cv_grid, n_jobs=-1, cv=3)\n",
    "\n",
    "# fit step\n",
    "# (11 minutes)\n",
    "# xgb_cv_results = gscv.fit(dev_train_X, dev_train_y)\n",
    "# print(xgb_cv_results.best_params_)\n",
    "# {'learning_rate': 0.05, 'max_depth': 6, 'n_estimators': 500, 'reg_alpha': 0.1, 'reg_lambda': 0.1}"
   ]
  },
  {
   "cell_type": "markdown",
   "metadata": {},
   "source": [
    "Hyper parameter tune a bit further"
   ]
  },
  {
   "cell_type": "code",
   "execution_count": 61,
   "metadata": {},
   "outputs": [],
   "source": [
    "# sklearn api for cross validating\n",
    "xgb_reg_cv2 = xgb.XGBRegressor(\n",
    "    booster=\"gbtree\",\n",
    "    verbosity=0,\n",
    "    n_estimators=500\n",
    ")\n",
    "\n",
    "# set up grid for hyperparam tuning\n",
    "cv_grid = {\n",
    "    \"max_depth\": [5, 6, 7],\n",
    "    \"learning_rate\": [.07, .1], \n",
    "    'reg_alpha': [.1, .2, .3, 1], \n",
    "    'reg_lambda': [.1, .2, .3, 1], \n",
    "}\n",
    "\n",
    "# set up the grid search\n",
    "gscv = GridSearchCV(estimator=xgb_reg_cv2, param_grid=cv_grid, n_jobs=-1, cv=3)\n",
    "\n",
    "# fit step\n",
    "# (7 minutes)\n",
    "# xgb_cv_results_v2 = gscv.fit(dev_train_X, dev_train_y)\n",
    "# print(xgb_cv_results_v2.best_params_)\n",
    "# {'learning_rate': 0.07, 'max_depth': 5, 'reg_alpha': 0.2, 'reg_lambda': 0.3}"
   ]
  },
  {
   "cell_type": "markdown",
   "metadata": {},
   "source": [
    "Run xgboost again using the optimal hyper parameters from above"
   ]
  },
  {
   "cell_type": "code",
   "execution_count": 62,
   "metadata": {},
   "outputs": [
    {
     "name": "stdout",
     "output_type": "stream",
     "text": [
      "Log RMSE: 0.3950\n"
     ]
    }
   ],
   "source": [
    "# specify final params\n",
    "xgb_reg = xgb.XGBRegressor(\n",
    "    booster=\"gbtree\",\n",
    "    verbosity=0,\n",
    "    learning_rate=.07,\n",
    "    max_depth=5,\n",
    "    n_estimators=500, \n",
    "    reg_alpha=.2, \n",
    "    reg_lambda=.3\n",
    ")\n",
    "\n",
    "# fit to train\n",
    "xgb_reg.fit(df_xgb.drop(columns = [\"SalePrice\", 'LogSalePrice']), np.log(df_xgb['SalePrice']))\n",
    "\n",
    "# evaluate performance on test\n",
    "yhat = xgb_reg.predict(xgb_df_clean(test, test_data=True))\n",
    "resids = yhat - np.log(sample.SalePrice)\n",
    "print(\"Log RMSE: {:.4f}\".format(np.mean(resids**2)**.5))"
   ]
  },
  {
   "cell_type": "code",
   "execution_count": 63,
   "metadata": {},
   "outputs": [
    {
     "name": "stdout",
     "output_type": "stream",
     "text": [
      "[0]\ttrain-rmse:nan\ttest-rmse:10.70926\n",
      "[1]\ttrain-rmse:nan\ttest-rmse:9.96010\n",
      "[2]\ttrain-rmse:nan\ttest-rmse:9.26341\n",
      "[3]\ttrain-rmse:nan\ttest-rmse:8.61551\n",
      "[4]\ttrain-rmse:nan\ttest-rmse:8.01300\n",
      "[5]\ttrain-rmse:nan\ttest-rmse:7.45307\n",
      "[6]\ttrain-rmse:nan\ttest-rmse:6.93354\n",
      "[7]\ttrain-rmse:nan\ttest-rmse:6.44927\n",
      "[8]\ttrain-rmse:nan\ttest-rmse:5.99866\n",
      "[9]\ttrain-rmse:nan\ttest-rmse:5.58023\n",
      "[10]\ttrain-rmse:nan\ttest-rmse:5.19097\n",
      "[11]\ttrain-rmse:nan\ttest-rmse:4.82883\n",
      "[12]\ttrain-rmse:nan\ttest-rmse:4.49173\n",
      "[13]\ttrain-rmse:nan\ttest-rmse:4.17899\n",
      "[14]\ttrain-rmse:nan\ttest-rmse:3.88882\n",
      "[15]\ttrain-rmse:nan\ttest-rmse:3.61882\n",
      "[16]\ttrain-rmse:nan\ttest-rmse:3.36714\n",
      "[17]\ttrain-rmse:nan\ttest-rmse:3.13270\n",
      "[18]\ttrain-rmse:nan\ttest-rmse:2.91507\n",
      "[19]\ttrain-rmse:nan\ttest-rmse:2.71153\n",
      "Log RMSE: 0.3950\n"
     ]
    }
   ],
   "source": [
    "# trying the xgboost implementation just to compare with the sklearn api\n",
    "# create the train and test splits\n",
    "dev_train_X, dev_test_X, dev_train_y, dev_test_y = train_test_split(\n",
    "    df_xgb.drop(columns = [\"SalePrice\", 'LogSalePrice']), \n",
    "    np.log(df_xgb['SalePrice']), \n",
    "    test_size=0.1, random_state=1)\n",
    "\n",
    "# convert data to DMatrix format\n",
    "dmat_train = xgb.DMatrix(dev_train_X, dev_train_y, feature_names=xgb_cols)\n",
    "dmat_test = xgb.DMatrix(dev_test_X, dev_test_y, feature_names=xgb_cols)\n",
    "\n",
    "# final fit\n",
    "booster_xgb = xgb.train({\n",
    "\n",
    "    \"booster\": \"gbtree\", \n",
    "    \"n_estimators\": 500,\n",
    "    \"eta\": .07, \n",
    "    \"max_depth\": 5, \n",
    "    \"lambda\": .3, \n",
    "    \"alpha\": .2, \n",
    "    \"eval_metric\": \"rmse\", \n",
    "    \"objective\": \"reg:squarederror\"\n",
    "    },\n",
    "\n",
    "    dmat_train,\n",
    "    num_boost_round=20,\n",
    "    evals=[(dmat_train, \"train\"), (dmat_test, \"test\")]\n",
    ")\n",
    "\n",
    "# evaluate final performance on test\n",
    "df_xgb_test = xgb.DMatrix(xgb_df_clean(test, test_data=True))\n",
    "preds = booster_xgb.predict(df_xgb_test)\n",
    "redids = preds - np.log(sample.SalePrice)\n",
    "print(\"Log RMSE: {:.4f}\".format(np.mean(resids**2)**.5))"
   ]
  },
  {
   "cell_type": "code",
   "execution_count": 64,
   "metadata": {},
   "outputs": [
    {
     "name": "stdout",
     "output_type": "stream",
     "text": [
      "\n"
     ]
    },
    {
     "data": {
      "image/png": "[encoded data removed]",
      "text/plain": [
       "<Figure size 800.75x360 with 1 Axes>"
      ]
     },
     "metadata": {},
     "output_type": "display_data"
    }
   ],
   "source": [
    "dist_plot(actuals=np.log(sample.SalePrice), preds=xgb_reg.predict(xgb_df_clean(test, test_data=True)), title=\"XGBoost\")"
   ]
  },
  {
   "cell_type": "code",
   "execution_count": 65,
   "metadata": {},
   "outputs": [
    {
     "name": "stdout",
     "output_type": "stream",
     "text": [
      "[0]\ttrain-rmse:nan\ttest-rmse:6.91604\n",
      "[1]\ttrain-rmse:nan\ttest-rmse:4.15672\n",
      "[2]\ttrain-rmse:nan\ttest-rmse:2.50482\n",
      "[3]\ttrain-rmse:nan\ttest-rmse:1.52030\n",
      "[4]\ttrain-rmse:nan\ttest-rmse:0.92705\n",
      "[5]\ttrain-rmse:nan\ttest-rmse:0.58637\n",
      "[6]\ttrain-rmse:nan\ttest-rmse:0.38413\n",
      "[7]\ttrain-rmse:nan\ttest-rmse:0.27795\n",
      "[8]\ttrain-rmse:nan\ttest-rmse:0.21741\n",
      "[9]\ttrain-rmse:nan\ttest-rmse:0.18905\n",
      "Log RMSE: 0.3950\n"
     ]
    }
   ],
   "source": [
    "# a more overfit xgbooster\n",
    "booster_deep_trees = xgb.train({\n",
    "\n",
    "    \"booster\": \"gbtree\", \n",
    "    \"max_depth\": 30, \n",
    "    \"eta\": .4, \n",
    "    \"gamma\": .01, \n",
    "    \"subsample\": 0.6,\n",
    "    \"lambda\": .7, \n",
    "    \"alpha\": 0, \n",
    "    \"max_bin\": 256, \n",
    "    \"colsample_bytree\": .7, # proportion of features\n",
    "    \"eval_metric\": \"rmse\", \n",
    "    \"objective\": \"reg:squarederror\"\n",
    "    },\n",
    "\n",
    "    dmat_train,\n",
    "    evals=[(dmat_train, \"train\"), (dmat_test, \"test\")] \n",
    ")\n",
    "\n",
    "# evaluate final performance on test\n",
    "df_xgb_test = xgb.DMatrix(xgb_df_clean(test, test_data=True))\n",
    "preds = booster_deep_trees.predict(df_xgb_test)\n",
    "redids = preds - np.log(sample.SalePrice)\n",
    "print(\"Log RMSE: {:.4f}\".format(np.mean(resids**2)**.5))"
   ]
  },
  {
   "cell_type": "markdown",
   "metadata": {},
   "source": [
    "# XGBoost neighborhood split\n",
    "\n",
    "Follow essentially the same steps as the RF"
   ]
  },
  {
   "cell_type": "code",
   "execution_count": 66,
   "metadata": {},
   "outputs": [],
   "source": [
    "# Random forest data clean function\n",
    "def rf_df_clean_high_low(df, test_data = False):\n",
    "\n",
    "    # first run standard data cleaning steps\n",
    "    df = encode_and_standardize(df, test_data=test_data)\n",
    "    \n",
    "    # drop neighborhood var\n",
    "    df = df.drop(columns=list(filter(lambda x: re.search(\"^Neighborhood_\", x), df.columns)))\n",
    "    \n",
    "    # DO FEATURE ENGINEERING HERE\n",
    "\n",
    "    # drop irrelevant columns\n",
    "    df = df.drop(columns=[\"Id\"])\n",
    "    \n",
    "    return df"
   ]
  },
  {
   "cell_type": "code",
   "execution_count": 67,
   "metadata": {},
   "outputs": [],
   "source": [
    "# split data into high and low value neighborhoods\n",
    "train_high = rf_df_clean_high_low(train)\n",
    "train_high = train_high.loc[train_high.ExpensiveNeighborhood == 1]\n",
    "\n",
    "train_low = rf_df_clean_high_low(train)\n",
    "train_low = train_low.loc[train_low.ExpensiveNeighborhood == 0]\n",
    "\n",
    "# split up the test data too just like i will in the model\n",
    "test_high = rf_df_clean_high_low(test, test_data=True)\n",
    "test_high_y = np.log(sample.loc[test_high.ExpensiveNeighborhood == 1]['SalePrice'])\n",
    "test_high = test_high.loc[test_high.ExpensiveNeighborhood == 1]\n",
    "\n",
    "test_low = rf_df_clean_high_low(test, test_data=True)\n",
    "test_low_y = np.log(sample.loc[test_low.ExpensiveNeighborhood == 0]['SalePrice'])\n",
    "test_low = test_low.loc[test_low.ExpensiveNeighborhood == 0]"
   ]
  },
  {
   "cell_type": "markdown",
   "metadata": {},
   "source": [
    "High cost xgb model"
   ]
  },
  {
   "cell_type": "markdown",
   "metadata": {},
   "source": [
    "Cross validate first to hyperparameter tune"
   ]
  },
  {
   "cell_type": "code",
   "execution_count": 70,
   "metadata": {},
   "outputs": [
    {
     "name": "stdout",
     "output_type": "stream",
     "text": [
      "{'colsample_bytree': 0.7, 'learning_rate': 0.05, 'max_depth': 10, 'n_estimators': 400, 'reg_alpha': 0, 'reg_lambda': 0.1, 'subsample': 0.5}\n"
     ]
    }
   ],
   "source": [
    "# initial options\n",
    "xgb_reg_cv = xgb.XGBRegressor(\n",
    "    booster=\"gbtree\",\n",
    "    verbosity=0,\n",
    "    random_state=1\n",
    ")\n",
    "\n",
    "\n",
    "# hyperparameter CV round 1:\n",
    "# cv_grid = {\n",
    "#     \"n_estimators\": [500, 600], \n",
    "#     \"max_depth\": [1, 6, 10, 20, 30],\n",
    "#     \"learning_rate\": [.05, .1, .15], \n",
    "    \n",
    "#     'reg_alpha': [0, .1], \n",
    "#     'reg_lambda': [0, .1], \n",
    "\n",
    "#     'subsample': [.5, .7], \n",
    "#     'colsample_bytree': [.5, .7]\n",
    "# }\n",
    "# 32 min later:\n",
    "# {'colsample_bytree': 0.7, 'learning_rate': 0.05, 'max_depth': 10, 'n_estimators': 500, 'reg_alpha': 0, 'reg_lambda': 0.1, 'subsample': 0.5}\n",
    "\n",
    "\n",
    "# hyperparameter CV round 2:\n",
    "# cv_grid = {\n",
    "#     \"n_estimators\": [400, 500], \n",
    "#     \"max_depth\": [10],\n",
    "#     \"learning_rate\": [.04, .05], \n",
    "    \n",
    "#     'reg_alpha': [0, .05], \n",
    "#     'reg_lambda': [.05, .1], \n",
    "\n",
    "#     'subsample': [.5], \n",
    "#     'colsample_bytree': [.7]\n",
    "# }\n",
    "# 1.5 min later\n",
    "# {'colsample_bytree': 0.7, 'learning_rate': 0.05, 'max_depth': 10, 'n_estimators': 400, 'reg_alpha': 0, 'reg_lambda': 0.1, 'subsample': 0.5}\n",
    "\n",
    "\n",
    "# hyperparameter CV round 3:\n",
    "cv_grid = {\n",
    "    \"n_estimators\": [400], \n",
    "    \"max_depth\": [10],\n",
    "    \"learning_rate\": [.05], \n",
    "    \n",
    "    'reg_alpha': [0, .01, .02, .03, .04, .05], \n",
    "    'reg_lambda': [.09, .1, .11], \n",
    "\n",
    "    'subsample': [.5], \n",
    "    'colsample_bytree': [.7]\n",
    "}\n",
    "# {'colsample_bytree': 0.7, 'learning_rate': 0.05, 'max_depth': 10, 'n_estimators': 400, 'reg_alpha': 0, 'reg_lambda': 0.1, 'subsample': 0.5}\n",
    "\n",
    "\n",
    "# more randomization options\n",
    "gscv = GridSearchCV(estimator=xgb_reg_cv, param_grid=cv_grid, n_jobs=-1, cv=3)\n",
    "\n",
    "# fit step\n",
    "#xgb_cv_results = gscv.fit(train_high.drop(columns=[\"SalePrice\", \"LogSalePrice\"]), train_high['LogSalePrice'])\n",
    "#print(xgb_cv_results.best_params_)"
   ]
  },
  {
   "cell_type": "code",
   "execution_count": 71,
   "metadata": {},
   "outputs": [
    {
     "name": "stdout",
     "output_type": "stream",
     "text": [
      "Log RMSE: 0.2758\n"
     ]
    }
   ],
   "source": [
    "# specify final params\n",
    "xgb_high = xgb.XGBRegressor(\n",
    "    booster=\"gbtree\",\n",
    "    verbosity=0,\n",
    "    n_estimators=400,\n",
    "    max_depth=10,\n",
    "    learning_rate=.05, \n",
    "    \n",
    "    reg_alpha=0, \n",
    "    reg_lambda=.1, \n",
    "\n",
    "    subsample=.5, \n",
    "    colsample_bytree=.7, \n",
    "    random_state=1\n",
    ")\n",
    "\n",
    "# fit to train\n",
    "xgb_high.fit(train_high.drop(columns=[\"SalePrice\", \"LogSalePrice\"]), train_high['LogSalePrice'])\n",
    "\n",
    "# evaluate performance on test\n",
    "yhat = xgb_high.predict(test_high)\n",
    "resids = yhat - test_high_y\n",
    "print(\"Log RMSE: {:.4f}\".format(np.mean(resids**2)**.5))"
   ]
  },
  {
   "cell_type": "markdown",
   "metadata": {},
   "source": [
    "Low cost xgb model\n",
    "\n",
    "Cross validate first like we did for the high cost model"
   ]
  },
  {
   "cell_type": "code",
   "execution_count": 77,
   "metadata": {},
   "outputs": [
    {
     "name": "stdout",
     "output_type": "stream",
     "text": [
      "{'colsample_bytree': 0.7, 'learning_rate': 0.05, 'max_depth': 7, 'n_estimators': 500, 'reg_alpha': 0, 'reg_lambda': 0.09, 'subsample': 0.5}\n"
     ]
    }
   ],
   "source": [
    "# initial options\n",
    "xgb_reg_cv = xgb.XGBRegressor(\n",
    "    booster=\"gbtree\",\n",
    "    verbosity=0,\n",
    "    random_state=1\n",
    ")\n",
    "\n",
    "# set up grid for hyperparam tuning\n",
    "cv_grid = {\n",
    "    \"n_estimators\": [500], # 400\n",
    "    \"max_depth\": [7, 6, 5], # [7, 8, 9, 6, 5]\n",
    "    \"learning_rate\": [.05], \n",
    "    \n",
    "    'reg_alpha': [0], # .01\n",
    "    'reg_lambda': [.09], # .05  \n",
    "\n",
    "    'subsample': [.5], \n",
    "    'colsample_bytree': [.7]\n",
    "}\n",
    "# {'colsample_bytree': 0.7, 'learning_rate': 0.05, 'max_depth': 7, 'n_estimators': 500, 'reg_alpha': 0, 'reg_lambda': 0.09, 'subsample': 0.5}\n",
    "\n",
    "# more randomization options\n",
    "gscv = GridSearchCV(estimator=xgb_reg_cv, param_grid=cv_grid, n_jobs=-1, cv=3)\n",
    "\n",
    "# fit step\n",
    "#xgb_cv_results = gscv.fit(train_low.drop(columns=[\"SalePrice\", \"LogSalePrice\"]), train_low['LogSalePrice'])\n",
    "#print(xgb_cv_results.best_params_)"
   ]
  },
  {
   "cell_type": "code",
   "execution_count": 78,
   "metadata": {},
   "outputs": [
    {
     "name": "stdout",
     "output_type": "stream",
     "text": [
      "Log RMSE: 0.4541\n"
     ]
    }
   ],
   "source": [
    "# specify final params\n",
    "xgb_low = xgb.XGBRegressor(\n",
    "    booster=\"gbtree\",\n",
    "    verbosity=0,\n",
    "    n_estimators=500,\n",
    "    max_depth=7,\n",
    "    learning_rate=.05, \n",
    "    \n",
    "    reg_alpha=0, \n",
    "    reg_lambda=.09, \n",
    "\n",
    "    subsample=.5, \n",
    "    colsample_bytree=.7, \n",
    "    random_state=1\n",
    ")\n",
    "\n",
    "# fit to train\n",
    "xgb_low.fit(train_low.drop(columns=[\"SalePrice\", \"LogSalePrice\"]), train_low['LogSalePrice'])\n",
    "\n",
    "# evaluate performance on test\n",
    "yhat = xgb_low.predict(test_low)\n",
    "resids = yhat - test_low_y\n",
    "print(\"Log RMSE: {:.4f}\".format(np.mean(resids**2)**.5))"
   ]
  },
  {
   "cell_type": "markdown",
   "metadata": {},
   "source": [
    "Combine the two models"
   ]
  },
  {
   "cell_type": "code",
   "execution_count": 79,
   "metadata": {},
   "outputs": [],
   "source": [
    "def xgb_high_low(df):\n",
    "\n",
    "    # create id to put df back into same exact order\n",
    "    df['Id'] = list(range(0, df.shape[0]))\n",
    "\n",
    "    # split dataset into high low\n",
    "    df_high = df.loc[df.ExpensiveNeighborhood == 1]\n",
    "    df_low = df.loc[df.ExpensiveNeighborhood == 0]\n",
    "\n",
    "    # run rf on high/low\n",
    "    df_high = df_high.assign(yhat = xgb_high.predict(df_high.drop(columns=\"Id\")))\n",
    "    df_low = df_low.assign(yhat = xgb_low.predict(df_low.drop(columns=\"Id\")))\n",
    "\n",
    "    # combine, sort values, and return results\n",
    "    df_preds = pd.concat([df_high[['Id', 'yhat']], df_low[['Id', 'yhat']]], axis=0)\n",
    "    df_preds = df_preds.sort_values(\"Id\", ascending=True)\n",
    "    \n",
    "    return np.array(df_preds.yhat)    "
   ]
  },
  {
   "cell_type": "code",
   "execution_count": 80,
   "metadata": {},
   "outputs": [
    {
     "name": "stdout",
     "output_type": "stream",
     "text": [
      "XGB Log RMSE Splitting up homes: 0.4038\n"
     ]
    }
   ],
   "source": [
    "# evaluate performance\n",
    "yhat_xgb = xgb_high_low(rf_df_clean_high_low(test, test_data=True))\n",
    "resids = yhat_xgb - np.log(sample.SalePrice)\n",
    "rmse = np.mean(resids**2)**.5\n",
    "print(\"XGB Log RMSE Splitting up homes: {:.4f}\".format(rmse))"
   ]
  },
  {
   "cell_type": "code",
   "execution_count": 81,
   "metadata": {},
   "outputs": [
    {
     "name": "stdout",
     "output_type": "stream",
     "text": [
      "\n"
     ]
    },
    {
     "data": {
      "image/png": "[encoded data removed]",
      "text/plain": [
       "<Figure size 800.75x360 with 1 Axes>"
      ]
     },
     "metadata": {},
     "output_type": "display_data"
    }
   ],
   "source": [
    "dist_plot(actuals=np.log(sample.SalePrice), preds=xgb_high_low(rf_df_clean_high_low(test, test_data=True)), title=\"XGB Split High/Low Cost Neighborhoods\")"
   ]
  },
  {
   "cell_type": "markdown",
   "metadata": {},
   "source": [
    "# Neural Net"
   ]
  },
  {
   "cell_type": "code",
   "execution_count": 34,
   "metadata": {},
   "outputs": [],
   "source": [
    "# Neural net data clean function\n",
    "def nn_df_clean_pt1(df, test_data = False):\n",
    "\n",
    "    # first run standard data cleaning steps\n",
    "    df = na_clean(df)\n",
    "    df = standard_feature_eng(df, test_data = test_data)\n",
    "\n",
    "    # feature engineer\n",
    "    ExpensiveNeighborhoods = ['Somerst', 'Blmngtn', 'BrDale', 'NridgHt', 'StoneBr', 'MeadowV']\n",
    "    df['ExpensiveNeighborhood'] = df['Neighborhood'].apply(lambda x: any([k in x for k in ExpensiveNeighborhoods]))\n",
    "\n",
    "    # select smaller subset of features for NN\n",
    "    df = df[['LotArea', 'OverallQual','Remodeled', 'Total_Inside_Area', 'Bathrooms', 'ExpensiveNeighborhood']]\n",
    "    \n",
    "    return df\n",
    "\n",
    "\n",
    "# set up standard scaler based on train\n",
    "sc = StandardScaler().fit(nn_df_clean_pt1(train))\n",
    "\n",
    "# now build reproducible NN data clean function\n",
    "def nn_df_clean(df, test_data = False):\n",
    "\n",
    "    # first run standard data cleaning steps\n",
    "    df = na_clean(df)\n",
    "    df = standard_feature_eng(df, test_data = test_data)\n",
    "\n",
    "    # feature engineer\n",
    "    ExpensiveNeighborhoods = ['Somerst', 'Blmngtn', 'BrDale', 'NridgHt', 'StoneBr', 'MeadowV']\n",
    "    df['ExpensiveNeighborhood'] = df['Neighborhood'].apply(lambda x: any([k in x for k in ExpensiveNeighborhoods]))\n",
    "\n",
    "    # select smaller subset of features for NN\n",
    "    df = df[['LotArea', 'OverallQual','Remodeled', 'Total_Inside_Area', 'Bathrooms', 'ExpensiveNeighborhood']]\n",
    "\n",
    "    # standard scaler\n",
    "    df = sc.transform(df)\n",
    "    \n",
    "    return df"
   ]
  },
  {
   "cell_type": "code",
   "execution_count": 36,
   "metadata": {},
   "outputs": [],
   "source": [
    "# train test split\n",
    "X_train, X_test, y_train, y_test = train_test_split(nn_df_clean(train), np.log(train.SalePrice), random_state=3, test_size=.1)"
   ]
  },
  {
   "cell_type": "code",
   "execution_count": 7,
   "metadata": {},
   "outputs": [],
   "source": [
    "from tensorflow.keras.layers import Dense, Activation"
   ]
  },
  {
   "cell_type": "code",
   "execution_count": 2,
   "metadata": {},
   "outputs": [],
   "source": [
    "# having 6 neuron is based on the number of available features\n",
    "# for some reason I had to import these keras packages separately first, otherwise my other ones wouldn't load correctly \n",
    "from keras.layers import Dense, Activation\n",
    "\n",
    "model = keras.models.Sequential()\n",
    "from keras.layers  as Dense\n",
    "\n",
    "model.add(Dense(6,activation='relu'))\n",
    "model.add(Dense(6,activation='relu'))\n",
    "model.add(Dense(6,activation='relu'))\n",
    "model.add(Dense(6,activation='relu'))\n",
    "model.add(Dense(1))\n",
    "\n",
    "# Compiling the ANN\n",
    "model.compile(optimizer='Adam',loss='mean_squared_error')\n",
    "\n",
    "# fit to training data\n",
    "model.fit(x=X_train,y=y_train,\n",
    "          validation_data=(X_test,y_test),\n",
    "          batch_size=128,epochs=400)\n",
    "\n",
    "# model.summary()\n",
    "# loss_df = pd.DataFrame(model.history.history)\n",
    "# loss_df.plot(figsize=(12,8))\n",
    "\n",
    "# evaluate performance on test\n",
    "yhat_nn = model.predict(nn_df_clean(test, test_data=True))\n",
    "print(yhat_nn)"
   ]
  },
  {
   "cell_type": "code",
   "execution_count": null,
   "metadata": {},
   "outputs": [],
   "source": []
  },
  {
   "cell_type": "markdown",
   "metadata": {},
   "source": [
    "# Final Ensemble model\n",
    "\n",
    "This doesn't work yet, but this is how I have in mind to make the final predictions. Make sure each of these models are pretrained from above:\n",
    "- OLS (lr_1)\n",
    "- OLS Simple (lr_overall_quality)\n",
    "- GLM (still want this??)\n",
    "- Lasso (update)\n",
    "- Random forest (rf_reg)\n",
    "- Extreme gradient boosting machine (update)\n",
    "\n",
    "\n",
    "Then we can pass in brand new incoming data to make predictions with this function"
   ]
  },
  {
   "cell_type": "code",
   "execution_count": 382,
   "metadata": {},
   "outputs": [],
   "source": [
    "# Load in brand new data to make sure it all works\n",
    "working_dir = !pwd\n",
    "train = pd.read_csv(\"../../housing_data/train.csv\")\n",
    "test = pd.read_csv(\"../../housing_data/test.csv\")\n",
    "sample = pd.read_csv(\"../../housing_data/sample_submission.csv\")"
   ]
  },
  {
   "cell_type": "code",
   "execution_count": 393,
   "metadata": {},
   "outputs": [],
   "source": [
    "def housing_ensemble_model(df, output_type='regular'):\n",
    "    '''This is the final model that takes in raw data, and makes predictions'''\n",
    "\n",
    "    # OLS\n",
    "    yhat_ols1 = lr_1.predict(lm_df_clean(df, test_data=True))\n",
    "\n",
    "    # OLS Simple\n",
    "    yhat_ols_simple = lr_overall_quality.predict(lm_overall_quality_df_clean(df, test_data=True))\n",
    "\n",
    "    # GLM\n",
    "\n",
    "    # Lasso\n",
    "    yhat_lasso = lasso_fit.predict(lasso_df_clean(df, test_data=True))\n",
    "\n",
    "    # Random forest\n",
    "    yhat_rf = rf_reg.predict(rf_df_clean(df, test_data=True))\n",
    "\n",
    "    # XGB\n",
    "    yhat_xgb = xgb_reg.predict(xgb_df_clean(df, test_data=True))\n",
    "\n",
    "    # make ensemble prediction\n",
    "    # Do more work to come up w/ weights. This is just a sample\n",
    "    yhat_final = yhat_ols1*(1/5) + yhat_ols_simple * (1/5) + yhat_lasso * (1/5) + yhat_rf * (1/5) + yhat_xgb * (1/5)\n",
    "\n",
    "    if output_type == \"not logged\":\n",
    "        return np.exp(yhat_final)\n",
    "\n",
    "    elif output_type == \"df\":\n",
    "        result_df = pd.DataFrame({\n",
    "            \"ols1\":          yhat_ols1, \n",
    "            \"ols_simple\":    yhat_ols_simple, \n",
    "            \"lasso\":         yhat_lasso, \n",
    "            \"random_forest\": yhat_rf, \n",
    "            \"xgb\":           yhat_xgb, \n",
    "            \"ensemble\":      yhat_final\n",
    "        })\n",
    "        return result_df\n",
    "\n",
    "    elif output_type == \"test performances\":\n",
    "        result_df = {\n",
    "            \"ols1\":          np.mean((np.log(sample.SalePrice) - yhat_ols1)**2)**.5,\n",
    "            \"ols_simple\":    np.mean((np.log(sample.SalePrice) - yhat_ols_simple)**2)**.5,\n",
    "            \"lasso\":         np.mean((np.log(sample.SalePrice) - yhat_lasso)**2)**.5,\n",
    "            \"random_forest\": np.mean((np.log(sample.SalePrice) - yhat_rf)**2)**.5, \n",
    "            \"xgb\":           np.mean((np.log(sample.SalePrice) - yhat_xgb)**2)**.5, \n",
    "            \"ensemble\":      np.mean((np.log(sample.SalePrice) - yhat_final)**2)**.5\n",
    "        }\n",
    "        return result_df\n",
    "\n",
    "    else:\n",
    "        return yhat_final\n"
   ]
  },
  {
   "cell_type": "code",
   "execution_count": 389,
   "metadata": {},
   "outputs": [
    {
     "name": "stdout",
     "output_type": "stream",
     "text": [
      "RMSE Train: 22297.8940020255\n",
      "RMSE Test: 66875.2648708175\n",
      "\n",
      "Log RMSE Train: 0.10453871022070585\n",
      "Log RMSE Test: 0.355971143969446\n"
     ]
    }
   ],
   "source": [
    "# final ensemble model RMSE\n",
    "yhat_train = housing_ensemble_model(train.drop(columns = [\"SalePrice\"]))\n",
    "yhat_test = housing_ensemble_model(test)\n",
    "\n",
    "rmse_train = np.mean((train.SalePrice - np.exp(yhat_train))**2)**.5\n",
    "rmse_test = np.mean((sample.SalePrice - np.exp(yhat_test))**2)**.5\n",
    "\n",
    "# evaluate rmse  on the testing data\n",
    "print(\"RMSE Train: {}\".format(rmse_train))\n",
    "print(\"RMSE Test: {}\".format(rmse_test))\n",
    "\n",
    "# log results\n",
    "rmse_train_log = np.mean((np.log(train.SalePrice) - yhat_train)**2)**.5\n",
    "rmse_test_log = np.mean((np.log(sample.SalePrice) - yhat_test)**2)**.5\n",
    "# evaluate rmse  on the testing data\n",
    "print(\"\\nLog RMSE Train: {}\".format(rmse_train_log))\n",
    "print(\"Log RMSE Test: {}\".format(rmse_test_log))\n"
   ]
  },
  {
   "cell_type": "code",
   "execution_count": 395,
   "metadata": {},
   "outputs": [
    {
     "name": "stdout",
     "output_type": "stream",
     "text": [
      "\n"
     ]
    },
    {
     "data": {
      "image/png": "[encoded data removed]",
      "text/plain": [
       "<Figure size 828.375x360 with 1 Axes>"
      ]
     },
     "metadata": {
      "needs_background": "light"
     },
     "output_type": "display_data"
    }
   ],
   "source": [
    "# see distribution of the accuracies\n",
    "result_df = housing_ensemble_model(test, output_type=\"df\")\n",
    "result_df = pd.concat([result_df, \n",
    "    pd.DataFrame({\"Actual\": np.log(sample.SalePrice)})\n",
    "    ], axis=1)\n",
    "\n",
    "result_df = result_df.melt(var_name=\"Type\", value_name=\"log_sale_price\")\n",
    "result_df\n",
    "\n",
    "sns.reset_orig()\n",
    "sns.displot(result_df, x=\"log_sale_price\", hue=\"Type\", kind=\"kde\", aspect=2).set_axis_labels(x_var=\"Log Sale Price\")\n",
    "plt.title(\"Model Distributions\",fontdict={\"fontsize\": 20})\n",
    "print(\"\")"
   ]
  },
  {
   "cell_type": "markdown",
   "metadata": {},
   "source": [
    "See each model's performance\n"
   ]
  },
  {
   "cell_type": "code",
   "execution_count": 394,
   "metadata": {},
   "outputs": [
    {
     "data": {
      "text/plain": [
       "{'ols1': 0.37203063827417354,\n",
       " 'ols_simple': 0.3500410739830086,\n",
       " 'lasso': 0.35722015970506366,\n",
       " 'random_forest': 0.36451359157240215,\n",
       " 'xgb': 0.38995480858748494,\n",
       " 'ensemble': 0.355971143969446}"
      ]
     },
     "execution_count": 394,
     "metadata": {},
     "output_type": "execute_result"
    }
   ],
   "source": [
    "housing_ensemble_model(test, output_type=\"test performances\")"
   ]
  },
  {
   "cell_type": "markdown",
   "metadata": {},
   "source": [
    "# Scratch work below for sample submissions"
   ]
  },
  {
   "cell_type": "code",
   "execution_count": 320,
   "metadata": {},
   "outputs": [],
   "source": [
    "lasso_data = lasso_df_clean(test, test_data=True)\n",
    "yhat_lasso = lasso_fit.predict(lasso_data)"
   ]
  },
  {
   "cell_type": "code",
   "execution_count": 323,
   "metadata": {},
   "outputs": [],
   "source": [
    "sample_submission = pd.DataFrame({\n",
    "    \"Id\": test.Id,\n",
    "    \"SalePrice\": np.exp(yhat_lasso)\n",
    "})\n",
    "sample_submission.to_csv(\"~/Desktop/sample_submission_lasso.csv\", index=False)"
   ]
  },
  {
   "cell_type": "code",
   "execution_count": null,
   "metadata": {},
   "outputs": [],
   "source": []
  }
 ],
 "metadata": {
  "interpreter": {
   "hash": "f9a763963a0c2e3eb3033a1766c128288cb698df5642a2fe22798efe2c630a93"
  },
  "kernelspec": {
   "display_name": "Python 3",
   "language": "python",
   "name": "python3"
  },
  "language_info": {
   "codemirror_mode": {
    "name": "ipython",
    "version": 3
   },
   "file_extension": ".py",
   "mimetype": "text/x-python",
   "name": "python",
   "nbconvert_exporter": "python",
   "pygments_lexer": "ipython3",
   "version": "3.8.5"
  }
 },
 "nbformat": 4,
 "nbformat_minor": 2
}
