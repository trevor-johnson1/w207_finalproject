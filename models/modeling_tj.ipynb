{
 "cells": [
  {
   "cell_type": "markdown",
   "metadata": {},
   "source": [
    "# House Prices - Advanced Regression Techniques\n",
    "\n",
    "## Deva Kulkarni, Jared Dec, Marc Semonick, Trevor Johnson\n",
    "\n",
    "## October 2021\n",
    "\n",
    "<br>\n",
    "\n",
    "Competition Link: https://www.kaggle.com/c/house-prices-advanced-regression-techniques\n",
    "\n",
    "Goal: Predict sales price for each house (`SalePrice`). RMSE on log(pred) - log(actual) will be the evaluation metric. \n",
    "\n",
    "Inference Problem:  Given known variables about a house, accurately predict its sale price.\n",
    "\n",
    "Deliverable: Final submission dataset should contain only the two fields `ID` and `SalePrice`. "
   ]
  },
  {
   "cell_type": "markdown",
   "metadata": {},
   "source": [
    "# Setups"
   ]
  },
  {
   "cell_type": "markdown",
   "metadata": {},
   "source": [
    "Import modules"
   ]
  },
  {
   "cell_type": "code",
   "execution_count": 318,
   "metadata": {},
   "outputs": [],
   "source": [
    "import os \n",
    "\n",
    "# data manipulation/viz\n",
    "import pandas as pd \n",
    "import numpy as np \n",
    "import seaborn as sns\n",
    "import matplotlib.pyplot as plt\n",
    "\n",
    "# modeling setups\n",
    "from patsy import dmatrices\n",
    "from sklearn.model_selection import RandomizedSearchCV\n",
    "from sklearn.model_selection import train_test_split\n",
    "from sklearn.model_selection import GridSearchCV\n",
    "from sklearn.preprocessing import OneHotEncoder\n",
    "\n",
    "# linear modeling\n",
    "from sklearn.linear_model import LinearRegression\n",
    "from sklearn.linear_model import Lasso\n",
    "from sklearn.preprocessing import StandardScaler, MinMaxScaler\n",
    "import statsmodels.api as sm\n",
    "from statsmodels.formula.api import glm \n",
    "\n",
    "# tree modeling\n",
    "from sklearn.tree import DecisionTreeRegressor\n",
    "from sklearn.ensemble import RandomForestRegressor\n",
    "import xgboost as xgb"
   ]
  },
  {
   "cell_type": "markdown",
   "metadata": {},
   "source": [
    "Load in the data"
   ]
  },
  {
   "cell_type": "code",
   "execution_count": 319,
   "metadata": {},
   "outputs": [],
   "source": [
    "# optional directory set-up\n",
    "working_dir = !pwd\n",
    "train = pd.read_csv(os.path.join(working_dir[0], \"../../housing_data\", \"train.csv\"))\n",
    "test = pd.read_csv(os.path.join(working_dir[0], \"../../housing_data\", \"test.csv\"))\n",
    "sample = pd.read_csv(os.path.join(working_dir[0], \"../../housing_data\", \"sample_submission.csv\"))"
   ]
  },
  {
   "cell_type": "code",
   "execution_count": 320,
   "metadata": {},
   "outputs": [
    {
     "name": "stdout",
     "output_type": "stream",
     "text": [
      "train shape: (1460, 81)\n",
      "test shape: (1459, 80)\n"
     ]
    }
   ],
   "source": [
    "print(\"train shape: {}\".format(train.shape))\n",
    "print(\"test shape: {}\".format(test.shape))"
   ]
  },
  {
   "cell_type": "markdown",
   "metadata": {},
   "source": [
    "Base functions for standard data cleanining to use in all models"
   ]
  },
  {
   "cell_type": "code",
   "execution_count": 321,
   "metadata": {},
   "outputs": [],
   "source": [
    "def na_clean(df):\n",
    "    \n",
    "    # some vars are just too missing so I remove the field\n",
    "    df = df.drop(columns = [\"PoolQC\", \"MiscFeature\"])\n",
    "\n",
    "    # replace some numeric vars w/ median\n",
    "    median_replace_vars = ['LotFrontage', 'MasVnrArea', 'GarageYrBlt', 'BsmtFinSF1', 'BsmtFinSF2', 'BsmtUnfSF', 'TotalBsmtSF', 'GarageArea']\n",
    "    for var in median_replace_vars:\n",
    "        df[var].fillna(df[var].median(), inplace = True)\n",
    "    \n",
    "    # replace some num vars w/ 0\n",
    "    zero_replace_vars = ['BsmtFullBath', 'BsmtHalfBath', 'GarageCars']\n",
    "    for var in zero_replace_vars:\n",
    "        df[var].fillna(0, inplace = True)\n",
    "    \n",
    "    # replace some cat vars w/ most freq value \n",
    "    df['MasVnrType'].fillna('None', inplace = True)\n",
    "    df['Electrical'].fillna('SBrkr', inplace = True)\n",
    "    df['MSZoning'].fillna('RL', inplace = True)\n",
    "    df['SaleType'].fillna('WD', inplace = True)\n",
    "    df['Utilities'].fillna('AllPub', inplace = True)\n",
    "    df['KitchenQual'].fillna('TA', inplace = True)\n",
    "    df['Functional'].fillna('Typ', inplace = True)\n",
    "\n",
    "    # other cat vars just put missing if there isn't a glaring most popular category\n",
    "    replace_missing_vars = ['Alley', 'BsmtQual', 'BsmtCond', 'BsmtExposure', 'BsmtFinType1', \n",
    "        'BsmtFinType2', 'GarageType', 'GarageFinish', 'GarageQual', 'GarageCond', 'Fence', 'Exterior1st', \n",
    "        'Exterior2nd', 'FireplaceQu']\n",
    "    for var in replace_missing_vars:\n",
    "        df[var].fillna(\"Missing\", inplace = True)\n",
    "\n",
    "    return df\n",
    "\n",
    "\n",
    "\n",
    "# Function for some standard feature engineering to use in all models\n",
    "def standard_feature_eng(df, test_data = False):\n",
    "    '''Input either the training or test data. \n",
    "    2nd arg set to True if it's the testing data. That way we ignore the final log transformation on sale price'''\n",
    "\n",
    "    # num features to just binarize b/c few houses have the feature\n",
    "    df[\"SwimmingPool\"] = df['PoolArea'].map(lambda x: 0 if x==0 else 1)\n",
    "    df[\"3SsnPorch\"] = df['3SsnPorch'].map(lambda x: 0 if x==0 else 1)\n",
    "    df[\"ScreenPorch\"] = df['ScreenPorch'].map(lambda x: 0 if x==0 else 1)\n",
    "\n",
    "    # re-factoring vars:\n",
    "    # group the irregularities into 2 factor levels\n",
    "    df['LotShape'] = df['LotShape'].map({'Reg': 'Reg', 'IR1': 'Reg', 'IR2': 'Irreg', 'IR3': 'Irreg'})\n",
    "\n",
    "    # simplifying MSSubClass because we have the year built in another feature\n",
    "    df['MSSubClass'] = df['MSSubClass'].map(lambda x: \n",
    "        \"1_story\"   if (x in (20, 30, 40, 120)) else(\n",
    "        \"1.5_story\" if (x in (45, 50, 150)) else(\n",
    "        \"2_story\"   if (x in (60, 70, 75, 160, 180, 190)) else(\n",
    "        \"split\"     if (x in (80, 85)) else(\n",
    "        \"duplex\"    if (x ==90) else(\n",
    "        \"other\"))))))\n",
    "    df['MSSubClass'] = df['MSSubClass'].astype(\"object\")\n",
    "\n",
    "    # simplifying more vars\n",
    "    # electrical:\n",
    "    df['Electrical'] = df['Electrical'].map(lambda x: \"SBrkr\" if x == \"SBrkr\" else \"Fuse\")\n",
    "    # exterior:\n",
    "    df['Exterior'] = df['Exterior1st'].map(lambda x: \n",
    "        # group exterior into simplified var based on average prices\n",
    "        \"Expensive\" if (x in (\"VinylSd\", \"CemntBd\", \"Stone\", \"ImStucc\")) else(\n",
    "        \"Cheap\" if (x in (\"BrkComm\", \"AsphShn\", \"CBlock\", \"AsbShng\")) else(\n",
    "        \"Moderate\")))\n",
    "    df = df.drop(columns=['Exterior1st', 'Exterior2nd'])\n",
    "    # garage\n",
    "    df['GarageQual'] = df['GarageQual'].map(lambda x: \n",
    "        # group exterior into simplified var based on average prices\n",
    "        \"Good\" if (x in (\"Ex\", \"Gd\")) else(\n",
    "        \"Medium\" if (x in (\"TA\")) else(\n",
    "        \"Bad\")))\n",
    "    df['Heating'] = df['Heating'].map(lambda x: \"Gas\" if x in (\"GasA\", \"GasW\") else \"Other\")\n",
    "\n",
    "    # deciding to drop a few features for various reasons\n",
    "    vars_to_drop = [\n",
    "        # not much variation:\n",
    "        \"LowQualFinSF\", \n",
    "        \"LandSlope\", \n",
    "        \"MiscVal\", \n",
    "        \"RoofMatl\",\n",
    "        \"Condition2\",\n",
    "        #\"KitchenAbvGr\" # hardly any variation. But, Deva included in lm's so including it now.\n",
    "        \"PoolArea\", # binarized above\n",
    "        \"Utilities\", # only 1 obs in training data different from regular\n",
    "        \"HouseStyle\" # already explained in other vars\n",
    "        ]\n",
    "    df.drop(columns=vars_to_drop, inplace=True) \n",
    "\n",
    "    # adding a remodeled feature\n",
    "    df['Remodeled'] = (df.YearRemodAdd-df.YearBuilt) == 0\n",
    "\n",
    "    # total inside area will be a sum of 1st and 2nd floor sq ft\n",
    "    df['Total_Inside_Area'] = df['1stFlrSF'] + df['2ndFlrSF']\n",
    "    df.drop(columns = ['1stFlrSF', '2ndFlrSF', 'GrLivArea'], inplace = True)\n",
    "\n",
    "    # simplify the bathrooms variable\n",
    "    df['Bathrooms'] = df.BsmtFullBath + 0.5*df.BsmtHalfBath + df.FullBath + 0.5*df.HalfBath\n",
    "    df.drop(columns = ['BsmtFullBath', 'BsmtHalfBath', 'FullBath', 'HalfBath'], inplace = True)\n",
    "\n",
    "    # get log of sale price which will be our actual response variable\n",
    "    if test_data:\n",
    "        pass \n",
    "    else:\n",
    "        df['LogSalePrice'] = np.log(df.SalePrice)\n",
    "\n",
    "    return df"
   ]
  },
  {
   "cell_type": "markdown",
   "metadata": {},
   "source": [
    "# Modeling"
   ]
  },
  {
   "cell_type": "markdown",
   "metadata": {},
   "source": [
    "## OLS"
   ]
  },
  {
   "cell_type": "markdown",
   "metadata": {},
   "source": [
    "Function to prep data for a very baseline linear model"
   ]
  },
  {
   "cell_type": "code",
   "execution_count": 322,
   "metadata": {},
   "outputs": [],
   "source": [
    "def lm_df_clean(df, test_data = False):\n",
    "\n",
    "    # first run standard data cleaning steps\n",
    "    df = na_clean(df)\n",
    "    df = standard_feature_eng(df, test_data = test_data)\n",
    "\n",
    "    lm_vars = ['LotArea', 'Street', 'Neighborhood', 'OverallQual', 'OverallCond', 'YearRemodAdd', \n",
    "              'BsmtCond', 'BedroomAbvGr', 'KitchenAbvGr', 'KitchenQual', 'TotRmsAbvGrd', 'YrSold', \n",
    "              'MoSold', 'Remodeled', 'Total_Inside_Area', 'Bathrooms']\n",
    "\n",
    "    df = pd.get_dummies(df[lm_vars], \n",
    "        columns = ['Street', 'Neighborhood', 'OverallQual', 'OverallCond', 'BsmtCond','KitchenQual'], \n",
    "        drop_first=True)\n",
    "    \n",
    "    return df"
   ]
  },
  {
   "cell_type": "markdown",
   "metadata": {},
   "source": [
    "Train OLS model"
   ]
  },
  {
   "cell_type": "code",
   "execution_count": 323,
   "metadata": {},
   "outputs": [],
   "source": [
    "# data setups\n",
    "X_train = lm_df_clean(train)\n",
    "X_test = lm_df_clean(test, test_data=True)\n",
    "Y_train = train.SalePrice\n",
    "Y_test = sample.SalePrice\n",
    "\n",
    "# fit to train data\n",
    "lr_1 = LinearRegression(fit_intercept=True).fit(X_train, Y_train)"
   ]
  },
  {
   "cell_type": "markdown",
   "metadata": {},
   "source": [
    "Evaluate performance. Baseline OLS model is very overfit"
   ]
  },
  {
   "cell_type": "code",
   "execution_count": 324,
   "metadata": {},
   "outputs": [
    {
     "name": "stdout",
     "output_type": "stream",
     "text": [
      "Fit on training data: 0.850\n",
      "Fit on testing data: -17.593\n",
      "RMSE on training data: 30758.901\n",
      "RMSE on testing data: 71201.223\n"
     ]
    }
   ],
   "source": [
    "print(\"Fit on training data: {:.3f}\".format(lr_1.score(X_train,Y_train)))\n",
    "print(\"Fit on testing data: {:.3f}\".format(lr_1.score(X_test ,Y_test)))\n",
    "\n",
    "yhat_train = lr_1.predict(X_train)\n",
    "yhat_test = lr_1.predict(X_test)\n",
    "\n",
    "# rmse\n",
    "rmse_train = (np.mean((yhat_train - Y_train)**2))**.5\n",
    "rmse_test = (np.mean((yhat_test - Y_test)**2))**.5\n",
    "\n",
    "print(\"RMSE on training data: {:.3f}\".format(rmse_train))\n",
    "print(\"RMSE on testing data: {:.3f}\".format(rmse_test))\n"
   ]
  },
  {
   "cell_type": "markdown",
   "metadata": {},
   "source": [
    "## OLS with 1 variable\n",
    "\n",
    "An OLS with 1 variable, overall quality, outperforms the more complex OLS model with many features. This uses the variable with highest coefficient from initial correlation matrix."
   ]
  },
  {
   "cell_type": "code",
   "execution_count": 325,
   "metadata": {},
   "outputs": [],
   "source": [
    "# data setup function\n",
    "def lm_overall_quality_df_clean(df, test_data = False):\n",
    "\n",
    "    # first run standard data cleaning steps\n",
    "    df = na_clean(df)\n",
    "    df = standard_feature_eng(df, test_data = test_data)\n",
    "    df = df.loc[:, ['OverallQual']]\n",
    "    \n",
    "    return df"
   ]
  },
  {
   "cell_type": "code",
   "execution_count": 326,
   "metadata": {},
   "outputs": [],
   "source": [
    "# data setups\n",
    "X_train = lm_overall_quality_df_clean(train)\n",
    "X_test = lm_overall_quality_df_clean(test, test_data=True)\n",
    "Y_train = train.SalePrice\n",
    "Y_test = sample.SalePrice\n",
    "\n",
    "# fit to train data\n",
    "lr_overall_quality = LinearRegression(fit_intercept=True).fit(X_train, Y_train)"
   ]
  },
  {
   "cell_type": "code",
   "execution_count": 327,
   "metadata": {},
   "outputs": [
    {
     "name": "stdout",
     "output_type": "stream",
     "text": [
      "Fit on training data: 0.626\n",
      "Fit on testing data: -14.882\n",
      "RMSE on training data: 48589.447\n",
      "RMSE on testing data: 65805.787\n"
     ]
    }
   ],
   "source": [
    "# Evaluate performance\n",
    "print(\"Fit on training data: {:.3f}\".format(lr_overall_quality.score(X_train,Y_train)))\n",
    "print(\"Fit on testing data: {:.3f}\".format(lr_overall_quality.score(X_test ,Y_test)))\n",
    "\n",
    "yhat_train = lr_overall_quality.predict(X_train)\n",
    "yhat_test = lr_overall_quality.predict(X_test)\n",
    "\n",
    "# rmse\n",
    "rmse_train = (np.mean((yhat_train - Y_train)**2))**.5\n",
    "rmse_test = (np.mean((yhat_test - Y_test)**2))**.5\n",
    "\n",
    "print(\"RMSE on training data: {:.3f}\".format(rmse_train))\n",
    "print(\"RMSE on testing data: {:.3f}\".format(rmse_test))\n"
   ]
  },
  {
   "cell_type": "markdown",
   "metadata": {},
   "source": [
    "## Lasso model"
   ]
  },
  {
   "cell_type": "code",
   "execution_count": 328,
   "metadata": {},
   "outputs": [],
   "source": [
    "# data setup function\n",
    "def lasso_df_clean(df, test_data = False):\n",
    "\n",
    "    # first run standard data cleaning steps\n",
    "    df = na_clean(df)\n",
    "    #df = standard_feature_eng(df, test_data = test_data)\n",
    "\n",
    "    # log transformations\n",
    "    df[\"GrLivArea\"] = np.log(df[\"GrLivArea\"])\n",
    "\n",
    "    # select only vars needed\n",
    "    if test_data:\n",
    "        df = df[[\"GrLivArea\",\"OverallQual\"]] \n",
    "    else:\n",
    "        df[\"SalePrice\"] = np.log(df[\"SalePrice\"])\n",
    "        df = df[[\"GrLivArea\",\"OverallQual\", \"SalePrice\"]]\n",
    "    \n",
    "    return df"
   ]
  },
  {
   "cell_type": "code",
   "execution_count": 329,
   "metadata": {},
   "outputs": [],
   "source": [
    "# data setups\n",
    "X_train = lasso_df_clean(train)\n",
    "X_test = lasso_df_clean(test, test_data=True)\n",
    "Y_train = X_train.SalePrice\n",
    "Y_test = np.log(sample.SalePrice)\n",
    "\n",
    "# fit to train data\n",
    "lasso_fit = Lasso(alpha=.01).fit(X_train[[\"GrLivArea\",\"OverallQual\"]], Y_train)"
   ]
  },
  {
   "cell_type": "code",
   "execution_count": 330,
   "metadata": {},
   "outputs": [
    {
     "name": "stdout",
     "output_type": "stream",
     "text": [
      "RMSE on training data: 40577.213\n",
      "RMSE on testing data: 59794.710\n"
     ]
    }
   ],
   "source": [
    "# Evaluate performance\n",
    "yhat_train = np.exp(lasso_fit.predict(X_train[[\"GrLivArea\",\"OverallQual\"]]))\n",
    "yhat_test = np.exp(lasso_fit.predict(X_test[[\"GrLivArea\",\"OverallQual\"]]))\n",
    "\n",
    "# rmse\n",
    "rmse_train = (np.mean((yhat_train - train.SalePrice)**2))**.5\n",
    "rmse_test = (np.mean((yhat_test - sample.SalePrice)**2))**.5\n",
    "\n",
    "print(\"RMSE on training data: {:.3f}\".format(rmse_train))\n",
    "print(\"RMSE on testing data: {:.3f}\".format(rmse_test))"
   ]
  },
  {
   "cell_type": "markdown",
   "metadata": {},
   "source": [
    "## Random forest with cross validation"
   ]
  },
  {
   "cell_type": "code",
   "execution_count": 331,
   "metadata": {},
   "outputs": [],
   "source": [
    "# first build one hot encoder based on the training data\n",
    "train_rf = standard_feature_eng(na_clean(train))\n",
    "enc_rf = OneHotEncoder(handle_unknown = 'ignore')\n",
    "enc_rf.fit(train_rf.select_dtypes(include=[\"object\"]))\n",
    "one_hot_columns = pd.get_dummies(train_rf.select_dtypes(include=[\"object\"])).columns\n",
    "# will use this encoder in the function below"
   ]
  },
  {
   "cell_type": "code",
   "execution_count": 333,
   "metadata": {},
   "outputs": [],
   "source": [
    "# Random forest data clean function\n",
    "def rf_df_clean(df, test_data = False):\n",
    "\n",
    "    # first run standard data cleaning steps\n",
    "    df = na_clean(df)\n",
    "    df = standard_feature_eng(df, test_data = test_data)\n",
    "\n",
    "    # one hot encode using encoder above\n",
    "    categorical_cols = pd.DataFrame(enc_rf.transform(df.select_dtypes(include=[\"object\"])).toarray())\n",
    "    categorical_cols.columns = one_hot_columns\n",
    "    df = pd.concat([categorical_cols, df.select_dtypes(exclude=[\"object\"])], axis=1)\n",
    "    \n",
    "    # DO FEATURE ENGINEERING HERE\n",
    "    # drop irrelevant columns\n",
    "    df = df.drop(columns=[\"Id\"])\n",
    "    \n",
    "    return df"
   ]
  },
  {
   "cell_type": "markdown",
   "metadata": {},
   "source": [
    "Running this cross validation grid search took almost 30 minutes on my computer. I commented the results at the bottom so we don't have to keep re-running."
   ]
  },
  {
   "cell_type": "code",
   "execution_count": 334,
   "metadata": {},
   "outputs": [],
   "source": [
    "# preprocess the data\n",
    "df_rf = rf_df_clean(train)\n",
    "\n",
    "# create the train and test splits\n",
    "dev_train, dev_test = train_test_split(df_rf, test_size=0.3, random_state=1)\n",
    "\n",
    "# specify model\n",
    "rf = RandomForestRegressor(bootstrap=True, max_features='auto')\n",
    "\n",
    "# run grid search on range of values\n",
    "grid = {\n",
    "    \"n_estimators\": np.arange(100, 1001, 100),\n",
    "    'max_depth': np.arange(10, 101, 5),\n",
    "    'min_samples_split': [2, 5, 7],\n",
    "}\n",
    "\n",
    "# put our parameters into GridSearch\n",
    "gscv = GridSearchCV(\n",
    "    estimator = rf, \n",
    "    param_grid = grid, \n",
    "    n_jobs = -1, \n",
    "    cv = 3)\n",
    "\n",
    "# run the search:\n",
    "# this took 26 min to run. \n",
    "# re-run if you want\n",
    "#results = gscv.fit(dev_train.drop(columns = [\"SalePrice\", 'LogSalePrice']), dev_train.LogSalePrice)\n",
    "\n",
    "# check out the best parameters\n",
    "# print(results.best_params_)\n",
    "# {'max_depth': 25, 'min_samples_split': 2, 'n_estimators': 900}"
   ]
  },
  {
   "cell_type": "code",
   "execution_count": 335,
   "metadata": {},
   "outputs": [
    {
     "name": "stdout",
     "output_type": "stream",
     "text": [
      "RMSE: 29478.7028\n"
     ]
    }
   ],
   "source": [
    "# finally, run model on best parameters\n",
    "rf_reg = RandomForestRegressor(\n",
    "    n_estimators = 900,\n",
    "    max_depth = 25,\n",
    "    max_features = 'auto',\n",
    "    min_samples_split = 2,  \n",
    "    bootstrap = True, \n",
    "    )\n",
    "\n",
    "# fit the model\n",
    "rf_reg.fit(dev_train.drop(columns = [\"SalePrice\", 'LogSalePrice']), dev_train.LogSalePrice)\n",
    "\n",
    "# evaluate it's performance on the unforseen testing set\n",
    "yhat = rf_reg.predict(dev_test.drop(columns = [\"SalePrice\", 'LogSalePrice']))\n",
    "# convert log scale back to normal scale\n",
    "yhat = np.exp(yhat)\n",
    "resids = yhat - dev_test.SalePrice\n",
    "\n",
    "# evaluate rmse  on the testing data\n",
    "print(\"RMSE: \" + str(round(np.mean(resids**2)**.5,4)))\n",
    "# MAE: 0.0999\n",
    "# RMSE: 0.154"
   ]
  },
  {
   "cell_type": "code",
   "execution_count": 336,
   "metadata": {},
   "outputs": [
    {
     "name": "stdout",
     "output_type": "stream",
     "text": [
      "Score on train: -5.533\n",
      "Score on test: -4.523\n"
     ]
    }
   ],
   "source": [
    "# score on train\n",
    "rf_train_score = rf_reg.score(dev_train.drop(columns = [\"SalePrice\", 'LogSalePrice']), dev_train.SalePrice)\n",
    "print(\"Score on train: {:.3f}\".format(rf_train_score))\n",
    "\n",
    "# score on test/dev\n",
    "rf_dev_score = rf_reg.score(dev_test.drop(columns = [\"SalePrice\", 'LogSalePrice']), dev_test.SalePrice)\n",
    "print(\"Score on test: {:.3f}\".format(rf_dev_score))"
   ]
  },
  {
   "cell_type": "code",
   "execution_count": 337,
   "metadata": {},
   "outputs": [
    {
     "name": "stdout",
     "output_type": "stream",
     "text": [
      "\n"
     ]
    },
    {
     "data": {
      "image/png": "[encoded data removed]",
      "text/plain": [
       "<Figure size 360x504 with 1 Axes>"
      ]
     },
     "metadata": {
      "needs_background": "light"
     },
     "output_type": "display_data"
    }
   ],
   "source": [
    "# variable importance plot\n",
    "var_imp = pd.DataFrame({\n",
    "    'feature': dev_train.drop(columns = [\"SalePrice\", 'LogSalePrice']).columns,\n",
    "    'importance': rf_reg.feature_importances_\n",
    "})\n",
    "var_imp.sort_values(\"importance\", ascending=False, inplace=True)\n",
    "\n",
    "fig, ax = plt.subplots(figsize=(5, 7))\n",
    "topn = 20\n",
    "ax.barh(var_imp.head(topn).feature, var_imp.head(topn).importance)\n",
    "ax.set_ylabel(\"Importance\")\n",
    "ax.set_xlabel(\"Feature\")\n",
    "ax.set_title(\"Feature Importance Plot: Top {}\".format(topn))\n",
    "ax.invert_yaxis()\n",
    "print(\"\")"
   ]
  },
  {
   "cell_type": "markdown",
   "metadata": {},
   "source": [
    "## Gradient boosting regression"
   ]
  },
  {
   "cell_type": "code",
   "execution_count": 338,
   "metadata": {},
   "outputs": [],
   "source": [
    "# first build one hot encoder based on the training data\n",
    "train_xgb = standard_feature_eng(na_clean(train))\n",
    "enc_xgb = OneHotEncoder(handle_unknown = 'ignore')\n",
    "enc_xgb.fit(train_xgb.select_dtypes(include=[\"object\"]))\n",
    "one_hot_columns_xgb = pd.get_dummies(train_xgb.select_dtypes(include=[\"object\"])).columns\n",
    "# will use this encoder in the function below"
   ]
  },
  {
   "cell_type": "code",
   "execution_count": 339,
   "metadata": {},
   "outputs": [],
   "source": [
    "# xgboost data clean function\n",
    "def xgb_df_clean(df, test_data = False):\n",
    "\n",
    "    # first run standard data cleaning steps\n",
    "    df = na_clean(df)\n",
    "    df = standard_feature_eng(df, test_data = test_data)\n",
    "\n",
    "    # one hot encode using encoder above\n",
    "    categorical_cols = pd.DataFrame(enc_xgb.transform(df.select_dtypes(include=[\"object\"])).toarray())\n",
    "    categorical_cols.columns = one_hot_columns_xgb\n",
    "    df = pd.concat([categorical_cols, df.select_dtypes(exclude=[\"object\"])], axis=1)\n",
    "    \n",
    "    # DO MORE FEATURE ENGINEERING HERE LATER\n",
    "    df = df.drop(columns = ['Id'])\n",
    "    \n",
    "    return df"
   ]
  },
  {
   "cell_type": "code",
   "execution_count": 340,
   "metadata": {},
   "outputs": [],
   "source": [
    "# preprocess the data\n",
    "df_xgb = xgb_df_clean(train)\n",
    "\n",
    "# get X feature names\n",
    "xgb_cols = np.array(df_xgb.drop(columns = [\"SalePrice\", 'LogSalePrice']).columns)\n",
    "\n",
    "# create the train and test splits\n",
    "dev_train_X, dev_test_X, dev_train_y, dev_test_y = train_test_split(\n",
    "    df_xgb.drop(columns = [\"SalePrice\", 'LogSalePrice']), \n",
    "    df_xgb['SalePrice'], \n",
    "    test_size=0.3, random_state=1)\n",
    "\n",
    "# convert data to DMatrix format\n",
    "dmat_train = xgb.DMatrix(dev_train_X, dev_train_y, feature_names=xgb_cols)\n",
    "dmat_test = xgb.DMatrix(dev_test_X, dev_test_y, feature_names=xgb_cols)"
   ]
  },
  {
   "cell_type": "markdown",
   "metadata": {},
   "source": [
    "Cross validate to find optimal hyperparameters"
   ]
  },
  {
   "cell_type": "code",
   "execution_count": 341,
   "metadata": {},
   "outputs": [],
   "source": [
    "# do this later"
   ]
  },
  {
   "cell_type": "markdown",
   "metadata": {},
   "source": [
    "Choosing a set of example values for now"
   ]
  },
  {
   "cell_type": "code",
   "execution_count": 342,
   "metadata": {},
   "outputs": [
    {
     "name": "stdout",
     "output_type": "stream",
     "text": [
      "[0]\ttrain-rmse:125228.71875\ttest-rmse:128062.25781\n",
      "[1]\ttrain-rmse:81176.39844\ttest-rmse:84866.00781\n",
      "[2]\ttrain-rmse:53347.87891\ttest-rmse:58408.92969\n",
      "[3]\ttrain-rmse:37758.90625\ttest-rmse:46087.58594\n",
      "[4]\ttrain-rmse:26957.08984\ttest-rmse:39360.03516\n",
      "[5]\ttrain-rmse:20505.39844\ttest-rmse:34604.78516\n",
      "[6]\ttrain-rmse:15888.64746\ttest-rmse:31305.33008\n",
      "[7]\ttrain-rmse:12682.33203\ttest-rmse:31045.90430\n",
      "[8]\ttrain-rmse:10787.96191\ttest-rmse:29558.62109\n",
      "[9]\ttrain-rmse:9233.54297\ttest-rmse:29335.30859\n"
     ]
    }
   ],
   "source": [
    "booster = xgb.train({\n",
    "\n",
    "    \"booster\": \"gbtree\", \n",
    "    \"max_depth\": 30, \n",
    "    \"eta\": .4, \n",
    "    \"gamma\": .01, \n",
    "    \"subsample\": 0.6,\n",
    "    \"lambda\": .7, \n",
    "    \"alpha\": 0, \n",
    "    \"max_bin\": 256, \n",
    "    \"colsample_bytree\": .7, # proportion of features\n",
    "    \"eval_metric\": \"rmse\", \n",
    "    \"objective\": \"reg:squarederror\"\n",
    "    },\n",
    "\n",
    "    dmat_train,\n",
    "    evals=[(dmat_train, \"train\"), (dmat_test, \"test\")] \n",
    ")"
   ]
  },
  {
   "cell_type": "code",
   "execution_count": null,
   "metadata": {},
   "outputs": [],
   "source": []
  },
  {
   "cell_type": "markdown",
   "metadata": {},
   "source": [
    "# Final Ensemble model\n",
    "\n",
    "This doesn't work yet, but this is how I have in mind to make the final predictions. Make sure each of these models are pretrained from above:\n",
    "- OLS (lr_1)\n",
    "- OLS Simple (lr_overall_quality)\n",
    "- GLM (still want this??)\n",
    "- Lasso (update)\n",
    "- Random forest (rf_reg)\n",
    "- Extreme gradient boosting machine (update)\n",
    "\n",
    "\n",
    "Then we can pass in brand new incoming data to make predictions with this function"
   ]
  },
  {
   "cell_type": "code",
   "execution_count": 343,
   "metadata": {},
   "outputs": [],
   "source": [
    "# Load in brand new data to make sure it all works\n",
    "working_dir = !pwd\n",
    "train = pd.read_csv(os.path.join(working_dir[0], \"../../housing_data\", \"train.csv\"))\n",
    "test = pd.read_csv(os.path.join(working_dir[0], \"../../housing_data\", \"test.csv\"))\n",
    "sample = pd.read_csv(os.path.join(working_dir[0], \"../../housing_data\", \"sample_submission.csv\"))"
   ]
  },
  {
   "cell_type": "code",
   "execution_count": 344,
   "metadata": {},
   "outputs": [],
   "source": [
    "def housing_ensemble_model(df):\n",
    "    '''This is the final model that takes in raw data, and makes predictions'''\n",
    "\n",
    "    # OLS\n",
    "    yhat_ols1 = lr_1.predict(lm_df_clean(df, test_data=True))\n",
    "\n",
    "    # OLS Simple\n",
    "    yhat_ols_simple = lr_overall_quality.predict(lm_overall_quality_df_clean(df, test_data=True))\n",
    "\n",
    "    # GLM\n",
    "\n",
    "    # Lasso\n",
    "    lasso_data = lasso_df_clean(df, test_data=True)[[\"GrLivArea\",\"OverallQual\"]]\n",
    "    yhat_lasso = np.exp(lasso_fit.predict(lasso_data))\n",
    "\n",
    "    # Random forest\n",
    "    yhat_rf = np.exp(rf_reg.predict(rf_df_clean(df, test_data=True)))\n",
    "\n",
    "    # XGB\n",
    "    xgb_data = xgb.DMatrix(xgb_df_clean(df, test_data=True), feature_names=xgb_cols)\n",
    "    yhat_xgb = booster.predict(xgb_data)\n",
    "\n",
    "    # make ensemble prediction\n",
    "    # Do more work to come up w/ weights. This is just a sample\n",
    "    yhat_final = yhat_ols1*(1/5) + yhat_ols_simple * (1/5) + yhat_lasso * (1/5) + yhat_rf * (1/5) + yhat_xgb * (1/5)\n",
    "\n",
    "    return yhat_final\n"
   ]
  },
  {
   "cell_type": "code",
   "execution_count": 345,
   "metadata": {},
   "outputs": [
    {
     "name": "stdout",
     "output_type": "stream",
     "text": [
      "RMSE Train: 26715.404209349443\n",
      "RMSE Test: 64885.10968337677\n"
     ]
    }
   ],
   "source": [
    "# final ensemble model RMSE\n",
    "yhat_train = housing_ensemble_model(train.drop(columns = [\"SalePrice\"]))\n",
    "yhat_test = housing_ensemble_model(test)\n",
    "\n",
    "rmse_train = np.mean((train.SalePrice - yhat_train)**2)**.5\n",
    "rmse_test = np.mean((sample.SalePrice - yhat_test)**2)**.5\n",
    "\n",
    "# evaluate rmse  on the testing data\n",
    "print(\"RMSE Train: {}\".format(rmse_train))\n",
    "print(\"RMSE Test: {}\".format(rmse_test))"
   ]
  },
  {
   "cell_type": "code",
   "execution_count": null,
   "metadata": {},
   "outputs": [],
   "source": []
  },
  {
   "cell_type": "code",
   "execution_count": null,
   "metadata": {},
   "outputs": [],
   "source": []
  },
  {
   "cell_type": "code",
   "execution_count": null,
   "metadata": {},
   "outputs": [],
   "source": []
  }
 ],
 "metadata": {
  "interpreter": {
   "hash": "f9a763963a0c2e3eb3033a1766c128288cb698df5642a2fe22798efe2c630a93"
  },
  "kernelspec": {
   "display_name": "Python 3.9.1 64-bit (conda)",
   "name": "python3"
  },
  "language_info": {
   "codemirror_mode": {
    "name": "ipython",
    "version": 3
   },
   "file_extension": ".py",
   "mimetype": "text/x-python",
   "name": "python",
   "nbconvert_exporter": "python",
   "pygments_lexer": "ipython3",
   "version": "3.9.1"
  },
  "orig_nbformat": 4
 },
 "nbformat": 4,
 "nbformat_minor": 2
}
