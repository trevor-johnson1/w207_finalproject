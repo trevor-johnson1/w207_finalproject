{
 "cells": [
  {
   "cell_type": "markdown",
   "metadata": {},
   "source": [
    "# House Prices - Advanced Regression Techniques\n",
    "\n",
    "## Deva Kulkarni, Jared Dec, Marc Semonick, Trevor Johnson\n",
    "\n",
    "## December 2021\n",
    "\n",
    "<br>\n",
    "\n",
    "The following report is based on the Kaggle competition: [\"House Prices - Advanced Regression Techniques\"](https://www.kaggle.com/c/house-prices-advanced-regression-techniques).  In the competition, participants are challenged to predict housing prices in Ames, Iowa based on a dataset complied by [James DeCock](https://http://jse.amstat.org/v19n3/decock.pdf).  The dataset contiains detailed data houses sold in Ames, Iowa between the years 2006 and 2010.  There are up to 80 data points per house, including expected hard data such as square feet for each floor and lot size, as well as some more subjective data like quality and condition.  The **inference problem** that we will attempt to solve in this report is: \n",
    "\n",
    "<p style=\"text-align: center;\">Given these data points for a house, predict the sale price of that house.</p>\n",
    "\n",
    "To guide the reader through our dolution of this inference problem, we will divide our approach into three main sections: Exploratory data analysis, feature engineering and model exploration, and our final predictive model.  The final deliverables will be this notebook containing all relevant code and descriptions, as well as a .csv output of our final predictions as required by the Kaggle competition."
   ]
  },
  {
   "cell_type": "markdown",
   "metadata": {},
   "source": [
    "# Setups"
   ]
  },
  {
   "cell_type": "markdown",
   "metadata": {},
   "source": [
    "Import modules"
   ]
  },
  {
   "cell_type": "code",
   "execution_count": 2,
   "metadata": {},
   "outputs": [],
   "source": [
    "import os \n",
    "import re\n",
    "\n",
    "# data manipulation/viz\n",
    "import pandas as pd \n",
    "import numpy as np \n",
    "import seaborn as sns\n",
    "import matplotlib.pyplot as plt\n",
    "\n",
    "# modeling setups\n",
    "from patsy import dmatrices\n",
    "from sklearn.model_selection import RandomizedSearchCV\n",
    "from sklearn.model_selection import train_test_split\n",
    "from sklearn.model_selection import GridSearchCV\n",
    "from sklearn.preprocessing import OneHotEncoder, StandardScaler, MinMaxScaler\n",
    "from sklearn.preprocessing import StandardScaler\n",
    "\n",
    "# linear modeling\n",
    "from sklearn.linear_model import LinearRegression\n",
    "from sklearn.linear_model import Lasso\n",
    "import statsmodels.api as sm\n",
    "from statsmodels.formula.api import glm \n",
    "\n",
    "# tree modeling\n",
    "from sklearn.tree import DecisionTreeRegressor\n",
    "from sklearn.ensemble import RandomForestRegressor\n",
    "import xgboost as xgb\n",
    "\n",
    "# other\n",
    "from sklearn.decomposition import PCA\n",
    "\n",
    "# turn off the df['col'] = x assignment warning\n",
    "#pd.options.mode.chained_assignment = None  # default='warn'"
   ]
  },
  {
   "cell_type": "code",
   "execution_count": 3,
   "metadata": {},
   "outputs": [],
   "source": [
    "# optional directory set-up\n",
    "train = pd.read_csv(\"../../housing_data/train.csv\")\n",
    "test = pd.read_csv(\"../../housing_data/test.csv\")\n",
    "sample = pd.read_csv(\"../../housing_data/sample_submission.csv\")"
   ]
  },
  {
   "cell_type": "code",
   "execution_count": null,
   "metadata": {},
   "outputs": [],
   "source": []
  }
 ],
 "metadata": {
  "interpreter": {
   "hash": "f9a763963a0c2e3eb3033a1766c128288cb698df5642a2fe22798efe2c630a93"
  },
  "kernelspec": {
   "display_name": "Python 3.9.1 64-bit (conda)",
   "language": "python",
   "name": "python3"
  },
  "language_info": {
   "codemirror_mode": {
    "name": "ipython",
    "version": 3
   },
   "file_extension": ".py",
   "mimetype": "text/x-python",
   "name": "python",
   "nbconvert_exporter": "python",
   "pygments_lexer": "ipython3",
   "version": "3.9.1"
  },
  "orig_nbformat": 4
 },
 "nbformat": 4,
 "nbformat_minor": 2
}
